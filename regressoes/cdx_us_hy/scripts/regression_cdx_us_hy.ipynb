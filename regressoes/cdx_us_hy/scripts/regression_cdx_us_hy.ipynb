{
 "cells": [
  {
   "cell_type": "code",
   "execution_count": 367,
   "id": "97519246",
   "metadata": {},
   "outputs": [],
   "source": [
    "import pandas as pd\n",
    "import os\n",
    "import logging\n",
    "import warnings\n",
    "import plotly.express as px\n",
    "from matplotlib.colors import LinearSegmentedColormap"
   ]
  },
  {
   "cell_type": "code",
   "execution_count": 368,
   "id": "8332dd02",
   "metadata": {},
   "outputs": [],
   "source": [
    "# # Configurar logging, para desligar é só comentar as linhas abaixo\n",
    "# logging.basicConfig(\n",
    "#     level=logging.INFO,\n",
    "#     format=\"%(asctime)s - %(levelname)s - %(message)s\",\n",
    "#     handlers=[\n",
    "#         logging.FileHandler(\"processamento.log\"),\n",
    "#         logging.StreamHandler()\n",
    "#     ]\n",
    "# )"
   ]
  },
  {
   "cell_type": "code",
   "execution_count": 369,
   "id": "7c49619b",
   "metadata": {},
   "outputs": [],
   "source": [
    "# Ignorar warnings do tipo FutureWarning\n",
    "warnings.simplefilter(action='ignore', category=FutureWarning)\n",
    "logging.info(\"Warnings do tipo FutureWarning ignorados.\")"
   ]
  },
  {
   "cell_type": "code",
   "execution_count": 370,
   "id": "89fccd9a",
   "metadata": {},
   "outputs": [],
   "source": [
    "try:\n",
    "    # Caminho para o primeiro arquivo (dados principais)\n",
    "    base_dir = os.path.join(\"..\", \"excel\", \"out\")\n",
    "    file_name = \"CDX_US_HY_spread_simple_analysis.xlsx\"\n",
    "    file_path = os.path.join(base_dir, file_name)\n",
    "    logging.info(f\"Lendo arquivo principal: {file_path}\")\n",
    "    regression = pd.read_excel(file_path)\n",
    "    logging.info(\"Arquivo principal carregado com sucesso.\")\n",
    "\n",
    "    # Caminho para o segundo arquivo (legendas)\n",
    "    base_dir_l = os.path.join(\"..\", \"excel\", \"in\")\n",
    "    file_name_l = \"legendas.xlsx\"\n",
    "    file_path_l = os.path.join(base_dir_l, file_name_l)\n",
    "    logging.info(f\"Lendo arquivo de legendas: {file_path_l}\")\n",
    "    leg = pd.read_excel(file_path_l)\n",
    "    logging.info(\"Arquivo de legendas carregado com sucesso.\")\n",
    "\n",
    "    # Renomear e adicionar coluna\n",
    "    regression.columns.values[0] = \"Codes\"\n",
    "    regression.insert(1, \"Names\", \"\")\n",
    "    logging.info(\"Coluna 'Codes' renomeada e 'Names' inserida.\")\n",
    "\n",
    "    # Criar mapeamento e exibir\n",
    "    mapping = dict(zip(leg[\"Codes\"], leg[\"Names\"]))\n",
    "    logging.info(f\"Mapa de legendas criado com {len(mapping)} entradas.\")\n",
    "    logging.debug(f\"Mapping: {mapping}\")  # Use DEBUG para não poluir o terminal\n",
    "\n",
    "    # Preencher nomes com base nos códigos\n",
    "    preenchidos = 0\n",
    "    for idx, code in regression[\"Codes\"].items():\n",
    "        if code in mapping:\n",
    "            regression.at[idx, \"Names\"] = mapping[code]\n",
    "            preenchidos += 1\n",
    "\n",
    "    logging.info(f\"{preenchidos} códigos preenchidos com nomes correspondentes.\")\n",
    "\n",
    "except FileNotFoundError as e:\n",
    "    logging.error(f\"Arquivo não encontrado: {e}\")\n",
    "    raise\n",
    "except Exception as e:\n",
    "    logging.error(f\"Erro durante o processamento: {e}\")\n",
    "    raise\n"
   ]
  },
  {
   "cell_type": "code",
   "execution_count": 371,
   "id": "c548eeb1",
   "metadata": {},
   "outputs": [],
   "source": [
    "# Adicionar a coluna 'Signal' ao DataFrame 'regression'\n",
    "regression.insert(0, 'Signal', \"\")\n",
    "\n",
    "output_path = '../excel/out/regression_with_signal.xlsx'\n",
    "regression.to_excel(output_path, index=False)\n",
    "\n",
    "logging.info(f\"Exportando DataFrame 'regression' com a coluna 'Signal' para o caminho: {output_path}\")"
   ]
  },
  {
   "cell_type": "code",
   "execution_count": 372,
   "id": "d3df5c0c",
   "metadata": {},
   "outputs": [],
   "source": [
    "file_path = '../excel/out/regression_with_signal.xlsx'\n",
    "# Ler o arquivo Excel\n",
    "regression = pd.read_excel(file_path)\n",
    "\n",
    "#display(regression)"
   ]
  },
  {
   "cell_type": "code",
   "execution_count": 373,
   "id": "df3aa132",
   "metadata": {},
   "outputs": [],
   "source": [
    "# regression.head(5)"
   ]
  },
  {
   "cell_type": "code",
   "execution_count": 374,
   "id": "0101b63d",
   "metadata": {},
   "outputs": [],
   "source": [
    "cmap_coef = LinearSegmentedColormap.from_list(\n",
    "    \"coef_cmap\",\n",
    "    [\"#F8696B\", \"#FFEB84\", \"#63BE7B\"]\n",
    ")"
   ]
  },
  {
   "cell_type": "code",
   "execution_count": 375,
   "id": "00f770be",
   "metadata": {},
   "outputs": [],
   "source": [
    "# Função para destacar p-values < 0.05\n",
    "def highlight_pval(v):\n",
    "    return \"color: red\" if v < 0.05 else \"\""
   ]
  },
  {
   "cell_type": "code",
   "execution_count": 376,
   "id": "842de2b4",
   "metadata": {},
   "outputs": [],
   "source": [
    "regression_styled = (\n",
    "    regression.style\n",
    "      # 3-color nas colunas mean e std (usando um colormap padrão)\n",
    "      .background_gradient(\n",
    "          subset=[\"mean\", \"std\"],\n",
    "          #cmap=\"viridis\"\n",
    "          cmap=cmap_coef\n",
    "      )\n",
    "      # 3-color em R2\n",
    "      .background_gradient(\n",
    "          subset=[\"R2\"],\n",
    "          #cmap=\"Blues\"\n",
    "          cmap=cmap_coef\n",
    "      )\n",
    "      # 3-color custom em coef\n",
    "      .background_gradient(\n",
    "          subset=[\"coef\"],\n",
    "          cmap=cmap_coef\n",
    "      )\n",
    "      # fonte vermelha em p-values abaixo de 0.05\n",
    "      .applymap(\n",
    "          highlight_pval,\n",
    "          subset=[\"pval_ADR\", \"pval_Coint\", \"pval\"]\n",
    "      )\n",
    "      #.set_caption(\"Regression\")\n",
    ")"
   ]
  },
  {
   "cell_type": "markdown",
   "id": "d909874a",
   "metadata": {},
   "source": [
    "### QUAIS VARIAVEIS EXPLICAM BEM O COMPORTAMENTO DO CDX_US_HX_SPREAD AO LONGO DO TEMPO ?"
   ]
  },
  {
   "cell_type": "markdown",
   "id": "c32506d0",
   "metadata": {},
   "source": [
    "tabela 1"
   ]
  },
  {
   "cell_type": "code",
   "execution_count": 377,
   "id": "db17c31c",
   "metadata": {},
   "outputs": [],
   "source": [
    "#regression_styled"
   ]
  },
  {
   "cell_type": "markdown",
   "id": "286a3d53",
   "metadata": {},
   "source": [
    "### Quanto da variação de Y é explicada pelas variáveis X do meu modelo?"
   ]
  },
  {
   "cell_type": "code",
   "execution_count": 378,
   "id": "1abbdd90",
   "metadata": {},
   "outputs": [
    {
     "data": {
      "application/vnd.plotly.v1+json": {
       "config": {
        "plotlyServerURL": "https://plot.ly"
       },
       "data": [
        {
         "hovertemplate": "<b>%{hovertext}</b><br><br>R2=%{marker.color}<br>Label=%{y}<extra></extra>",
         "hovertext": [
          "CDX HY BBG",
          "JPM FX Vol",
          "VIX SPX",
          "ISM Service (ZS)",
          "CDX IG BBG",
          "VIX Eurostoxx",
          "Global PMI Manufacturing (ZS)",
          "Eurozone Manufacturing PMI SA (ZS)",
          "Ted Spread Europe (%)",
          "MOVE",
          "ISM Manufacturing (ZS)",
          "10y Real Note Germany (%)",
          "Global PMI Composite (ZS)",
          "US Retail Sales SA (6m %ave chg)",
          "Eurozone Composite PMI SA (ZS)",
          "Global PMI Service (ZS)",
          "US Industrial Production SA (6m %ave chg)",
          "GDP US Chained 2012 Dollars YoY SA (%)",
          "Fed SPF Residential Investment 1y (Dispersion P75 - P25) (%)",
          "Eurostat Industrial Production Eurozone SWDA (6m %ave chg)"
         ],
         "legendgroup": "",
         "marker": {
          "color": {
           "bdata": "Iv32deCc6z9v8IXJVMHmPwisHFpkO+M/8kHPZtXn4j+MSuoENBHiPxIUP8bcteA/yJi7lpAP3j/QRNjw9ErdP/W52or9Zds/30+Nl24S2z8hH/RsVn3aP4EmwoanV9o/XdxGA3gL2D9PQBNhw9PXP/kP6bevA9c/bjSAt0CC1j/VCWgibHjWPzvfT42XbtY/SOF6FK5H1T/Mf0i/fR3UPw==",
           "dtype": "f8"
          },
          "coloraxis": "coloraxis",
          "pattern": {
           "shape": ""
          }
         },
         "name": "",
         "orientation": "h",
         "showlegend": false,
         "text": {
          "bdata": "Iv32deCc6z9v8IXJVMHmPwisHFpkO+M/8kHPZtXn4j+MSuoENBHiPxIUP8bcteA/yJi7lpAP3j/QRNjw9ErdP/W52or9Zds/30+Nl24S2z8hH/RsVn3aP4EmwoanV9o/XdxGA3gL2D9PQBNhw9PXP/kP6bevA9c/bjSAt0CC1j/VCWgibHjWPzvfT42XbtY/SOF6FK5H1T/Mf0i/fR3UPw==",
          "dtype": "f8"
         },
         "textposition": "outside",
         "texttemplate": "%{text:.2f}",
         "type": "bar",
         "x": {
          "bdata": "Iv32deCc6z9v8IXJVMHmPwisHFpkO+M/8kHPZtXn4j+MSuoENBHiPxIUP8bcteA/yJi7lpAP3j/QRNjw9ErdP/W52or9Zds/30+Nl24S2z8hH/RsVn3aP4EmwoanV9o/XdxGA3gL2D9PQBNhw9PXP/kP6bevA9c/bjSAt0CC1j/VCWgibHjWPzvfT42XbtY/SOF6FK5H1T/Mf0i/fR3UPw==",
          "dtype": "f8"
         },
         "xaxis": "x",
         "y": [
          "CDX HY",
          "JPM FX Vol",
          "VIX SPX",
          "ISM Srv",
          "CDX IG",
          "VIX Eurostoxx",
          "Gbl Mfg",
          "EZ Mfg",
          "TED Spread",
          "MOVE",
          "ISM Mfg",
          "10y Germany",
          "Gbl Comp",
          "US Retail 6m Avg %",
          "EZ Comp",
          "Gbl Srv",
          "US Ind Prod 6m Avg %",
          "GDP US YoY",
          "SPF Invest Dispersion",
          "EZ Ind Prod 6m Avg %"
         ],
         "yaxis": "y"
        }
       ],
       "layout": {
        "barmode": "relative",
        "coloraxis": {
         "colorbar": {
          "title": {
           "text": "R2"
          }
         },
         "colorscale": [
          [
           0,
           "#84c4e9"
          ],
          [
           1,
           "#104eab"
          ]
         ],
         "showscale": false
        },
        "legend": {
         "tracegroupgap": 0
        },
        "margin": {
         "b": 40,
         "l": 180,
         "r": 20,
         "t": 60
        },
        "template": {
         "data": {
          "bar": [
           {
            "error_x": {
             "color": "#2a3f5f"
            },
            "error_y": {
             "color": "#2a3f5f"
            },
            "marker": {
             "line": {
              "color": "white",
              "width": 0.5
             },
             "pattern": {
              "fillmode": "overlay",
              "size": 10,
              "solidity": 0.2
             }
            },
            "type": "bar"
           }
          ],
          "barpolar": [
           {
            "marker": {
             "line": {
              "color": "white",
              "width": 0.5
             },
             "pattern": {
              "fillmode": "overlay",
              "size": 10,
              "solidity": 0.2
             }
            },
            "type": "barpolar"
           }
          ],
          "carpet": [
           {
            "aaxis": {
             "endlinecolor": "#2a3f5f",
             "gridcolor": "#C8D4E3",
             "linecolor": "#C8D4E3",
             "minorgridcolor": "#C8D4E3",
             "startlinecolor": "#2a3f5f"
            },
            "baxis": {
             "endlinecolor": "#2a3f5f",
             "gridcolor": "#C8D4E3",
             "linecolor": "#C8D4E3",
             "minorgridcolor": "#C8D4E3",
             "startlinecolor": "#2a3f5f"
            },
            "type": "carpet"
           }
          ],
          "choropleth": [
           {
            "colorbar": {
             "outlinewidth": 0,
             "ticks": ""
            },
            "type": "choropleth"
           }
          ],
          "contour": [
           {
            "colorbar": {
             "outlinewidth": 0,
             "ticks": ""
            },
            "colorscale": [
             [
              0,
              "#0d0887"
             ],
             [
              0.1111111111111111,
              "#46039f"
             ],
             [
              0.2222222222222222,
              "#7201a8"
             ],
             [
              0.3333333333333333,
              "#9c179e"
             ],
             [
              0.4444444444444444,
              "#bd3786"
             ],
             [
              0.5555555555555556,
              "#d8576b"
             ],
             [
              0.6666666666666666,
              "#ed7953"
             ],
             [
              0.7777777777777778,
              "#fb9f3a"
             ],
             [
              0.8888888888888888,
              "#fdca26"
             ],
             [
              1,
              "#f0f921"
             ]
            ],
            "type": "contour"
           }
          ],
          "contourcarpet": [
           {
            "colorbar": {
             "outlinewidth": 0,
             "ticks": ""
            },
            "type": "contourcarpet"
           }
          ],
          "heatmap": [
           {
            "colorbar": {
             "outlinewidth": 0,
             "ticks": ""
            },
            "colorscale": [
             [
              0,
              "#0d0887"
             ],
             [
              0.1111111111111111,
              "#46039f"
             ],
             [
              0.2222222222222222,
              "#7201a8"
             ],
             [
              0.3333333333333333,
              "#9c179e"
             ],
             [
              0.4444444444444444,
              "#bd3786"
             ],
             [
              0.5555555555555556,
              "#d8576b"
             ],
             [
              0.6666666666666666,
              "#ed7953"
             ],
             [
              0.7777777777777778,
              "#fb9f3a"
             ],
             [
              0.8888888888888888,
              "#fdca26"
             ],
             [
              1,
              "#f0f921"
             ]
            ],
            "type": "heatmap"
           }
          ],
          "histogram": [
           {
            "marker": {
             "pattern": {
              "fillmode": "overlay",
              "size": 10,
              "solidity": 0.2
             }
            },
            "type": "histogram"
           }
          ],
          "histogram2d": [
           {
            "colorbar": {
             "outlinewidth": 0,
             "ticks": ""
            },
            "colorscale": [
             [
              0,
              "#0d0887"
             ],
             [
              0.1111111111111111,
              "#46039f"
             ],
             [
              0.2222222222222222,
              "#7201a8"
             ],
             [
              0.3333333333333333,
              "#9c179e"
             ],
             [
              0.4444444444444444,
              "#bd3786"
             ],
             [
              0.5555555555555556,
              "#d8576b"
             ],
             [
              0.6666666666666666,
              "#ed7953"
             ],
             [
              0.7777777777777778,
              "#fb9f3a"
             ],
             [
              0.8888888888888888,
              "#fdca26"
             ],
             [
              1,
              "#f0f921"
             ]
            ],
            "type": "histogram2d"
           }
          ],
          "histogram2dcontour": [
           {
            "colorbar": {
             "outlinewidth": 0,
             "ticks": ""
            },
            "colorscale": [
             [
              0,
              "#0d0887"
             ],
             [
              0.1111111111111111,
              "#46039f"
             ],
             [
              0.2222222222222222,
              "#7201a8"
             ],
             [
              0.3333333333333333,
              "#9c179e"
             ],
             [
              0.4444444444444444,
              "#bd3786"
             ],
             [
              0.5555555555555556,
              "#d8576b"
             ],
             [
              0.6666666666666666,
              "#ed7953"
             ],
             [
              0.7777777777777778,
              "#fb9f3a"
             ],
             [
              0.8888888888888888,
              "#fdca26"
             ],
             [
              1,
              "#f0f921"
             ]
            ],
            "type": "histogram2dcontour"
           }
          ],
          "mesh3d": [
           {
            "colorbar": {
             "outlinewidth": 0,
             "ticks": ""
            },
            "type": "mesh3d"
           }
          ],
          "parcoords": [
           {
            "line": {
             "colorbar": {
              "outlinewidth": 0,
              "ticks": ""
             }
            },
            "type": "parcoords"
           }
          ],
          "pie": [
           {
            "automargin": true,
            "type": "pie"
           }
          ],
          "scatter": [
           {
            "fillpattern": {
             "fillmode": "overlay",
             "size": 10,
             "solidity": 0.2
            },
            "type": "scatter"
           }
          ],
          "scatter3d": [
           {
            "line": {
             "colorbar": {
              "outlinewidth": 0,
              "ticks": ""
             }
            },
            "marker": {
             "colorbar": {
              "outlinewidth": 0,
              "ticks": ""
             }
            },
            "type": "scatter3d"
           }
          ],
          "scattercarpet": [
           {
            "marker": {
             "colorbar": {
              "outlinewidth": 0,
              "ticks": ""
             }
            },
            "type": "scattercarpet"
           }
          ],
          "scattergeo": [
           {
            "marker": {
             "colorbar": {
              "outlinewidth": 0,
              "ticks": ""
             }
            },
            "type": "scattergeo"
           }
          ],
          "scattergl": [
           {
            "marker": {
             "colorbar": {
              "outlinewidth": 0,
              "ticks": ""
             }
            },
            "type": "scattergl"
           }
          ],
          "scattermap": [
           {
            "marker": {
             "colorbar": {
              "outlinewidth": 0,
              "ticks": ""
             }
            },
            "type": "scattermap"
           }
          ],
          "scattermapbox": [
           {
            "marker": {
             "colorbar": {
              "outlinewidth": 0,
              "ticks": ""
             }
            },
            "type": "scattermapbox"
           }
          ],
          "scatterpolar": [
           {
            "marker": {
             "colorbar": {
              "outlinewidth": 0,
              "ticks": ""
             }
            },
            "type": "scatterpolar"
           }
          ],
          "scatterpolargl": [
           {
            "marker": {
             "colorbar": {
              "outlinewidth": 0,
              "ticks": ""
             }
            },
            "type": "scatterpolargl"
           }
          ],
          "scatterternary": [
           {
            "marker": {
             "colorbar": {
              "outlinewidth": 0,
              "ticks": ""
             }
            },
            "type": "scatterternary"
           }
          ],
          "surface": [
           {
            "colorbar": {
             "outlinewidth": 0,
             "ticks": ""
            },
            "colorscale": [
             [
              0,
              "#0d0887"
             ],
             [
              0.1111111111111111,
              "#46039f"
             ],
             [
              0.2222222222222222,
              "#7201a8"
             ],
             [
              0.3333333333333333,
              "#9c179e"
             ],
             [
              0.4444444444444444,
              "#bd3786"
             ],
             [
              0.5555555555555556,
              "#d8576b"
             ],
             [
              0.6666666666666666,
              "#ed7953"
             ],
             [
              0.7777777777777778,
              "#fb9f3a"
             ],
             [
              0.8888888888888888,
              "#fdca26"
             ],
             [
              1,
              "#f0f921"
             ]
            ],
            "type": "surface"
           }
          ],
          "table": [
           {
            "cells": {
             "fill": {
              "color": "#EBF0F8"
             },
             "line": {
              "color": "white"
             }
            },
            "header": {
             "fill": {
              "color": "#C8D4E3"
             },
             "line": {
              "color": "white"
             }
            },
            "type": "table"
           }
          ]
         },
         "layout": {
          "annotationdefaults": {
           "arrowcolor": "#2a3f5f",
           "arrowhead": 0,
           "arrowwidth": 1
          },
          "autotypenumbers": "strict",
          "coloraxis": {
           "colorbar": {
            "outlinewidth": 0,
            "ticks": ""
           }
          },
          "colorscale": {
           "diverging": [
            [
             0,
             "#8e0152"
            ],
            [
             0.1,
             "#c51b7d"
            ],
            [
             0.2,
             "#de77ae"
            ],
            [
             0.3,
             "#f1b6da"
            ],
            [
             0.4,
             "#fde0ef"
            ],
            [
             0.5,
             "#f7f7f7"
            ],
            [
             0.6,
             "#e6f5d0"
            ],
            [
             0.7,
             "#b8e186"
            ],
            [
             0.8,
             "#7fbc41"
            ],
            [
             0.9,
             "#4d9221"
            ],
            [
             1,
             "#276419"
            ]
           ],
           "sequential": [
            [
             0,
             "#0d0887"
            ],
            [
             0.1111111111111111,
             "#46039f"
            ],
            [
             0.2222222222222222,
             "#7201a8"
            ],
            [
             0.3333333333333333,
             "#9c179e"
            ],
            [
             0.4444444444444444,
             "#bd3786"
            ],
            [
             0.5555555555555556,
             "#d8576b"
            ],
            [
             0.6666666666666666,
             "#ed7953"
            ],
            [
             0.7777777777777778,
             "#fb9f3a"
            ],
            [
             0.8888888888888888,
             "#fdca26"
            ],
            [
             1,
             "#f0f921"
            ]
           ],
           "sequentialminus": [
            [
             0,
             "#0d0887"
            ],
            [
             0.1111111111111111,
             "#46039f"
            ],
            [
             0.2222222222222222,
             "#7201a8"
            ],
            [
             0.3333333333333333,
             "#9c179e"
            ],
            [
             0.4444444444444444,
             "#bd3786"
            ],
            [
             0.5555555555555556,
             "#d8576b"
            ],
            [
             0.6666666666666666,
             "#ed7953"
            ],
            [
             0.7777777777777778,
             "#fb9f3a"
            ],
            [
             0.8888888888888888,
             "#fdca26"
            ],
            [
             1,
             "#f0f921"
            ]
           ]
          },
          "colorway": [
           "#636efa",
           "#EF553B",
           "#00cc96",
           "#ab63fa",
           "#FFA15A",
           "#19d3f3",
           "#FF6692",
           "#B6E880",
           "#FF97FF",
           "#FECB52"
          ],
          "font": {
           "color": "#2a3f5f"
          },
          "geo": {
           "bgcolor": "white",
           "lakecolor": "white",
           "landcolor": "white",
           "showlakes": true,
           "showland": true,
           "subunitcolor": "#C8D4E3"
          },
          "hoverlabel": {
           "align": "left"
          },
          "hovermode": "closest",
          "mapbox": {
           "style": "light"
          },
          "paper_bgcolor": "white",
          "plot_bgcolor": "white",
          "polar": {
           "angularaxis": {
            "gridcolor": "#EBF0F8",
            "linecolor": "#EBF0F8",
            "ticks": ""
           },
           "bgcolor": "white",
           "radialaxis": {
            "gridcolor": "#EBF0F8",
            "linecolor": "#EBF0F8",
            "ticks": ""
           }
          },
          "scene": {
           "xaxis": {
            "backgroundcolor": "white",
            "gridcolor": "#DFE8F3",
            "gridwidth": 2,
            "linecolor": "#EBF0F8",
            "showbackground": true,
            "ticks": "",
            "zerolinecolor": "#EBF0F8"
           },
           "yaxis": {
            "backgroundcolor": "white",
            "gridcolor": "#DFE8F3",
            "gridwidth": 2,
            "linecolor": "#EBF0F8",
            "showbackground": true,
            "ticks": "",
            "zerolinecolor": "#EBF0F8"
           },
           "zaxis": {
            "backgroundcolor": "white",
            "gridcolor": "#DFE8F3",
            "gridwidth": 2,
            "linecolor": "#EBF0F8",
            "showbackground": true,
            "ticks": "",
            "zerolinecolor": "#EBF0F8"
           }
          },
          "shapedefaults": {
           "line": {
            "color": "#2a3f5f"
           }
          },
          "ternary": {
           "aaxis": {
            "gridcolor": "#DFE8F3",
            "linecolor": "#A2B1C6",
            "ticks": ""
           },
           "baxis": {
            "gridcolor": "#DFE8F3",
            "linecolor": "#A2B1C6",
            "ticks": ""
           },
           "bgcolor": "white",
           "caxis": {
            "gridcolor": "#DFE8F3",
            "linecolor": "#A2B1C6",
            "ticks": ""
           }
          },
          "title": {
           "x": 0.05
          },
          "xaxis": {
           "automargin": true,
           "gridcolor": "#EBF0F8",
           "linecolor": "#EBF0F8",
           "ticks": "",
           "title": {
            "standoff": 15
           },
           "zerolinecolor": "#EBF0F8",
           "zerolinewidth": 2
          },
          "yaxis": {
           "automargin": true,
           "gridcolor": "#EBF0F8",
           "linecolor": "#EBF0F8",
           "ticks": "",
           "title": {
            "standoff": 15
           },
           "zerolinecolor": "#EBF0F8",
           "zerolinewidth": 2
          }
         }
        },
        "title": {
         "text": "Top 20 séries por R² (com destaque de cor)"
        },
        "xaxis": {
         "anchor": "y",
         "domain": [
          0,
          1
         ],
         "range": [
          0,
          1
         ],
         "title": {
          "text": "R2"
         }
        },
        "yaxis": {
         "anchor": "x",
         "autorange": "reversed",
         "domain": [
          0,
          1
         ],
         "title": {
          "text": "Label"
         }
        }
       }
      }
     },
     "metadata": {},
     "output_type": "display_data"
    }
   ],
   "source": [
    "# Filtrar Top 20 e remover valores inválidos\n",
    "top_n = 20\n",
    "df_top_20_regression = regression.sort_values(by='R2', ascending=False).dropna(subset=['Names']).head(top_n)\n",
    "\n",
    "label_map = {\n",
    "    \"CDX HY BBG\": \"CDX HY\",\n",
    "    \"JPM FX Vol\": \"JPM FX Vol\",\n",
    "    \"VIX SPX\": \"VIX SPX\",\n",
    "    \"ISM Service (ZS)\": \"ISM Srv\",\n",
    "    \"CDX IG BBG\": \"CDX IG\",\n",
    "    \"VIX Eurostoxx\": \"VIX Eurostoxx\",\n",
    "    \"Global PMI Manufacturing (ZS)\": \"Gbl Mfg\",\n",
    "    \"Eurozone Manufacturing PMI SA (ZS)\": \"EZ Mfg\",\n",
    "    \"Ted Spread Europe (%)\": \"TED Spread\",\n",
    "    \"MOVE\": \"MOVE\",\n",
    "    \"ISM Manufacturing (ZS)\": \"ISM Mfg\",\n",
    "    \"10y Real Note Germany (%)\": \"10y Germany\",\n",
    "    \"Global PMI Composite (ZS)\": \"Gbl Comp\",\n",
    "    \"US Retail Sales SA (6m %ave chg)\": \"US Retail 6m Avg %\",\n",
    "    \"Eurozone Composite PMI SA (ZS)\": \"EZ Comp\",\n",
    "    \"Global PMI Service (ZS)\": \"Gbl Srv\",\n",
    "    \"US Industrial Production SA (6m %ave chg)\": \"US Ind Prod 6m Avg %\",\n",
    "    \"GDP US Chained 2012 Dollars YoY SA (%)\": \"GDP US YoY\",\n",
    "    \"Fed SPF Residential Investment 1y (Dispersion P75 - P25) (%)\": \"SPF Invest Dispersion\",\n",
    "    \"Eurostat Industrial Production Eurozone SWDA (6m %ave chg)\": \"EZ Ind Prod 6m Avg %\",\n",
    "}\n",
    "\n",
    "df_top_20_regression['Label'] = df_top_20_regression['Names'].map(label_map)\n",
    "\n",
    "fig = px.bar(\n",
    "    df_top_20_regression,\n",
    "    x='R2',\n",
    "    y='Label',\n",
    "    orientation='h',\n",
    "    hover_name='Names',\n",
    "    text='R2',\n",
    "    template='plotly_white',\n",
    "    title='Top 20 séries por R² (com destaque de cor)',\n",
    "    color='R2',  # define a intensidade de cor com base no R²\n",
    "    color_continuous_scale=[(0, \"#84c4e9\"), (1, \"#104eab\")],  # você pode testar 'Viridis', 'Cividis', 'Plasma', etc.\n",
    ")\n",
    "fig.update_traces(texttemplate='%{text:.2f}', textposition='outside')\n",
    "\n",
    "# Layout refinado\n",
    "fig.update_layout(\n",
    "    yaxis=dict(autorange=\"reversed\"),\n",
    "    xaxis_range=[0, 1],\n",
    "    margin=dict(t=60, b=40, l=180, r=20),\n",
    "    coloraxis_showscale=False  # opcional: esconde a barra de escala lateral\n",
    ")"
   ]
  },
  {
   "cell_type": "code",
   "execution_count": 379,
   "id": "51a08f3c",
   "metadata": {},
   "outputs": [],
   "source": [
    "#### PARTE 2 - Processamento de regs_summary - GERADO POR CDX_US_HY_spread_model.py\n",
    "\n",
    "try:\n",
    "    # Caminho para o primeiro arquivo (dados principais)\n",
    "    base_dir = os.path.join(\"..\", \"excel\", \"out\", 'US', 'Credit', 'HY', 't_0') \n",
    "    file_name = \"sectors_regs_summary.xlsx\"\n",
    "    file_path = os.path.join(base_dir, file_name)\n",
    "    logging.info(f\"Lendo arquivo regs_summary: {file_path}\")\n",
    "    summary = pd.read_excel(file_path)\n",
    "    logging.info(\"Arquivo regs_summary carregado com sucesso.\")\n",
    "\n",
    "    # Renomear e adicionar coluna\n",
    "    summary.rename(columns={\"idx\": \"Codes\"}, inplace=True)\n",
    "    summary.insert(summary.columns.get_loc(\"Codes\") + 1, \"Names\", \"\")\n",
    "    logging.info(\"Coluna 'Codes' renomeada e 'Names' inserida.\")\n",
    "    \n",
    "    # adicionar coef e pval\n",
    "    summary.insert(summary.columns.get_loc(\"Codes\") + 1, \"coef\", summary['Codes'].str.endswith('(coef)'))\n",
    "    summary.insert(summary.columns.get_loc(\"Codes\") + 2, \"pval\", summary['Codes'].str.endswith('(pval)'))\n",
    "    \n",
    "    # Preenche coef e pval com True/False\n",
    "    for idx, i in summary['coef'].items():\n",
    "        if i == True:\n",
    "            summary.at[idx, 'Codes'] = summary.at[idx, 'Codes'].replace(\" (coef)\", \"\")\n",
    "\n",
    "    for idx, i in summary['pval'].items():\n",
    "        if i == True:\n",
    "            summary.at[idx, 'Codes'] = summary.at[idx - 1, 'Codes']\n",
    "    \n",
    "    # Criar mapeamento e exibir\n",
    "    mapping = dict(zip(leg[\"Codes\"], leg[\"Names\"]))\n",
    "    logging.info(f\"Mapa de legendas criado com {len(mapping)} entradas.\")\n",
    "    logging.debug(f\"Mapping: {mapping}\") \n",
    "\n",
    "    # Preencher nomes com base nos códigos\n",
    "    preenchidos = 0\n",
    "    for idx, code in summary[\"Codes\"].items():\n",
    "        if code in mapping:\n",
    "            summary.at[idx, \"Names\"] = mapping[code]\n",
    "            preenchidos += 1\n",
    "\n",
    "    logging.info(f\"{preenchidos} códigos preenchidos com nomes correspondentes.\")\n",
    "\n",
    "except FileNotFoundError as e:\n",
    "    logging.error(f\"Arquivo não encontrado: {e}\")\n",
    "    raise\n",
    "except Exception as e:\n",
    "    logging.error(f\"Erro durante o processamento: {e}\")\n",
    "    raise\n"
   ]
  },
  {
   "cell_type": "code",
   "execution_count": 380,
   "id": "7f76e49e",
   "metadata": {},
   "outputs": [],
   "source": [
    "df_coef = summary[\n",
    "    (summary['coef'] == True) |\n",
    "    ((summary['pval'] == False) & (summary['coef'] == False))\n",
    "]\n",
    "\n",
    "df_pval = summary[\n",
    "    (summary['pval'] == True) |\n",
    "    ((summary['pval'] == False) & (summary['coef'] == False))\n",
    "]"
   ]
  },
  {
   "cell_type": "code",
   "execution_count": 381,
   "id": "26224385",
   "metadata": {},
   "outputs": [],
   "source": [
    "last_7_codes = df_coef['Codes'].iloc[-7:]\n",
    "df_coef.loc[df_coef.index[-7:], 'Names'] = last_7_codes.values\n",
    "df_pval.loc[df_pval.index[-7:], 'Names'] = last_7_codes.values"
   ]
  },
  {
   "cell_type": "code",
   "execution_count": 382,
   "id": "67d660c7",
   "metadata": {},
   "outputs": [],
   "source": [
    "coef = df_coef.copy()\n",
    "pval = df_pval.copy()\n",
    "coef_codes = df_coef.copy()\n",
    "coef.drop(columns=['Unnamed: 0','Codes', 'coef', 'pval'], inplace=True)\n",
    "pval.drop(columns=['Unnamed: 0','Codes', 'coef', 'pval'], inplace=True)"
   ]
  },
  {
   "cell_type": "code",
   "execution_count": 383,
   "id": "c8675c51",
   "metadata": {},
   "outputs": [],
   "source": [
    "# coef"
   ]
  },
  {
   "cell_type": "code",
   "execution_count": 384,
   "id": "b786f8d0",
   "metadata": {},
   "outputs": [],
   "source": [
    "# pval"
   ]
  },
  {
   "cell_type": "markdown",
   "id": "a695db60",
   "metadata": {},
   "source": [
    "tabela2"
   ]
  },
  {
   "cell_type": "code",
   "execution_count": 385,
   "id": "57f1b004",
   "metadata": {},
   "outputs": [],
   "source": [
    "# Criar dois DataFrames a partir do df_coef\n",
    "df_main = coef.iloc[:-7].copy()  # Todos menos as 7 últimas linhas\n",
    "df_statistics = coef.iloc[-7:].copy()  # As 7 últimas linhas (dados da regressão como AIC, BIC, DW, R²)\n",
    "df_statistics = df_statistics.drop(columns=[\"Signal\"], errors=\"ignore\")\n",
    "\n",
    "cols_to_convert_main = df_main.columns.difference(['Signal', 'Names'])\n",
    "df_main[cols_to_convert_main] = df_main[cols_to_convert_main].apply(pd.to_numeric, errors='coerce').round(3)\n",
    "\n",
    "cols_to_convert_stats = df_statistics.columns.difference(['Names'])\n",
    "df_statistics[cols_to_convert_stats] = df_statistics[cols_to_convert_stats].apply(pd.to_numeric, errors='coerce').round(3)\n",
    "\n",
    "df_statistics['best'] = df_statistics.iloc[:, 1:].max(axis=1)\n",
    "df_main = df_main.fillna('')\n",
    "df_statistics = df_statistics.fillna('')\n",
    "\n",
    "# display(df_main)\n",
    "# display(df_statistics)"
   ]
  },
  {
   "cell_type": "code",
   "execution_count": 386,
   "id": "4a801851",
   "metadata": {},
   "outputs": [],
   "source": [
    "def style_df_main(df):\n",
    "    def color_gradient(val):\n",
    "        try:\n",
    "            if pd.isna(val):\n",
    "                return ''\n",
    "            elif val > 0:\n",
    "                return f'background-color: rgba(0, 128, 0, {min(val / 5, 1)})'\n",
    "            else:\n",
    "                return f'background-color: rgba(255, 0, 0, {min(abs(val) / 5, 1)})'\n",
    "        except:\n",
    "            return ''\n",
    "\n",
    "    styled = df.style\n",
    "    styled = styled.applymap(color_gradient, subset=df.columns.difference(['Signal', 'Names']))\n",
    "    return styled"
   ]
  },
  {
   "cell_type": "code",
   "execution_count": 387,
   "id": "fa57ba68",
   "metadata": {},
   "outputs": [],
   "source": [
    "def style_df_stats(df):\n",
    "    def style_row(row):\n",
    "        name = df.loc[row.name, 'Names'] \n",
    "        styled = [''] * len(row)\n",
    "        if name == 'R2':\n",
    "            styled = [''] + ['background-color: #d0f0c0' if v >= 0.75 else 'background-color: #fdd' for v in row[1:]]\n",
    "        elif name == 'DW':\n",
    "            styled = [''] + ['background-color: #fdd' if (v < 1.5 or v > 2.5) else '' for v in row[1:]]\n",
    "        elif name == 'LMpv':\n",
    "            styled = [''] + ['background-color: #fdd' if v < 0.05 else '' for v in row[1:]]\n",
    "        elif name in ['AIC', 'BIC']:\n",
    "            min_val = row[1:].min()\n",
    "            styled = [''] + ['background-color: #cce5ff' if v == min_val else '' for v in row[1:]]\n",
    "        \n",
    "        return styled\n",
    "\n",
    "    return df.style.apply(style_row, axis=1)"
   ]
  },
  {
   "cell_type": "markdown",
   "id": "3a74dfd5",
   "metadata": {},
   "source": [
    "O beta das regressões refere-se aos coeficientes de regressão (`coef`) que representam o impacto de cada variável independente na variável dependente. Esses valores estão presentes na coluna `coef` do DataFrame `regression` ou `df_top_20_regression`, dependendo do contexto.\n",
    "\n",
    "Por exemplo, no DataFrame `df_top_20_regression`, os valores de beta (coeficientes) para as variáveis estão na coluna `coef`. Esses coeficientes indicam a magnitude e a direção do impacto de cada variável explicativa no comportamento do CDX_US_HY_spread."
   ]
  },
  {
   "cell_type": "code",
   "execution_count": 388,
   "id": "df350516",
   "metadata": {},
   "outputs": [
    {
     "data": {
      "text/html": [
       "<style type=\"text/css\">\n",
       "#T_58273_row0_col2 {\n",
       "  background-color: rgba(0, 128, 0, 0.1436);\n",
       "}\n",
       "#T_58273_row0_col3 {\n",
       "  background-color: rgba(0, 128, 0, 0.088);\n",
       "}\n",
       "#T_58273_row1_col1 {\n",
       "  background-color: rgba(255, 0, 0, 0.16499999999999998);\n",
       "}\n",
       "#T_58273_row1_col3 {\n",
       "  background-color: rgba(255, 0, 0, 0.121);\n",
       "}\n",
       "#T_58273_row1_col7, #T_58273_row1_col12, #T_58273_row1_col13, #T_58273_row1_col14, #T_58273_row1_col15, #T_58273_row1_col16 {\n",
       "  background-color: rgba(255, 0, 0, 0.07680000000000001);\n",
       "}\n",
       "#T_58273_row1_col8 {\n",
       "  background-color: rgba(255, 0, 0, 0.1004);\n",
       "}\n",
       "#T_58273_row1_col9 {\n",
       "  background-color: rgba(255, 0, 0, 0.1034);\n",
       "}\n",
       "#T_58273_row1_col10 {\n",
       "  background-color: rgba(255, 0, 0, 0.0748);\n",
       "}\n",
       "#T_58273_row1_col11 {\n",
       "  background-color: rgba(255, 0, 0, 0.0684);\n",
       "}\n",
       "#T_58273_row2_col4 {\n",
       "  background-color: rgba(0, 128, 0, 1);\n",
       "}\n",
       "#T_58273_row2_col5 {\n",
       "  background-color: rgba(0, 128, 0, 0.8662000000000001);\n",
       "}\n",
       "#T_58273_row2_col6 {\n",
       "  background-color: rgba(0, 128, 0, 0.893);\n",
       "}\n",
       "#T_58273_row2_col7, #T_58273_row2_col12, #T_58273_row2_col13, #T_58273_row2_col14, #T_58273_row2_col15, #T_58273_row2_col16 {\n",
       "  background-color: rgba(0, 128, 0, 0.8378);\n",
       "}\n",
       "#T_58273_row2_col8 {\n",
       "  background-color: rgba(0, 128, 0, 0.9196);\n",
       "}\n",
       "#T_58273_row2_col9 {\n",
       "  background-color: rgba(0, 128, 0, 0.9296);\n",
       "}\n",
       "#T_58273_row2_col10 {\n",
       "  background-color: rgba(0, 128, 0, 0.8316000000000001);\n",
       "}\n",
       "#T_58273_row2_col11 {\n",
       "  background-color: rgba(0, 128, 0, 0.8904);\n",
       "}\n",
       "#T_58273_row3_col7, #T_58273_row3_col12, #T_58273_row3_col13, #T_58273_row3_col14, #T_58273_row3_col15, #T_58273_row3_col16 {\n",
       "  background-color: rgba(0, 128, 0, 0.0021999999999999997);\n",
       "}\n",
       "#T_58273_row3_col8 {\n",
       "  background-color: rgba(0, 128, 0, 0.0032);\n",
       "}\n",
       "#T_58273_row3_col9 {\n",
       "  background-color: rgba(0, 128, 0, 0.0034000000000000002);\n",
       "}\n",
       "#T_58273_row3_col10 {\n",
       "  background-color: rgba(0, 128, 0, 0.002);\n",
       "}\n",
       "#T_58273_row4_col1 {\n",
       "  background-color: rgba(0, 128, 0, 0.31579999999999997);\n",
       "}\n",
       "#T_58273_row4_col2 {\n",
       "  background-color: rgba(0, 128, 0, 0.3204);\n",
       "}\n",
       "#T_58273_row4_col3 {\n",
       "  background-color: rgba(0, 128, 0, 0.24559999999999998);\n",
       "}\n",
       "#T_58273_row4_col4 {\n",
       "  background-color: rgba(0, 128, 0, 0.13899999999999998);\n",
       "}\n",
       "#T_58273_row4_col5 {\n",
       "  background-color: rgba(0, 128, 0, 0.0678);\n",
       "}\n",
       "#T_58273_row4_col8 {\n",
       "  background-color: rgba(0, 128, 0, 0.033600000000000005);\n",
       "}\n",
       "#T_58273_row4_col10 {\n",
       "  background-color: rgba(0, 128, 0, 0.0246);\n",
       "}\n",
       "#T_58273_row4_col11 {\n",
       "  background-color: rgba(0, 128, 0, 0.0374);\n",
       "}\n",
       "#T_58273_row5_col5 {\n",
       "  background-color: rgba(0, 128, 0, 0.1574);\n",
       "}\n",
       "#T_58273_row5_col6 {\n",
       "  background-color: rgba(0, 128, 0, 0.1674);\n",
       "}\n",
       "#T_58273_row5_col7, #T_58273_row5_col12, #T_58273_row5_col13, #T_58273_row5_col14, #T_58273_row5_col15, #T_58273_row5_col16 {\n",
       "  background-color: rgba(0, 128, 0, 0.0848);\n",
       "}\n",
       "#T_58273_row5_col10 {\n",
       "  background-color: rgba(0, 128, 0, 0.0836);\n",
       "}\n",
       "#T_58273_row5_col11 {\n",
       "  background-color: rgba(0, 128, 0, 0.0984);\n",
       "}\n",
       "</style>\n",
       "<table id=\"T_58273\">\n",
       "  <thead>\n",
       "    <tr>\n",
       "      <th class=\"blank level0\" >&nbsp;</th>\n",
       "      <th id=\"T_58273_level0_col0\" class=\"col_heading level0 col0\" >Names</th>\n",
       "      <th id=\"T_58273_level0_col1\" class=\"col_heading level0 col1\" >CDX_US_HY_spread</th>\n",
       "      <th id=\"T_58273_level0_col2\" class=\"col_heading level0 col2\" >CDX_US_HY_spread1</th>\n",
       "      <th id=\"T_58273_level0_col3\" class=\"col_heading level0 col3\" >CDX_US_HY_spread2</th>\n",
       "      <th id=\"T_58273_level0_col4\" class=\"col_heading level0 col4\" >CDX_US_HY_spread3</th>\n",
       "      <th id=\"T_58273_level0_col5\" class=\"col_heading level0 col5\" >CDX_US_HY_spread4</th>\n",
       "      <th id=\"T_58273_level0_col6\" class=\"col_heading level0 col6\" >CDX_US_HY_spread5</th>\n",
       "      <th id=\"T_58273_level0_col7\" class=\"col_heading level0 col7\" >CDX_US_HY_spread6</th>\n",
       "      <th id=\"T_58273_level0_col8\" class=\"col_heading level0 col8\" >CDX_US_HY_spread7</th>\n",
       "      <th id=\"T_58273_level0_col9\" class=\"col_heading level0 col9\" >CDX_US_HY_spread8</th>\n",
       "      <th id=\"T_58273_level0_col10\" class=\"col_heading level0 col10\" >CDX_US_HY_spread9</th>\n",
       "      <th id=\"T_58273_level0_col11\" class=\"col_heading level0 col11\" >CDX_US_HY_spread10</th>\n",
       "      <th id=\"T_58273_level0_col12\" class=\"col_heading level0 col12\" >CDX_US_HY_spread11</th>\n",
       "      <th id=\"T_58273_level0_col13\" class=\"col_heading level0 col13\" >CDX_US_HY_spread12</th>\n",
       "      <th id=\"T_58273_level0_col14\" class=\"col_heading level0 col14\" >CDX_US_HY_spread13</th>\n",
       "      <th id=\"T_58273_level0_col15\" class=\"col_heading level0 col15\" >CDX_US_HY_spread14</th>\n",
       "      <th id=\"T_58273_level0_col16\" class=\"col_heading level0 col16\" >CDX_US_HY_spread15</th>\n",
       "    </tr>\n",
       "  </thead>\n",
       "  <tbody>\n",
       "    <tr>\n",
       "      <th id=\"T_58273_level0_row0\" class=\"row_heading level0 row0\" >0</th>\n",
       "      <td id=\"T_58273_row0_col0\" class=\"data row0 col0\" >Fed Sloos Tight Std for C&I Loans (Small Firms) (ZS) (Smoothed)</td>\n",
       "      <td id=\"T_58273_row0_col1\" class=\"data row0 col1\" ></td>\n",
       "      <td id=\"T_58273_row0_col2\" class=\"data row0 col2\" >0.718000</td>\n",
       "      <td id=\"T_58273_row0_col3\" class=\"data row0 col3\" >0.440000</td>\n",
       "      <td id=\"T_58273_row0_col4\" class=\"data row0 col4\" ></td>\n",
       "      <td id=\"T_58273_row0_col5\" class=\"data row0 col5\" ></td>\n",
       "      <td id=\"T_58273_row0_col6\" class=\"data row0 col6\" ></td>\n",
       "      <td id=\"T_58273_row0_col7\" class=\"data row0 col7\" ></td>\n",
       "      <td id=\"T_58273_row0_col8\" class=\"data row0 col8\" ></td>\n",
       "      <td id=\"T_58273_row0_col9\" class=\"data row0 col9\" ></td>\n",
       "      <td id=\"T_58273_row0_col10\" class=\"data row0 col10\" ></td>\n",
       "      <td id=\"T_58273_row0_col11\" class=\"data row0 col11\" ></td>\n",
       "      <td id=\"T_58273_row0_col12\" class=\"data row0 col12\" ></td>\n",
       "      <td id=\"T_58273_row0_col13\" class=\"data row0 col13\" ></td>\n",
       "      <td id=\"T_58273_row0_col14\" class=\"data row0 col14\" ></td>\n",
       "      <td id=\"T_58273_row0_col15\" class=\"data row0 col15\" ></td>\n",
       "      <td id=\"T_58273_row0_col16\" class=\"data row0 col16\" ></td>\n",
       "    </tr>\n",
       "    <tr>\n",
       "      <th id=\"T_58273_level0_row1\" class=\"row_heading level0 row1\" >2</th>\n",
       "      <td id=\"T_58273_row1_col0\" class=\"data row1 col0\" >Global PMI Composite (ZS)</td>\n",
       "      <td id=\"T_58273_row1_col1\" class=\"data row1 col1\" >-0.825000</td>\n",
       "      <td id=\"T_58273_row1_col2\" class=\"data row1 col2\" ></td>\n",
       "      <td id=\"T_58273_row1_col3\" class=\"data row1 col3\" >-0.605000</td>\n",
       "      <td id=\"T_58273_row1_col4\" class=\"data row1 col4\" ></td>\n",
       "      <td id=\"T_58273_row1_col5\" class=\"data row1 col5\" ></td>\n",
       "      <td id=\"T_58273_row1_col6\" class=\"data row1 col6\" ></td>\n",
       "      <td id=\"T_58273_row1_col7\" class=\"data row1 col7\" >-0.384000</td>\n",
       "      <td id=\"T_58273_row1_col8\" class=\"data row1 col8\" >-0.502000</td>\n",
       "      <td id=\"T_58273_row1_col9\" class=\"data row1 col9\" >-0.517000</td>\n",
       "      <td id=\"T_58273_row1_col10\" class=\"data row1 col10\" >-0.374000</td>\n",
       "      <td id=\"T_58273_row1_col11\" class=\"data row1 col11\" >-0.342000</td>\n",
       "      <td id=\"T_58273_row1_col12\" class=\"data row1 col12\" >-0.384000</td>\n",
       "      <td id=\"T_58273_row1_col13\" class=\"data row1 col13\" >-0.384000</td>\n",
       "      <td id=\"T_58273_row1_col14\" class=\"data row1 col14\" >-0.384000</td>\n",
       "      <td id=\"T_58273_row1_col15\" class=\"data row1 col15\" >-0.384000</td>\n",
       "      <td id=\"T_58273_row1_col16\" class=\"data row1 col16\" >-0.384000</td>\n",
       "    </tr>\n",
       "    <tr>\n",
       "      <th id=\"T_58273_level0_row2\" class=\"row_heading level0 row2\" >4</th>\n",
       "      <td id=\"T_58273_row2_col0\" class=\"data row2 col0\" >JPM FX Vol</td>\n",
       "      <td id=\"T_58273_row2_col1\" class=\"data row2 col1\" ></td>\n",
       "      <td id=\"T_58273_row2_col2\" class=\"data row2 col2\" ></td>\n",
       "      <td id=\"T_58273_row2_col3\" class=\"data row2 col3\" ></td>\n",
       "      <td id=\"T_58273_row2_col4\" class=\"data row2 col4\" >5.885000</td>\n",
       "      <td id=\"T_58273_row2_col5\" class=\"data row2 col5\" >4.331000</td>\n",
       "      <td id=\"T_58273_row2_col6\" class=\"data row2 col6\" >4.465000</td>\n",
       "      <td id=\"T_58273_row2_col7\" class=\"data row2 col7\" >4.189000</td>\n",
       "      <td id=\"T_58273_row2_col8\" class=\"data row2 col8\" >4.598000</td>\n",
       "      <td id=\"T_58273_row2_col9\" class=\"data row2 col9\" >4.648000</td>\n",
       "      <td id=\"T_58273_row2_col10\" class=\"data row2 col10\" >4.158000</td>\n",
       "      <td id=\"T_58273_row2_col11\" class=\"data row2 col11\" >4.452000</td>\n",
       "      <td id=\"T_58273_row2_col12\" class=\"data row2 col12\" >4.189000</td>\n",
       "      <td id=\"T_58273_row2_col13\" class=\"data row2 col13\" >4.189000</td>\n",
       "      <td id=\"T_58273_row2_col14\" class=\"data row2 col14\" >4.189000</td>\n",
       "      <td id=\"T_58273_row2_col15\" class=\"data row2 col15\" >4.189000</td>\n",
       "      <td id=\"T_58273_row2_col16\" class=\"data row2 col16\" >4.189000</td>\n",
       "    </tr>\n",
       "    <tr>\n",
       "      <th id=\"T_58273_level0_row3\" class=\"row_heading level0 row3\" >6</th>\n",
       "      <td id=\"T_58273_row3_col0\" class=\"data row3 col0\" >MOVE</td>\n",
       "      <td id=\"T_58273_row3_col1\" class=\"data row3 col1\" ></td>\n",
       "      <td id=\"T_58273_row3_col2\" class=\"data row3 col2\" ></td>\n",
       "      <td id=\"T_58273_row3_col3\" class=\"data row3 col3\" ></td>\n",
       "      <td id=\"T_58273_row3_col4\" class=\"data row3 col4\" ></td>\n",
       "      <td id=\"T_58273_row3_col5\" class=\"data row3 col5\" ></td>\n",
       "      <td id=\"T_58273_row3_col6\" class=\"data row3 col6\" ></td>\n",
       "      <td id=\"T_58273_row3_col7\" class=\"data row3 col7\" >0.011000</td>\n",
       "      <td id=\"T_58273_row3_col8\" class=\"data row3 col8\" >0.016000</td>\n",
       "      <td id=\"T_58273_row3_col9\" class=\"data row3 col9\" >0.017000</td>\n",
       "      <td id=\"T_58273_row3_col10\" class=\"data row3 col10\" >0.010000</td>\n",
       "      <td id=\"T_58273_row3_col11\" class=\"data row3 col11\" ></td>\n",
       "      <td id=\"T_58273_row3_col12\" class=\"data row3 col12\" >0.011000</td>\n",
       "      <td id=\"T_58273_row3_col13\" class=\"data row3 col13\" >0.011000</td>\n",
       "      <td id=\"T_58273_row3_col14\" class=\"data row3 col14\" >0.011000</td>\n",
       "      <td id=\"T_58273_row3_col15\" class=\"data row3 col15\" >0.011000</td>\n",
       "      <td id=\"T_58273_row3_col16\" class=\"data row3 col16\" >0.011000</td>\n",
       "    </tr>\n",
       "    <tr>\n",
       "      <th id=\"T_58273_level0_row4\" class=\"row_heading level0 row4\" >8</th>\n",
       "      <td id=\"T_58273_row4_col0\" class=\"data row4 col0\" >Ted Spread US (%)</td>\n",
       "      <td id=\"T_58273_row4_col1\" class=\"data row4 col1\" >1.579000</td>\n",
       "      <td id=\"T_58273_row4_col2\" class=\"data row4 col2\" >1.602000</td>\n",
       "      <td id=\"T_58273_row4_col3\" class=\"data row4 col3\" >1.228000</td>\n",
       "      <td id=\"T_58273_row4_col4\" class=\"data row4 col4\" >0.695000</td>\n",
       "      <td id=\"T_58273_row4_col5\" class=\"data row4 col5\" >0.339000</td>\n",
       "      <td id=\"T_58273_row4_col6\" class=\"data row4 col6\" ></td>\n",
       "      <td id=\"T_58273_row4_col7\" class=\"data row4 col7\" ></td>\n",
       "      <td id=\"T_58273_row4_col8\" class=\"data row4 col8\" >0.168000</td>\n",
       "      <td id=\"T_58273_row4_col9\" class=\"data row4 col9\" ></td>\n",
       "      <td id=\"T_58273_row4_col10\" class=\"data row4 col10\" >0.123000</td>\n",
       "      <td id=\"T_58273_row4_col11\" class=\"data row4 col11\" >0.187000</td>\n",
       "      <td id=\"T_58273_row4_col12\" class=\"data row4 col12\" ></td>\n",
       "      <td id=\"T_58273_row4_col13\" class=\"data row4 col13\" ></td>\n",
       "      <td id=\"T_58273_row4_col14\" class=\"data row4 col14\" ></td>\n",
       "      <td id=\"T_58273_row4_col15\" class=\"data row4 col15\" ></td>\n",
       "      <td id=\"T_58273_row4_col16\" class=\"data row4 col16\" ></td>\n",
       "    </tr>\n",
       "    <tr>\n",
       "      <th id=\"T_58273_level0_row5\" class=\"row_heading level0 row5\" >10</th>\n",
       "      <td id=\"T_58273_row5_col0\" class=\"data row5 col0\" >VIX SPX</td>\n",
       "      <td id=\"T_58273_row5_col1\" class=\"data row5 col1\" ></td>\n",
       "      <td id=\"T_58273_row5_col2\" class=\"data row5 col2\" ></td>\n",
       "      <td id=\"T_58273_row5_col3\" class=\"data row5 col3\" ></td>\n",
       "      <td id=\"T_58273_row5_col4\" class=\"data row5 col4\" ></td>\n",
       "      <td id=\"T_58273_row5_col5\" class=\"data row5 col5\" >0.787000</td>\n",
       "      <td id=\"T_58273_row5_col6\" class=\"data row5 col6\" >0.837000</td>\n",
       "      <td id=\"T_58273_row5_col7\" class=\"data row5 col7\" >0.424000</td>\n",
       "      <td id=\"T_58273_row5_col8\" class=\"data row5 col8\" ></td>\n",
       "      <td id=\"T_58273_row5_col9\" class=\"data row5 col9\" ></td>\n",
       "      <td id=\"T_58273_row5_col10\" class=\"data row5 col10\" >0.418000</td>\n",
       "      <td id=\"T_58273_row5_col11\" class=\"data row5 col11\" >0.492000</td>\n",
       "      <td id=\"T_58273_row5_col12\" class=\"data row5 col12\" >0.424000</td>\n",
       "      <td id=\"T_58273_row5_col13\" class=\"data row5 col13\" >0.424000</td>\n",
       "      <td id=\"T_58273_row5_col14\" class=\"data row5 col14\" >0.424000</td>\n",
       "      <td id=\"T_58273_row5_col15\" class=\"data row5 col15\" >0.424000</td>\n",
       "      <td id=\"T_58273_row5_col16\" class=\"data row5 col16\" >0.424000</td>\n",
       "    </tr>\n",
       "  </tbody>\n",
       "</table>\n"
      ],
      "text/plain": [
       "<pandas.io.formats.style.Styler at 0x2bfa003e780>"
      ]
     },
     "metadata": {},
     "output_type": "display_data"
    }
   ],
   "source": [
    "# Exibir os DataFrames com formatação\n",
    "display(style_df_main(df_main))"
   ]
  },
  {
   "cell_type": "markdown",
   "id": "f5e97845",
   "metadata": {},
   "source": [
    "Dados Estatisticos:"
   ]
  },
  {
   "cell_type": "code",
   "execution_count": 389,
   "id": "739c0bdd",
   "metadata": {},
   "outputs": [
    {
     "data": {
      "text/html": [
       "<style type=\"text/css\">\n",
       "#T_47921_row1_col7, #T_47921_row1_col12, #T_47921_row1_col13, #T_47921_row1_col14, #T_47921_row1_col15, #T_47921_row1_col16, #T_47921_row2_col7, #T_47921_row2_col12, #T_47921_row2_col13, #T_47921_row2_col14, #T_47921_row2_col15, #T_47921_row2_col16 {\n",
       "  background-color: #cce5ff;\n",
       "}\n",
       "#T_47921_row3_col1, #T_47921_row3_col2, #T_47921_row3_col3, #T_47921_row3_col4, #T_47921_row3_col5, #T_47921_row3_col6, #T_47921_row3_col7, #T_47921_row3_col8, #T_47921_row3_col9, #T_47921_row3_col10, #T_47921_row3_col11, #T_47921_row3_col12, #T_47921_row3_col13, #T_47921_row3_col14, #T_47921_row3_col15, #T_47921_row3_col16, #T_47921_row3_col17, #T_47921_row4_col1, #T_47921_row4_col2, #T_47921_row4_col3, #T_47921_row4_col4, #T_47921_row4_col5, #T_47921_row4_col6, #T_47921_row4_col7, #T_47921_row4_col8, #T_47921_row4_col9, #T_47921_row4_col10, #T_47921_row4_col11, #T_47921_row4_col12, #T_47921_row4_col13, #T_47921_row4_col14, #T_47921_row4_col15, #T_47921_row4_col16, #T_47921_row4_col17, #T_47921_row6_col1, #T_47921_row6_col2, #T_47921_row6_col3, #T_47921_row6_col4 {\n",
       "  background-color: #fdd;\n",
       "}\n",
       "#T_47921_row6_col5, #T_47921_row6_col6, #T_47921_row6_col7, #T_47921_row6_col8, #T_47921_row6_col9, #T_47921_row6_col10, #T_47921_row6_col11, #T_47921_row6_col12, #T_47921_row6_col13, #T_47921_row6_col14, #T_47921_row6_col15, #T_47921_row6_col16, #T_47921_row6_col17 {\n",
       "  background-color: #d0f0c0;\n",
       "}\n",
       "</style>\n",
       "<table id=\"T_47921\">\n",
       "  <thead>\n",
       "    <tr>\n",
       "      <th class=\"blank level0\" >&nbsp;</th>\n",
       "      <th id=\"T_47921_level0_col0\" class=\"col_heading level0 col0\" >Names</th>\n",
       "      <th id=\"T_47921_level0_col1\" class=\"col_heading level0 col1\" >CDX_US_HY_spread</th>\n",
       "      <th id=\"T_47921_level0_col2\" class=\"col_heading level0 col2\" >CDX_US_HY_spread1</th>\n",
       "      <th id=\"T_47921_level0_col3\" class=\"col_heading level0 col3\" >CDX_US_HY_spread2</th>\n",
       "      <th id=\"T_47921_level0_col4\" class=\"col_heading level0 col4\" >CDX_US_HY_spread3</th>\n",
       "      <th id=\"T_47921_level0_col5\" class=\"col_heading level0 col5\" >CDX_US_HY_spread4</th>\n",
       "      <th id=\"T_47921_level0_col6\" class=\"col_heading level0 col6\" >CDX_US_HY_spread5</th>\n",
       "      <th id=\"T_47921_level0_col7\" class=\"col_heading level0 col7\" >CDX_US_HY_spread6</th>\n",
       "      <th id=\"T_47921_level0_col8\" class=\"col_heading level0 col8\" >CDX_US_HY_spread7</th>\n",
       "      <th id=\"T_47921_level0_col9\" class=\"col_heading level0 col9\" >CDX_US_HY_spread8</th>\n",
       "      <th id=\"T_47921_level0_col10\" class=\"col_heading level0 col10\" >CDX_US_HY_spread9</th>\n",
       "      <th id=\"T_47921_level0_col11\" class=\"col_heading level0 col11\" >CDX_US_HY_spread10</th>\n",
       "      <th id=\"T_47921_level0_col12\" class=\"col_heading level0 col12\" >CDX_US_HY_spread11</th>\n",
       "      <th id=\"T_47921_level0_col13\" class=\"col_heading level0 col13\" >CDX_US_HY_spread12</th>\n",
       "      <th id=\"T_47921_level0_col14\" class=\"col_heading level0 col14\" >CDX_US_HY_spread13</th>\n",
       "      <th id=\"T_47921_level0_col15\" class=\"col_heading level0 col15\" >CDX_US_HY_spread14</th>\n",
       "      <th id=\"T_47921_level0_col16\" class=\"col_heading level0 col16\" >CDX_US_HY_spread15</th>\n",
       "      <th id=\"T_47921_level0_col17\" class=\"col_heading level0 col17\" >best</th>\n",
       "    </tr>\n",
       "  </thead>\n",
       "  <tbody>\n",
       "    <tr>\n",
       "      <th id=\"T_47921_level0_row0\" class=\"row_heading level0 row0\" >12</th>\n",
       "      <td id=\"T_47921_row0_col0\" class=\"data row0 col0\" >intercept</td>\n",
       "      <td id=\"T_47921_row0_col1\" class=\"data row0 col1\" >0.037000</td>\n",
       "      <td id=\"T_47921_row0_col2\" class=\"data row0 col2\" >0.038000</td>\n",
       "      <td id=\"T_47921_row0_col3\" class=\"data row0 col3\" >0.039000</td>\n",
       "      <td id=\"T_47921_row0_col4\" class=\"data row0 col4\" >-0.014000</td>\n",
       "      <td id=\"T_47921_row0_col5\" class=\"data row0 col5\" >-0.014000</td>\n",
       "      <td id=\"T_47921_row0_col6\" class=\"data row0 col6\" >-0.014000</td>\n",
       "      <td id=\"T_47921_row0_col7\" class=\"data row0 col7\" >-0.011000</td>\n",
       "      <td id=\"T_47921_row0_col8\" class=\"data row0 col8\" >-0.011000</td>\n",
       "      <td id=\"T_47921_row0_col9\" class=\"data row0 col9\" >-0.011000</td>\n",
       "      <td id=\"T_47921_row0_col10\" class=\"data row0 col10\" >-0.011000</td>\n",
       "      <td id=\"T_47921_row0_col11\" class=\"data row0 col11\" >-0.009000</td>\n",
       "      <td id=\"T_47921_row0_col12\" class=\"data row0 col12\" >-0.011000</td>\n",
       "      <td id=\"T_47921_row0_col13\" class=\"data row0 col13\" >-0.011000</td>\n",
       "      <td id=\"T_47921_row0_col14\" class=\"data row0 col14\" >-0.011000</td>\n",
       "      <td id=\"T_47921_row0_col15\" class=\"data row0 col15\" >-0.011000</td>\n",
       "      <td id=\"T_47921_row0_col16\" class=\"data row0 col16\" >-0.011000</td>\n",
       "      <td id=\"T_47921_row0_col17\" class=\"data row0 col17\" >0.039000</td>\n",
       "    </tr>\n",
       "    <tr>\n",
       "      <th id=\"T_47921_level0_row1\" class=\"row_heading level0 row1\" >14</th>\n",
       "      <td id=\"T_47921_row1_col0\" class=\"data row1 col0\" >AIC</td>\n",
       "      <td id=\"T_47921_row1_col1\" class=\"data row1 col1\" >-1499.660000</td>\n",
       "      <td id=\"T_47921_row1_col2\" class=\"data row1 col2\" >-1484.170000</td>\n",
       "      <td id=\"T_47921_row1_col3\" class=\"data row1 col3\" >-1519.980000</td>\n",
       "      <td id=\"T_47921_row1_col4\" class=\"data row1 col4\" >-1678.920000</td>\n",
       "      <td id=\"T_47921_row1_col5\" class=\"data row1 col5\" >-1732.180000</td>\n",
       "      <td id=\"T_47921_row1_col6\" class=\"data row1 col6\" >-1730.540000</td>\n",
       "      <td id=\"T_47921_row1_col7\" class=\"data row1 col7\" >-1761.070000</td>\n",
       "      <td id=\"T_47921_row1_col8\" class=\"data row1 col8\" >-1748.690000</td>\n",
       "      <td id=\"T_47921_row1_col9\" class=\"data row1 col9\" >-1749.770000</td>\n",
       "      <td id=\"T_47921_row1_col10\" class=\"data row1 col10\" >-1759.580000</td>\n",
       "      <td id=\"T_47921_row1_col11\" class=\"data row1 col11\" >-1757.240000</td>\n",
       "      <td id=\"T_47921_row1_col12\" class=\"data row1 col12\" >-1761.070000</td>\n",
       "      <td id=\"T_47921_row1_col13\" class=\"data row1 col13\" >-1761.070000</td>\n",
       "      <td id=\"T_47921_row1_col14\" class=\"data row1 col14\" >-1761.070000</td>\n",
       "      <td id=\"T_47921_row1_col15\" class=\"data row1 col15\" >-1761.070000</td>\n",
       "      <td id=\"T_47921_row1_col16\" class=\"data row1 col16\" >-1761.070000</td>\n",
       "      <td id=\"T_47921_row1_col17\" class=\"data row1 col17\" >-1484.170000</td>\n",
       "    </tr>\n",
       "    <tr>\n",
       "      <th id=\"T_47921_level0_row2\" class=\"row_heading level0 row2\" >15</th>\n",
       "      <td id=\"T_47921_row2_col0\" class=\"data row2 col0\" >BIC</td>\n",
       "      <td id=\"T_47921_row2_col1\" class=\"data row2 col1\" >-1488.940000</td>\n",
       "      <td id=\"T_47921_row2_col2\" class=\"data row2 col2\" >-1473.450000</td>\n",
       "      <td id=\"T_47921_row2_col3\" class=\"data row2 col3\" >-1505.670000</td>\n",
       "      <td id=\"T_47921_row2_col4\" class=\"data row2 col4\" >-1668.190000</td>\n",
       "      <td id=\"T_47921_row2_col5\" class=\"data row2 col5\" >-1717.880000</td>\n",
       "      <td id=\"T_47921_row2_col6\" class=\"data row2 col6\" >-1719.810000</td>\n",
       "      <td id=\"T_47921_row2_col7\" class=\"data row2 col7\" >-1743.190000</td>\n",
       "      <td id=\"T_47921_row2_col8\" class=\"data row2 col8\" >-1730.810000</td>\n",
       "      <td id=\"T_47921_row2_col9\" class=\"data row2 col9\" >-1735.470000</td>\n",
       "      <td id=\"T_47921_row2_col10\" class=\"data row2 col10\" >-1738.130000</td>\n",
       "      <td id=\"T_47921_row2_col11\" class=\"data row2 col11\" >-1739.360000</td>\n",
       "      <td id=\"T_47921_row2_col12\" class=\"data row2 col12\" >-1743.190000</td>\n",
       "      <td id=\"T_47921_row2_col13\" class=\"data row2 col13\" >-1743.190000</td>\n",
       "      <td id=\"T_47921_row2_col14\" class=\"data row2 col14\" >-1743.190000</td>\n",
       "      <td id=\"T_47921_row2_col15\" class=\"data row2 col15\" >-1743.190000</td>\n",
       "      <td id=\"T_47921_row2_col16\" class=\"data row2 col16\" >-1743.190000</td>\n",
       "      <td id=\"T_47921_row2_col17\" class=\"data row2 col17\" >-1473.450000</td>\n",
       "    </tr>\n",
       "    <tr>\n",
       "      <th id=\"T_47921_level0_row3\" class=\"row_heading level0 row3\" >16</th>\n",
       "      <td id=\"T_47921_row3_col0\" class=\"data row3 col0\" >DW</td>\n",
       "      <td id=\"T_47921_row3_col1\" class=\"data row3 col1\" >0.200000</td>\n",
       "      <td id=\"T_47921_row3_col2\" class=\"data row3 col2\" >0.190000</td>\n",
       "      <td id=\"T_47921_row3_col3\" class=\"data row3 col3\" >0.200000</td>\n",
       "      <td id=\"T_47921_row3_col4\" class=\"data row3 col4\" >0.370000</td>\n",
       "      <td id=\"T_47921_row3_col5\" class=\"data row3 col5\" >0.460000</td>\n",
       "      <td id=\"T_47921_row3_col6\" class=\"data row3 col6\" >0.440000</td>\n",
       "      <td id=\"T_47921_row3_col7\" class=\"data row3 col7\" >0.430000</td>\n",
       "      <td id=\"T_47921_row3_col8\" class=\"data row3 col8\" >0.420000</td>\n",
       "      <td id=\"T_47921_row3_col9\" class=\"data row3 col9\" >0.410000</td>\n",
       "      <td id=\"T_47921_row3_col10\" class=\"data row3 col10\" >0.430000</td>\n",
       "      <td id=\"T_47921_row3_col11\" class=\"data row3 col11\" >0.440000</td>\n",
       "      <td id=\"T_47921_row3_col12\" class=\"data row3 col12\" >0.430000</td>\n",
       "      <td id=\"T_47921_row3_col13\" class=\"data row3 col13\" >0.430000</td>\n",
       "      <td id=\"T_47921_row3_col14\" class=\"data row3 col14\" >0.430000</td>\n",
       "      <td id=\"T_47921_row3_col15\" class=\"data row3 col15\" >0.430000</td>\n",
       "      <td id=\"T_47921_row3_col16\" class=\"data row3 col16\" >0.430000</td>\n",
       "      <td id=\"T_47921_row3_col17\" class=\"data row3 col17\" >0.460000</td>\n",
       "    </tr>\n",
       "    <tr>\n",
       "      <th id=\"T_47921_level0_row4\" class=\"row_heading level0 row4\" >17</th>\n",
       "      <td id=\"T_47921_row4_col0\" class=\"data row4 col0\" >LMpv</td>\n",
       "      <td id=\"T_47921_row4_col1\" class=\"data row4 col1\" >0.000000</td>\n",
       "      <td id=\"T_47921_row4_col2\" class=\"data row4 col2\" >0.000000</td>\n",
       "      <td id=\"T_47921_row4_col3\" class=\"data row4 col3\" >0.000000</td>\n",
       "      <td id=\"T_47921_row4_col4\" class=\"data row4 col4\" >0.000000</td>\n",
       "      <td id=\"T_47921_row4_col5\" class=\"data row4 col5\" >0.000000</td>\n",
       "      <td id=\"T_47921_row4_col6\" class=\"data row4 col6\" >0.000000</td>\n",
       "      <td id=\"T_47921_row4_col7\" class=\"data row4 col7\" >0.000000</td>\n",
       "      <td id=\"T_47921_row4_col8\" class=\"data row4 col8\" >0.000000</td>\n",
       "      <td id=\"T_47921_row4_col9\" class=\"data row4 col9\" >0.000000</td>\n",
       "      <td id=\"T_47921_row4_col10\" class=\"data row4 col10\" >0.000000</td>\n",
       "      <td id=\"T_47921_row4_col11\" class=\"data row4 col11\" >0.000000</td>\n",
       "      <td id=\"T_47921_row4_col12\" class=\"data row4 col12\" >0.000000</td>\n",
       "      <td id=\"T_47921_row4_col13\" class=\"data row4 col13\" >0.000000</td>\n",
       "      <td id=\"T_47921_row4_col14\" class=\"data row4 col14\" >0.000000</td>\n",
       "      <td id=\"T_47921_row4_col15\" class=\"data row4 col15\" >0.000000</td>\n",
       "      <td id=\"T_47921_row4_col16\" class=\"data row4 col16\" >0.000000</td>\n",
       "      <td id=\"T_47921_row4_col17\" class=\"data row4 col17\" >0.000000</td>\n",
       "    </tr>\n",
       "    <tr>\n",
       "      <th id=\"T_47921_level0_row5\" class=\"row_heading level0 row5\" >18</th>\n",
       "      <td id=\"T_47921_row5_col0\" class=\"data row5 col0\" >MSE</td>\n",
       "      <td id=\"T_47921_row5_col1\" class=\"data row5 col1\" >0.000000</td>\n",
       "      <td id=\"T_47921_row5_col2\" class=\"data row5 col2\" >0.000000</td>\n",
       "      <td id=\"T_47921_row5_col3\" class=\"data row5 col3\" >0.000000</td>\n",
       "      <td id=\"T_47921_row5_col4\" class=\"data row5 col4\" >0.000000</td>\n",
       "      <td id=\"T_47921_row5_col5\" class=\"data row5 col5\" >0.000000</td>\n",
       "      <td id=\"T_47921_row5_col6\" class=\"data row5 col6\" >0.000000</td>\n",
       "      <td id=\"T_47921_row5_col7\" class=\"data row5 col7\" >0.000000</td>\n",
       "      <td id=\"T_47921_row5_col8\" class=\"data row5 col8\" >0.000000</td>\n",
       "      <td id=\"T_47921_row5_col9\" class=\"data row5 col9\" >0.000000</td>\n",
       "      <td id=\"T_47921_row5_col10\" class=\"data row5 col10\" >0.000000</td>\n",
       "      <td id=\"T_47921_row5_col11\" class=\"data row5 col11\" >0.000000</td>\n",
       "      <td id=\"T_47921_row5_col12\" class=\"data row5 col12\" >0.000000</td>\n",
       "      <td id=\"T_47921_row5_col13\" class=\"data row5 col13\" >0.000000</td>\n",
       "      <td id=\"T_47921_row5_col14\" class=\"data row5 col14\" >0.000000</td>\n",
       "      <td id=\"T_47921_row5_col15\" class=\"data row5 col15\" >0.000000</td>\n",
       "      <td id=\"T_47921_row5_col16\" class=\"data row5 col16\" >0.000000</td>\n",
       "      <td id=\"T_47921_row5_col17\" class=\"data row5 col17\" >0.000000</td>\n",
       "    </tr>\n",
       "    <tr>\n",
       "      <th id=\"T_47921_level0_row6\" class=\"row_heading level0 row6\" >19</th>\n",
       "      <td id=\"T_47921_row6_col0\" class=\"data row6 col0\" >R2</td>\n",
       "      <td id=\"T_47921_row6_col1\" class=\"data row6 col1\" >0.450000</td>\n",
       "      <td id=\"T_47921_row6_col2\" class=\"data row6 col2\" >0.420000</td>\n",
       "      <td id=\"T_47921_row6_col3\" class=\"data row6 col3\" >0.500000</td>\n",
       "      <td id=\"T_47921_row6_col4\" class=\"data row6 col4\" >0.720000</td>\n",
       "      <td id=\"T_47921_row6_col5\" class=\"data row6 col5\" >0.770000</td>\n",
       "      <td id=\"T_47921_row6_col6\" class=\"data row6 col6\" >0.770000</td>\n",
       "      <td id=\"T_47921_row6_col7\" class=\"data row6 col7\" >0.800000</td>\n",
       "      <td id=\"T_47921_row6_col8\" class=\"data row6 col8\" >0.790000</td>\n",
       "      <td id=\"T_47921_row6_col9\" class=\"data row6 col9\" >0.790000</td>\n",
       "      <td id=\"T_47921_row6_col10\" class=\"data row6 col10\" >0.800000</td>\n",
       "      <td id=\"T_47921_row6_col11\" class=\"data row6 col11\" >0.800000</td>\n",
       "      <td id=\"T_47921_row6_col12\" class=\"data row6 col12\" >0.800000</td>\n",
       "      <td id=\"T_47921_row6_col13\" class=\"data row6 col13\" >0.800000</td>\n",
       "      <td id=\"T_47921_row6_col14\" class=\"data row6 col14\" >0.800000</td>\n",
       "      <td id=\"T_47921_row6_col15\" class=\"data row6 col15\" >0.800000</td>\n",
       "      <td id=\"T_47921_row6_col16\" class=\"data row6 col16\" >0.800000</td>\n",
       "      <td id=\"T_47921_row6_col17\" class=\"data row6 col17\" >0.800000</td>\n",
       "    </tr>\n",
       "  </tbody>\n",
       "</table>\n"
      ],
      "text/plain": [
       "<pandas.io.formats.style.Styler at 0x2bfa003e780>"
      ]
     },
     "metadata": {},
     "output_type": "display_data"
    }
   ],
   "source": [
    "display(style_df_stats(df_statistics))"
   ]
  },
  {
   "cell_type": "markdown",
   "id": "745a2a1f",
   "metadata": {},
   "source": [
    "# TERCEIRA TABELA\n"
   ]
  },
  {
   "cell_type": "code",
   "execution_count": 390,
   "id": "0fbeb406",
   "metadata": {},
   "outputs": [],
   "source": [
    "# # Renomear as colunas, mantendo \"Signal\" e \"Names\" intactas\n",
    "# new_columns = []\n",
    "\n",
    "# for col in df_coef.columns:\n",
    "#     if col.startswith(\"CDX_US_HY_spread\"):\n",
    "#         # Extraia o número do final (ou 0 se não houver sufixo)\n",
    "#         suffix = col.replace(\"CDX_US_HY_spread\", \"\")\n",
    "#         number = int(suffix) + 1 if suffix.isdigit() else 1\n",
    "#         new_columns.append(str(number))\n",
    "#     else:\n",
    "#         new_columns.append(col)\n",
    "\n",
    "# # Atribuir os novos nomes ao DataFrame\n",
    "# df_coef.columns = new_columns\n"
   ]
  },
  {
   "cell_type": "code",
   "execution_count": 391,
   "id": "e7393758",
   "metadata": {},
   "outputs": [],
   "source": [
    "# new_columns = []\n",
    "\n",
    "# for col in df_pval.columns:\n",
    "#     if col.startswith(\"CDX_US_HY_spread\"):\n",
    "#         # Extraia o número do final (ou 0 se não houver sufixo)\n",
    "#         suffix = col.replace(\"CDX_US_HY_spread\", \"\")\n",
    "#         number = int(suffix) + 1 if suffix.isdigit() else 1\n",
    "#         new_columns.append(str(number))\n",
    "#     else:\n",
    "#         new_columns.append(col)\n",
    "\n",
    "# # Atribuir os novos nomes ao DataFrame\n",
    "# df_pval.columns = new_columns\n"
   ]
  },
  {
   "cell_type": "code",
   "execution_count": 392,
   "id": "4272408c",
   "metadata": {},
   "outputs": [],
   "source": [
    "# output_path = '../excel/out/df_coef_exported.xlsx'\n",
    "# df_coef.to_excel(output_path, index=False)\n",
    "\n",
    "# output_path2 = '../excel/out/df_pval_exported.xlsx'\n",
    "# df_pval.to_excel(output_path2, index=False)"
   ]
  },
  {
   "cell_type": "code",
   "execution_count": 393,
   "id": "5ff333d1",
   "metadata": {},
   "outputs": [],
   "source": [
    "# df_completo = df_completo[df_completo['coef'] == True]\n",
    "# # df_completo"
   ]
  },
  {
   "cell_type": "code",
   "execution_count": 394,
   "id": "764e4a55",
   "metadata": {},
   "outputs": [],
   "source": [
    "# Parte 3\n",
    "### pegar os valores das variaveis\n",
    "\n",
    "notebook_dir = os.getcwd()\n",
    "file_path = os.path.abspath(\n",
    "    os.path.join(notebook_dir, '..', 'excel', 'in', 'out_DB_D.xlsx') # valores padronizados da regressao\n",
    ")\n",
    "try:\n",
    "    serie_hist = pd.read_excel(file_path)\n",
    "    logging.info(f\"Arquivo lido com sucesso: {file_path}\")\n",
    "except Exception as e:\n",
    "    logging.error(f\"Falha ao ler o arquivo {file_path}: {e}\")\n",
    "    raise"
   ]
  },
  {
   "cell_type": "markdown",
   "id": "9b8fe029",
   "metadata": {},
   "source": [
    "\n",
    "$$\n",
    "\\text{Contribuição}_{i,t} = \\beta_{i,t} \\cdot \\Delta x_i\n",
    "$$\n"
   ]
  },
  {
   "cell_type": "code",
   "execution_count": 395,
   "id": "90238db0",
   "metadata": {},
   "outputs": [],
   "source": [
    "#serie_hist.head()"
   ]
  },
  {
   "cell_type": "code",
   "execution_count": 396,
   "id": "e492d1bd",
   "metadata": {},
   "outputs": [],
   "source": [
    "#Pegar as colunas\n",
    "cols = serie_hist.columns.tolist()\n",
    "# cols"
   ]
  },
  {
   "cell_type": "code",
   "execution_count": 397,
   "id": "176d8a4f",
   "metadata": {},
   "outputs": [],
   "source": [
    "#coef_codes['Codes']"
   ]
  },
  {
   "cell_type": "code",
   "execution_count": 398,
   "id": "0a4ec1c9",
   "metadata": {},
   "outputs": [
    {
     "name": "stdout",
     "output_type": "stream",
     "text": [
      "['date', 'ted_spread_us', 'vix', 'jpm_vol', 'move']\n"
     ]
    }
   ],
   "source": [
    "# df_main é o df dos coeficientes \n",
    "comuns = list(set(coef_codes['Codes'].tolist()) & set(cols))\n",
    "comuns.insert(0, \"date\")\n",
    "print(comuns)"
   ]
  },
  {
   "cell_type": "code",
   "execution_count": 399,
   "id": "9f808a20",
   "metadata": {},
   "outputs": [],
   "source": [
    "df_filtered_serie = serie_hist.loc[serie_hist.index[-30:], comuns]\n",
    "pd.set_option('display.max_rows', None)  # Mostra todas as linhas\n",
    "pd.set_option('display.max_columns', None)  # Mostra todas as colunas\n",
    "# Conta o número de linhas e colunas no dataframe\n",
    "num_linhas, num_colunas = df_filtered_serie.shape\n",
    "\n",
    "#display(df_filtered_serie)\n",
    "\n",
    "# print(f\"Número de linhas: {num_linhas}\")\n",
    "# print(f\"Número de colunas: {num_colunas}\")"
   ]
  },
  {
   "cell_type": "code",
   "execution_count": 400,
   "id": "0ad7223e",
   "metadata": {},
   "outputs": [],
   "source": [
    "delta_x = df_filtered_serie.iloc[-1] - df_filtered_serie.iloc[0]\n",
    "# print(delta_x)"
   ]
  },
  {
   "cell_type": "code",
   "execution_count": 401,
   "id": "dac96e0a",
   "metadata": {},
   "outputs": [],
   "source": [
    "filtered_codes = coef_codes[coef_codes['Codes'].isin(comuns)].copy()\n",
    "filtered_codes = filtered_codes[['Codes', 'Names']]\n",
    "#display(filtered_codes)\n"
   ]
  },
  {
   "cell_type": "code",
   "execution_count": 402,
   "id": "8a0463ed",
   "metadata": {},
   "outputs": [],
   "source": [
    "# Cria dicionários para início, fim e delta\n",
    "inicios_dict = {}\n",
    "fins_dict = {}\n",
    "deltas_dict = {}\n",
    "\n",
    "# Itera sobre as variáveis filtradas dinamicamente\n",
    "for code in filtered_codes['Codes']:\n",
    "    if code in df_filtered_serie.columns:\n",
    "        inicio = df_filtered_serie.iloc[0][code]\n",
    "        fim = df_filtered_serie.iloc[-1][code]\n",
    "        delta = fim - inicio\n",
    "    else:\n",
    "        inicio = fim = delta = None  # Caso a variável não esteja no df_filtered_serie\n",
    "    \n",
    "    inicios_dict[code] = inicio\n",
    "    fins_dict[code] = fim\n",
    "    deltas_dict[code] = delta\n"
   ]
  },
  {
   "cell_type": "code",
   "execution_count": 403,
   "id": "056a7daf",
   "metadata": {},
   "outputs": [],
   "source": [
    "# Adiciona colunas ao DataFrame com base nos dicionáriosA\n",
    "filtered_codes['inicio'] = filtered_codes['Codes'].map(inicios_dict)\n",
    "filtered_codes['fim'] = filtered_codes['Codes'].map(fins_dict)\n",
    "filtered_codes['delta'] = filtered_codes['Codes'].map(deltas_dict)"
   ]
  },
  {
   "cell_type": "code",
   "execution_count": 404,
   "id": "e67421b9",
   "metadata": {},
   "outputs": [],
   "source": [
    "#display(filtered_codes)"
   ]
  },
  {
   "cell_type": "code",
   "execution_count": 405,
   "id": "56137c0b",
   "metadata": {},
   "outputs": [],
   "source": [
    "#coef_codes"
   ]
  },
  {
   "cell_type": "code",
   "execution_count": null,
   "id": "e8d8d10d",
   "metadata": {},
   "outputs": [
    {
     "name": "stdout",
     "output_type": "stream",
     "text": [
      "{1: 0.0374, 2: 0.0381, 3: 0.0387, 4: -0.0145, 5: -0.0136, 6: -0.0145, 7: -0.0112, 8: -0.0107, 9: -0.0111, 10: -0.0108, 11: -0.009, 12: -0.0112, 13: -0.0112, 14: -0.0112, 15: -0.0112, 16: -0.0112}\n"
     ]
    }
   ],
   "source": [
    "# Identifica colunas que começam com 'CDX_US_HY_spread'\n",
    "coef_cols = [col for col in coef_codes.columns if col.startswith('CDX_US_HY_spread')]\n",
    "\n",
    "# Seleciona a linha do intercept\n",
    "intercept_row = coef_codes[coef_codes['Codes'] == 'intercept']\n",
    "\n",
    "# Cria o dicionário com chaves numéricas e valores do intercept\n",
    "if not intercept_row.empty:\n",
    "    intercept = {idx + 1: intercept_row.iloc[0][col] for idx, col in enumerate(coef_cols)}\n",
    "else:\n",
    "    intercept = {}\n",
    "\n",
    "#print(intercept)\n"
   ]
  },
  {
   "cell_type": "code",
   "execution_count": 407,
   "id": "d88203ba",
   "metadata": {},
   "outputs": [],
   "source": [
    "for i in range(len(filtered_codes)):\n",
    "    code = filtered_codes.iloc[i]['Codes']\n",
    "    delta = deltas_dict.get(code, None)\n",
    "\n",
    "    if delta is not None:\n",
    "\n",
    "        linha_completa = coef_codes[coef_codes['Codes'] == code]\n",
    "\n",
    "        if not linha_completa.empty:\n",
    "            for idx, col in enumerate(coef_cols, start=1): \n",
    "                coef_value = linha_completa.iloc[0][col]\n",
    "                if pd.notna(coef_value):\n",
    "                    filtered_codes.loc[filtered_codes.index[i], f'{idx}'] = coef_value * delta"
   ]
  },
  {
   "cell_type": "code",
   "execution_count": null,
   "id": "85f025dc",
   "metadata": {},
   "outputs": [
    {
     "data": {
      "text/html": [
       "<div>\n",
       "<style scoped>\n",
       "    .dataframe tbody tr th:only-of-type {\n",
       "        vertical-align: middle;\n",
       "    }\n",
       "\n",
       "    .dataframe tbody tr th {\n",
       "        vertical-align: top;\n",
       "    }\n",
       "\n",
       "    .dataframe thead th {\n",
       "        text-align: right;\n",
       "    }\n",
       "</style>\n",
       "<table border=\"1\" class=\"dataframe\">\n",
       "  <thead>\n",
       "    <tr style=\"text-align: right;\">\n",
       "      <th></th>\n",
       "      <th>Codes</th>\n",
       "      <th>Names</th>\n",
       "      <th>inicio</th>\n",
       "      <th>fim</th>\n",
       "      <th>delta</th>\n",
       "      <th>4</th>\n",
       "      <th>5</th>\n",
       "      <th>6</th>\n",
       "      <th>7</th>\n",
       "      <th>8</th>\n",
       "      <th>9</th>\n",
       "      <th>10</th>\n",
       "      <th>11</th>\n",
       "      <th>12</th>\n",
       "      <th>13</th>\n",
       "      <th>14</th>\n",
       "      <th>15</th>\n",
       "      <th>16</th>\n",
       "      <th>1</th>\n",
       "      <th>2</th>\n",
       "      <th>3</th>\n",
       "    </tr>\n",
       "  </thead>\n",
       "  <tbody>\n",
       "    <tr>\n",
       "      <th>4</th>\n",
       "      <td>jpm_vol</td>\n",
       "      <td>JPM FX Vol</td>\n",
       "      <td>0.007482</td>\n",
       "      <td>0.006648</td>\n",
       "      <td>-0.000834</td>\n",
       "      <td>-0.004908</td>\n",
       "      <td>-0.003613</td>\n",
       "      <td>-0.003724</td>\n",
       "      <td>-0.003494</td>\n",
       "      <td>-0.003835</td>\n",
       "      <td>-0.003877</td>\n",
       "      <td>-0.003468</td>\n",
       "      <td>-0.003713</td>\n",
       "      <td>-0.003494</td>\n",
       "      <td>-0.003494</td>\n",
       "      <td>-0.003494</td>\n",
       "      <td>-0.003494</td>\n",
       "      <td>-0.003494</td>\n",
       "      <td>NaN</td>\n",
       "      <td>NaN</td>\n",
       "      <td>NaN</td>\n",
       "    </tr>\n",
       "    <tr>\n",
       "      <th>6</th>\n",
       "      <td>move</td>\n",
       "      <td>MOVE</td>\n",
       "      <td>0.722172</td>\n",
       "      <td>0.768208</td>\n",
       "      <td>0.046036</td>\n",
       "      <td>NaN</td>\n",
       "      <td>NaN</td>\n",
       "      <td>NaN</td>\n",
       "      <td>0.000497</td>\n",
       "      <td>0.000718</td>\n",
       "      <td>0.000764</td>\n",
       "      <td>0.000470</td>\n",
       "      <td>NaN</td>\n",
       "      <td>0.000497</td>\n",
       "      <td>0.000497</td>\n",
       "      <td>0.000497</td>\n",
       "      <td>0.000497</td>\n",
       "      <td>0.000497</td>\n",
       "      <td>NaN</td>\n",
       "      <td>NaN</td>\n",
       "      <td>NaN</td>\n",
       "    </tr>\n",
       "    <tr>\n",
       "      <th>8</th>\n",
       "      <td>ted_spread_us</td>\n",
       "      <td>Ted Spread US (%)</td>\n",
       "      <td>0.002230</td>\n",
       "      <td>0.001814</td>\n",
       "      <td>-0.000416</td>\n",
       "      <td>-0.000289</td>\n",
       "      <td>-0.000141</td>\n",
       "      <td>NaN</td>\n",
       "      <td>NaN</td>\n",
       "      <td>-0.000070</td>\n",
       "      <td>NaN</td>\n",
       "      <td>-0.000051</td>\n",
       "      <td>-0.000078</td>\n",
       "      <td>NaN</td>\n",
       "      <td>NaN</td>\n",
       "      <td>NaN</td>\n",
       "      <td>NaN</td>\n",
       "      <td>NaN</td>\n",
       "      <td>-0.000656</td>\n",
       "      <td>-0.000666</td>\n",
       "      <td>-0.00051</td>\n",
       "    </tr>\n",
       "    <tr>\n",
       "      <th>10</th>\n",
       "      <td>vix</td>\n",
       "      <td>VIX SPX</td>\n",
       "      <td>0.013360</td>\n",
       "      <td>0.013893</td>\n",
       "      <td>0.000533</td>\n",
       "      <td>NaN</td>\n",
       "      <td>0.000419</td>\n",
       "      <td>0.000446</td>\n",
       "      <td>0.000226</td>\n",
       "      <td>NaN</td>\n",
       "      <td>NaN</td>\n",
       "      <td>0.000223</td>\n",
       "      <td>0.000262</td>\n",
       "      <td>0.000226</td>\n",
       "      <td>0.000226</td>\n",
       "      <td>0.000226</td>\n",
       "      <td>0.000226</td>\n",
       "      <td>0.000226</td>\n",
       "      <td>NaN</td>\n",
       "      <td>NaN</td>\n",
       "      <td>NaN</td>\n",
       "    </tr>\n",
       "  </tbody>\n",
       "</table>\n",
       "</div>"
      ],
      "text/plain": [
       "            Codes              Names    inicio       fim     delta         4  \\\n",
       "4         jpm_vol         JPM FX Vol  0.007482  0.006648 -0.000834 -0.004908   \n",
       "6            move               MOVE  0.722172  0.768208  0.046036       NaN   \n",
       "8   ted_spread_us  Ted Spread US (%)  0.002230  0.001814 -0.000416 -0.000289   \n",
       "10            vix            VIX SPX  0.013360  0.013893  0.000533       NaN   \n",
       "\n",
       "           5         6         7         8         9        10        11  \\\n",
       "4  -0.003613 -0.003724 -0.003494 -0.003835 -0.003877 -0.003468 -0.003713   \n",
       "6        NaN       NaN  0.000497  0.000718  0.000764  0.000470       NaN   \n",
       "8  -0.000141       NaN       NaN -0.000070       NaN -0.000051 -0.000078   \n",
       "10  0.000419  0.000446  0.000226       NaN       NaN  0.000223  0.000262   \n",
       "\n",
       "          12        13        14        15        16         1         2  \\\n",
       "4  -0.003494 -0.003494 -0.003494 -0.003494 -0.003494       NaN       NaN   \n",
       "6   0.000497  0.000497  0.000497  0.000497  0.000497       NaN       NaN   \n",
       "8        NaN       NaN       NaN       NaN       NaN -0.000656 -0.000666   \n",
       "10  0.000226  0.000226  0.000226  0.000226  0.000226       NaN       NaN   \n",
       "\n",
       "          3  \n",
       "4       NaN  \n",
       "6       NaN  \n",
       "8  -0.00051  \n",
       "10      NaN  "
      ]
     },
     "execution_count": 408,
     "metadata": {},
     "output_type": "execute_result"
    }
   ],
   "source": [
    "#filtered_codes"
   ]
  },
  {
   "cell_type": "code",
   "execution_count": 409,
   "id": "286c42c9",
   "metadata": {},
   "outputs": [
    {
     "data": {
      "text/html": [
       "<div>\n",
       "<style scoped>\n",
       "    .dataframe tbody tr th:only-of-type {\n",
       "        vertical-align: middle;\n",
       "    }\n",
       "\n",
       "    .dataframe tbody tr th {\n",
       "        vertical-align: top;\n",
       "    }\n",
       "\n",
       "    .dataframe thead th {\n",
       "        text-align: right;\n",
       "    }\n",
       "</style>\n",
       "<table border=\"1\" class=\"dataframe\">\n",
       "  <thead>\n",
       "    <tr style=\"text-align: right;\">\n",
       "      <th></th>\n",
       "      <th>Codes</th>\n",
       "      <th>Names</th>\n",
       "      <th>inicio</th>\n",
       "      <th>fim</th>\n",
       "      <th>delta</th>\n",
       "      <th>1</th>\n",
       "      <th>2</th>\n",
       "      <th>3</th>\n",
       "      <th>4</th>\n",
       "      <th>5</th>\n",
       "      <th>6</th>\n",
       "      <th>7</th>\n",
       "      <th>8</th>\n",
       "      <th>9</th>\n",
       "      <th>10</th>\n",
       "      <th>11</th>\n",
       "      <th>12</th>\n",
       "      <th>13</th>\n",
       "      <th>14</th>\n",
       "      <th>15</th>\n",
       "      <th>16</th>\n",
       "    </tr>\n",
       "  </thead>\n",
       "  <tbody>\n",
       "    <tr>\n",
       "      <th>4</th>\n",
       "      <td>jpm_vol</td>\n",
       "      <td>JPM FX Vol</td>\n",
       "      <td>0.007482</td>\n",
       "      <td>0.006648</td>\n",
       "      <td>-0.000834</td>\n",
       "      <td>NaN</td>\n",
       "      <td>NaN</td>\n",
       "      <td>NaN</td>\n",
       "      <td>-0.004908</td>\n",
       "      <td>-0.003613</td>\n",
       "      <td>-0.003724</td>\n",
       "      <td>-0.003494</td>\n",
       "      <td>-0.003835</td>\n",
       "      <td>-0.003877</td>\n",
       "      <td>-0.003468</td>\n",
       "      <td>-0.003713</td>\n",
       "      <td>-0.003494</td>\n",
       "      <td>-0.003494</td>\n",
       "      <td>-0.003494</td>\n",
       "      <td>-0.003494</td>\n",
       "      <td>-0.003494</td>\n",
       "    </tr>\n",
       "    <tr>\n",
       "      <th>6</th>\n",
       "      <td>move</td>\n",
       "      <td>MOVE</td>\n",
       "      <td>0.722172</td>\n",
       "      <td>0.768208</td>\n",
       "      <td>0.046036</td>\n",
       "      <td>NaN</td>\n",
       "      <td>NaN</td>\n",
       "      <td>NaN</td>\n",
       "      <td>NaN</td>\n",
       "      <td>NaN</td>\n",
       "      <td>NaN</td>\n",
       "      <td>0.000497</td>\n",
       "      <td>0.000718</td>\n",
       "      <td>0.000764</td>\n",
       "      <td>0.000470</td>\n",
       "      <td>NaN</td>\n",
       "      <td>0.000497</td>\n",
       "      <td>0.000497</td>\n",
       "      <td>0.000497</td>\n",
       "      <td>0.000497</td>\n",
       "      <td>0.000497</td>\n",
       "    </tr>\n",
       "    <tr>\n",
       "      <th>8</th>\n",
       "      <td>ted_spread_us</td>\n",
       "      <td>Ted Spread US (%)</td>\n",
       "      <td>0.002230</td>\n",
       "      <td>0.001814</td>\n",
       "      <td>-0.000416</td>\n",
       "      <td>-0.000656</td>\n",
       "      <td>-0.000666</td>\n",
       "      <td>-0.00051</td>\n",
       "      <td>-0.000289</td>\n",
       "      <td>-0.000141</td>\n",
       "      <td>NaN</td>\n",
       "      <td>NaN</td>\n",
       "      <td>-0.000070</td>\n",
       "      <td>NaN</td>\n",
       "      <td>-0.000051</td>\n",
       "      <td>-0.000078</td>\n",
       "      <td>NaN</td>\n",
       "      <td>NaN</td>\n",
       "      <td>NaN</td>\n",
       "      <td>NaN</td>\n",
       "      <td>NaN</td>\n",
       "    </tr>\n",
       "    <tr>\n",
       "      <th>10</th>\n",
       "      <td>vix</td>\n",
       "      <td>VIX SPX</td>\n",
       "      <td>0.013360</td>\n",
       "      <td>0.013893</td>\n",
       "      <td>0.000533</td>\n",
       "      <td>NaN</td>\n",
       "      <td>NaN</td>\n",
       "      <td>NaN</td>\n",
       "      <td>NaN</td>\n",
       "      <td>0.000419</td>\n",
       "      <td>0.000446</td>\n",
       "      <td>0.000226</td>\n",
       "      <td>NaN</td>\n",
       "      <td>NaN</td>\n",
       "      <td>0.000223</td>\n",
       "      <td>0.000262</td>\n",
       "      <td>0.000226</td>\n",
       "      <td>0.000226</td>\n",
       "      <td>0.000226</td>\n",
       "      <td>0.000226</td>\n",
       "      <td>0.000226</td>\n",
       "    </tr>\n",
       "  </tbody>\n",
       "</table>\n",
       "</div>"
      ],
      "text/plain": [
       "            Codes              Names    inicio       fim     delta         1  \\\n",
       "4         jpm_vol         JPM FX Vol  0.007482  0.006648 -0.000834       NaN   \n",
       "6            move               MOVE  0.722172  0.768208  0.046036       NaN   \n",
       "8   ted_spread_us  Ted Spread US (%)  0.002230  0.001814 -0.000416 -0.000656   \n",
       "10            vix            VIX SPX  0.013360  0.013893  0.000533       NaN   \n",
       "\n",
       "           2        3         4         5         6         7         8  \\\n",
       "4        NaN      NaN -0.004908 -0.003613 -0.003724 -0.003494 -0.003835   \n",
       "6        NaN      NaN       NaN       NaN       NaN  0.000497  0.000718   \n",
       "8  -0.000666 -0.00051 -0.000289 -0.000141       NaN       NaN -0.000070   \n",
       "10       NaN      NaN       NaN  0.000419  0.000446  0.000226       NaN   \n",
       "\n",
       "           9        10        11        12        13        14        15  \\\n",
       "4  -0.003877 -0.003468 -0.003713 -0.003494 -0.003494 -0.003494 -0.003494   \n",
       "6   0.000764  0.000470       NaN  0.000497  0.000497  0.000497  0.000497   \n",
       "8        NaN -0.000051 -0.000078       NaN       NaN       NaN       NaN   \n",
       "10       NaN  0.000223  0.000262  0.000226  0.000226  0.000226  0.000226   \n",
       "\n",
       "          16  \n",
       "4  -0.003494  \n",
       "6   0.000497  \n",
       "8        NaN  \n",
       "10  0.000226  "
      ]
     },
     "execution_count": 409,
     "metadata": {},
     "output_type": "execute_result"
    }
   ],
   "source": [
    "# Reorganiza o DataFrame\n",
    "colunas_numericas = sorted([col for col in filtered_codes.columns if col.isdigit()], key=int)\n",
    "colunas_fixas = [col for col in filtered_codes.columns if not col.isdigit()]\n",
    "nova_ordem = colunas_fixas + colunas_numericas\n",
    "filtered_codes = filtered_codes[nova_ordem]\n",
    "filtered_codes"
   ]
  },
  {
   "cell_type": "markdown",
   "id": "c0dc7209",
   "metadata": {},
   "source": [
    "### Initial Prediction \n",
    "$$\n",
    "\\text{Initial Pred}_t = \\sum_i \\beta_{i,t} \\cdot x_i(\\text{inicio}) + \\text{intercept}_t\n",
    "$$"
   ]
  },
  {
   "cell_type": "code",
   "execution_count": 410,
   "id": "7bfaffd3",
   "metadata": {},
   "outputs": [],
   "source": [
    "# df_filtered_serie"
   ]
  },
  {
   "cell_type": "code",
   "execution_count": 411,
   "id": "da0ef7e5",
   "metadata": {},
   "outputs": [],
   "source": [
    "# print(\"Inícios:\", inicios_dict)\n",
    "# print(\"Fins:\", fins_dict)\n",
    "# print(\"Deltas:\", deltas_dict)\n",
    "# print(\"Intercept\", intercept)"
   ]
  },
  {
   "cell_type": "code",
   "execution_count": 412,
   "id": "f356bb0c",
   "metadata": {},
   "outputs": [],
   "source": [
    "# coef_cols"
   ]
  },
  {
   "cell_type": "code",
   "execution_count": 413,
   "id": "cf646b38",
   "metadata": {},
   "outputs": [
    {
     "name": "stdout",
     "output_type": "stream",
     "text": [
      "Previsão inicial para cada período: {1: np.float64(0.04092040069269962), 2: np.float64(0.0416721253893878), 3: np.float64(0.04143717285017563), 4: np.float64(0.03107862936337452), 5: np.float64(0.030082051042208763), 6: np.float64(0.030085149215856206), 7: np.float64(0.03360310054587351), 8: np.float64(0.035341350391668414), 9: np.float64(0.035665607993806574), 10: np.float64(0.033537448149982316), 11: np.float64(0.031301190576148157), 12: np.float64(0.03360310054587351), 13: np.float64(0.03360310054587351), 14: np.float64(0.03360310054587351), 15: np.float64(0.03360310054587351), 16: np.float64(0.03360310054587351)}\n"
     ]
    }
   ],
   "source": [
    "# Cria um dicionário chamado 'initial_pred' para armazenar a previsão de cada período\n",
    "# Exemplo: {1: 0.0, 2: 0.0, ..., até o número de colunas de coeficientes}\n",
    "initial_pred = {}\n",
    "for i in range(len(coef_cols)):\n",
    "    initial_pred[i + 1] = 0.0  # os períodos começam em 1, não 0\n",
    "\n",
    "# Agora vamos passar por cada variável que tem um valor inicial\n",
    "for code in inicios_dict:\n",
    "    x_inicial = inicios_dict[code]  # valor da variável no início\n",
    "    # Procurar no DataFrame a linha que tem os coeficientes dessa variável\n",
    "    linha = coef_codes[coef_codes['Codes'] == code]\n",
    "    # Se não achou a linha, pula para a próxima variável\n",
    "    if linha.empty:\n",
    "        continue\n",
    "    # Para cada coluna de coeficiente (um por período)\n",
    "    for i in range(len(coef_cols)):\n",
    "        col = coef_cols[i]  # nome da coluna, ex: 'CDX_US_HY_spread1'\n",
    "        beta = linha.iloc[0][col]  # pega o valor do coeficiente\n",
    "        # Se o coeficiente não for nulo (NaN), multiplica pelo valor inicial\n",
    "        if pd.notna(beta):\n",
    "            initial_pred[i + 1] += beta * x_inicial\n",
    "# Depois de somar todos os coeficientes * x_inicial, adicionamos o intercepto de cada período\n",
    "for i in initial_pred:\n",
    "    if i in intercept:\n",
    "        initial_pred[i] += intercept[i]\n",
    "print(\"Previsão inicial para cada período:\", initial_pred)"
   ]
  },
  {
   "cell_type": "markdown",
   "id": "192d37f5",
   "metadata": {},
   "source": [
    "### Final Prediction\n",
    "$$\n",
    "\\text{Final Pred}_t = \\sum_i \\beta_{i,t} \\cdot x_i(\\text{fim}) + \\text{intercept}_t\n",
    "$$"
   ]
  },
  {
   "cell_type": "code",
   "execution_count": 414,
   "id": "ac1ca97e",
   "metadata": {},
   "outputs": [
    {
     "name": "stdout",
     "output_type": "stream",
     "text": [
      "Previsão final para cada período: {1: np.float64(0.04026391780763845), 2: np.float64(0.0410059969039888), 3: np.float64(0.0409267459736781), 4: np.float64(0.025881246118498714), 5: np.float64(0.026747913394843947), 6: np.float64(0.02680709668455488), 7: np.float64(0.030832500769987295), 8: np.float64(0.032154625447135904), 9: np.float64(0.03255281210853946), 10: np.float64(0.030710301818836352), 11: np.float64(0.027772847070663152), 12: np.float64(0.030832500769987295), 13: np.float64(0.030832500769987295), 14: np.float64(0.030832500769987295), 15: np.float64(0.030832500769987295), 16: np.float64(0.030832500769987295)}\n"
     ]
    }
   ],
   "source": [
    "final_pred = {idx + 1: 0.0 for idx in range(len(coef_cols))}\n",
    "# Loop por cada variável e seus valores finais\n",
    "for code, x_final in fins_dict.items():\n",
    "    row = coef_codes[coef_codes['Codes'] == code]\n",
    "    if row.empty:\n",
    "        continue\n",
    "\n",
    "    for idx, col in enumerate(coef_cols, start=1):\n",
    "        beta = row.iloc[0][col]\n",
    "        if pd.notna(beta):\n",
    "            final_pred[idx] += beta * x_final\n",
    "\n",
    "# Adiciona o intercepto (uma vez por período)\n",
    "for idx in final_pred:\n",
    "    final_pred[idx] += intercept.get(idx, 0)\n",
    "print(\"Previsão final para cada período:\", final_pred)"
   ]
  },
  {
   "cell_type": "markdown",
   "id": "07f88b7a",
   "metadata": {},
   "source": [
    "### Period Variation\n",
    "$$\n",
    "\\text{Period Variation}_t = (\\text{Final Pred}_t - \\text{Initial Pred}_t) \\times 100\n",
    "$$"
   ]
  },
  {
   "cell_type": "code",
   "execution_count": 415,
   "id": "8ff0d515",
   "metadata": {},
   "outputs": [
    {
     "name": "stdout",
     "output_type": "stream",
     "text": [
      "Variação por período: {1: np.float64(-0.06564828850611701), 2: np.float64(-0.06661284853989938), 3: np.float64(-0.05104268764975356), 4: np.float64(-0.5197383244875807), 5: np.float64(-0.33341376473648154), 6: np.float64(-0.3278052531301326), 7: np.float64(-0.2770599775886215), 8: np.float64(-0.31867249445325097), 9: np.float64(-0.3112795885267111), 10: np.float64(-0.2827146331145964), 11: np.float64(-0.35283435054850043), 12: np.float64(-0.2770599775886215), 13: np.float64(-0.2770599775886215), 14: np.float64(-0.2770599775886215), 15: np.float64(-0.2770599775886215), 16: np.float64(-0.2770599775886215)}\n"
     ]
    }
   ],
   "source": [
    "period_variation = {}\n",
    "\n",
    "for t in initial_pred:\n",
    "    final_val = final_pred.get(t, 0)\n",
    "    initial_val = initial_pred.get(t, 0)\n",
    "    variation = (final_val - initial_val) * 100  # pontos percentuais\n",
    "    period_variation[t] = variation\n",
    "print(\"Variação por período:\", period_variation)"
   ]
  },
  {
   "cell_type": "code",
   "execution_count": 416,
   "id": "04e7c8fe",
   "metadata": {},
   "outputs": [
    {
     "data": {
      "text/html": [
       "<div>\n",
       "<style scoped>\n",
       "    .dataframe tbody tr th:only-of-type {\n",
       "        vertical-align: middle;\n",
       "    }\n",
       "\n",
       "    .dataframe tbody tr th {\n",
       "        vertical-align: top;\n",
       "    }\n",
       "\n",
       "    .dataframe thead th {\n",
       "        text-align: right;\n",
       "    }\n",
       "</style>\n",
       "<table border=\"1\" class=\"dataframe\">\n",
       "  <thead>\n",
       "    <tr style=\"text-align: right;\">\n",
       "      <th></th>\n",
       "      <th>1</th>\n",
       "      <th>2</th>\n",
       "      <th>3</th>\n",
       "      <th>4</th>\n",
       "      <th>5</th>\n",
       "      <th>6</th>\n",
       "      <th>7</th>\n",
       "      <th>8</th>\n",
       "      <th>9</th>\n",
       "      <th>10</th>\n",
       "      <th>11</th>\n",
       "      <th>12</th>\n",
       "      <th>13</th>\n",
       "      <th>14</th>\n",
       "      <th>15</th>\n",
       "      <th>16</th>\n",
       "    </tr>\n",
       "  </thead>\n",
       "  <tbody>\n",
       "    <tr>\n",
       "      <th>initial_pred</th>\n",
       "      <td>0.0409</td>\n",
       "      <td>0.0417</td>\n",
       "      <td>0.0414</td>\n",
       "      <td>0.0311</td>\n",
       "      <td>0.0301</td>\n",
       "      <td>0.0301</td>\n",
       "      <td>0.0336</td>\n",
       "      <td>0.0353</td>\n",
       "      <td>0.0357</td>\n",
       "      <td>0.0335</td>\n",
       "      <td>0.0313</td>\n",
       "      <td>0.0336</td>\n",
       "      <td>0.0336</td>\n",
       "      <td>0.0336</td>\n",
       "      <td>0.0336</td>\n",
       "      <td>0.0336</td>\n",
       "    </tr>\n",
       "    <tr>\n",
       "      <th>final_pred</th>\n",
       "      <td>0.0403</td>\n",
       "      <td>0.0410</td>\n",
       "      <td>0.0409</td>\n",
       "      <td>0.0259</td>\n",
       "      <td>0.0267</td>\n",
       "      <td>0.0268</td>\n",
       "      <td>0.0308</td>\n",
       "      <td>0.0322</td>\n",
       "      <td>0.0326</td>\n",
       "      <td>0.0307</td>\n",
       "      <td>0.0278</td>\n",
       "      <td>0.0308</td>\n",
       "      <td>0.0308</td>\n",
       "      <td>0.0308</td>\n",
       "      <td>0.0308</td>\n",
       "      <td>0.0308</td>\n",
       "    </tr>\n",
       "    <tr>\n",
       "      <th>period_variation</th>\n",
       "      <td>-0.0656</td>\n",
       "      <td>-0.0666</td>\n",
       "      <td>-0.0510</td>\n",
       "      <td>-0.5197</td>\n",
       "      <td>-0.3334</td>\n",
       "      <td>-0.3278</td>\n",
       "      <td>-0.2771</td>\n",
       "      <td>-0.3187</td>\n",
       "      <td>-0.3113</td>\n",
       "      <td>-0.2827</td>\n",
       "      <td>-0.3528</td>\n",
       "      <td>-0.2771</td>\n",
       "      <td>-0.2771</td>\n",
       "      <td>-0.2771</td>\n",
       "      <td>-0.2771</td>\n",
       "      <td>-0.2771</td>\n",
       "    </tr>\n",
       "  </tbody>\n",
       "</table>\n",
       "</div>"
      ],
      "text/plain": [
       "                      1       2       3       4       5       6       7   \\\n",
       "initial_pred      0.0409  0.0417  0.0414  0.0311  0.0301  0.0301  0.0336   \n",
       "final_pred        0.0403  0.0410  0.0409  0.0259  0.0267  0.0268  0.0308   \n",
       "period_variation -0.0656 -0.0666 -0.0510 -0.5197 -0.3334 -0.3278 -0.2771   \n",
       "\n",
       "                      8       9       10      11      12      13      14  \\\n",
       "initial_pred      0.0353  0.0357  0.0335  0.0313  0.0336  0.0336  0.0336   \n",
       "final_pred        0.0322  0.0326  0.0307  0.0278  0.0308  0.0308  0.0308   \n",
       "period_variation -0.3187 -0.3113 -0.2827 -0.3528 -0.2771 -0.2771 -0.2771   \n",
       "\n",
       "                      15      16  \n",
       "initial_pred      0.0336  0.0336  \n",
       "final_pred        0.0308  0.0308  \n",
       "period_variation -0.2771 -0.2771  "
      ]
     },
     "metadata": {},
     "output_type": "display_data"
    }
   ],
   "source": [
    "forecast = pd.DataFrame({\n",
    "    'initial_pred': pd.Series(initial_pred),\n",
    "    'final_pred': pd.Series(final_pred),\n",
    "    'period_variation': pd.Series(period_variation)\n",
    "}).T.round(4)  # .T transforma os períodos em colunas\n",
    "\n",
    "display(forecast)\n"
   ]
  }
 ],
 "metadata": {
  "kernelspec": {
   "display_name": "Python 3",
   "language": "python",
   "name": "python3"
  },
  "language_info": {
   "codemirror_mode": {
    "name": "ipython",
    "version": 3
   },
   "file_extension": ".py",
   "mimetype": "text/x-python",
   "name": "python",
   "nbconvert_exporter": "python",
   "pygments_lexer": "ipython3",
   "version": "3.13.1"
  }
 },
 "nbformat": 4,
 "nbformat_minor": 5
}
