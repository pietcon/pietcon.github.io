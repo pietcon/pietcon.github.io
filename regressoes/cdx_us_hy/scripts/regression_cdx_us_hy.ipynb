{
 "cells": [
  {
   "cell_type": "code",
   "execution_count": 1,
   "id": "97519246",
   "metadata": {},
   "outputs": [],
   "source": [
    "import pandas as pd\n",
    "import os\n",
    "import logging\n",
    "import warnings\n",
    "import plotly.express as px\n",
    "from matplotlib.colors import LinearSegmentedColormap"
   ]
  },
  {
   "cell_type": "code",
   "execution_count": 2,
   "id": "8332dd02",
   "metadata": {},
   "outputs": [],
   "source": [
    "# Configurar logging\n",
    "logging.basicConfig(\n",
    "    level=logging.INFO,\n",
    "    format=\"%(asctime)s - %(levelname)s - %(message)s\",\n",
    "    handlers=[\n",
    "        logging.FileHandler(\"processamento.log\"),\n",
    "        logging.StreamHandler()\n",
    "    ]\n",
    ")"
   ]
  },
  {
   "cell_type": "code",
   "execution_count": 3,
   "id": "7c49619b",
   "metadata": {},
   "outputs": [
    {
     "name": "stderr",
     "output_type": "stream",
     "text": [
      "2025-07-30 16:59:22,977 - INFO - Warnings do tipo FutureWarning ignorados.\n"
     ]
    }
   ],
   "source": [
    "# Ignorar warnings do tipo FutureWarning\n",
    "warnings.simplefilter(action='ignore', category=FutureWarning)\n",
    "logging.info(\"Warnings do tipo FutureWarning ignorados.\")"
   ]
  },
  {
   "cell_type": "code",
   "execution_count": 4,
   "id": "89fccd9a",
   "metadata": {},
   "outputs": [
    {
     "name": "stderr",
     "output_type": "stream",
     "text": [
      "2025-07-30 16:59:22,994 - INFO - Lendo arquivo principal: ..\\excel\\out\\CDX_US_HY_spread_simple_analysis.xlsx\n",
      "2025-07-30 16:59:23,217 - INFO - Arquivo principal carregado com sucesso.\n",
      "2025-07-30 16:59:23,218 - INFO - Lendo arquivo de legendas: ..\\excel\\in\\legendas.xlsx\n",
      "2025-07-30 16:59:23,233 - INFO - Arquivo de legendas carregado com sucesso.\n",
      "2025-07-30 16:59:23,234 - INFO - Coluna 'Codes' renomeada e 'Names' inserida.\n",
      "2025-07-30 16:59:23,235 - INFO - Mapa de legendas criado com 255 entradas.\n",
      "2025-07-30 16:59:23,237 - INFO - 189 códigos preenchidos com nomes correspondentes.\n"
     ]
    }
   ],
   "source": [
    "try:\n",
    "    # Caminho para o primeiro arquivo (dados principais)\n",
    "    base_dir = os.path.join(\"..\", \"excel\", \"out\")\n",
    "    file_name = \"CDX_US_HY_spread_simple_analysis.xlsx\"\n",
    "    file_path = os.path.join(base_dir, file_name)\n",
    "    logging.info(f\"Lendo arquivo principal: {file_path}\")\n",
    "    regression = pd.read_excel(file_path)\n",
    "    logging.info(\"Arquivo principal carregado com sucesso.\")\n",
    "\n",
    "    # Caminho para o segundo arquivo (legendas)\n",
    "    base_dir_l = os.path.join(\"..\", \"excel\", \"in\")\n",
    "    file_name_l = \"legendas.xlsx\"\n",
    "    file_path_l = os.path.join(base_dir_l, file_name_l)\n",
    "    logging.info(f\"Lendo arquivo de legendas: {file_path_l}\")\n",
    "    leg = pd.read_excel(file_path_l)\n",
    "    logging.info(\"Arquivo de legendas carregado com sucesso.\")\n",
    "\n",
    "    # Renomear e adicionar coluna\n",
    "    regression.columns.values[0] = \"Codes\"\n",
    "    regression.insert(1, \"Names\", \"\")\n",
    "    logging.info(\"Coluna 'Codes' renomeada e 'Names' inserida.\")\n",
    "\n",
    "    # Criar mapeamento e exibir\n",
    "    mapping = dict(zip(leg[\"Codes\"], leg[\"Names\"]))\n",
    "    logging.info(f\"Mapa de legendas criado com {len(mapping)} entradas.\")\n",
    "    logging.debug(f\"Mapping: {mapping}\")  # Use DEBUG para não poluir o terminal\n",
    "\n",
    "    # Preencher nomes com base nos códigos\n",
    "    preenchidos = 0\n",
    "    for idx, code in regression[\"Codes\"].items():\n",
    "        if code in mapping:\n",
    "            regression.at[idx, \"Names\"] = mapping[code]\n",
    "            preenchidos += 1\n",
    "\n",
    "    logging.info(f\"{preenchidos} códigos preenchidos com nomes correspondentes.\")\n",
    "\n",
    "except FileNotFoundError as e:\n",
    "    logging.error(f\"Arquivo não encontrado: {e}\")\n",
    "    raise\n",
    "except Exception as e:\n",
    "    logging.error(f\"Erro durante o processamento: {e}\")\n",
    "    raise\n"
   ]
  },
  {
   "cell_type": "code",
   "execution_count": 5,
   "id": "0101b63d",
   "metadata": {},
   "outputs": [],
   "source": [
    "cmap_coef = LinearSegmentedColormap.from_list(\n",
    "    \"coef_cmap\",\n",
    "    [\"#F8696B\", \"#FFEB84\", \"#63BE7B\"]\n",
    ")"
   ]
  },
  {
   "cell_type": "code",
   "execution_count": 6,
   "id": "00f770be",
   "metadata": {},
   "outputs": [],
   "source": [
    "# Função para destacar p-values < 0.05\n",
    "def highlight_pval(v):\n",
    "    return \"color: red\" if v < 0.05 else \"\""
   ]
  },
  {
   "cell_type": "code",
   "execution_count": 7,
   "id": "842de2b4",
   "metadata": {},
   "outputs": [],
   "source": [
    "regression_styled = (\n",
    "    regression.style\n",
    "      # 3-color nas colunas mean e std (usando um colormap padrão)\n",
    "      .background_gradient(\n",
    "          subset=[\"mean\", \"std\"],\n",
    "          #cmap=\"viridis\"\n",
    "          cmap=cmap_coef\n",
    "      )\n",
    "      # 3-color em R2\n",
    "      .background_gradient(\n",
    "          subset=[\"R2\"],\n",
    "          #cmap=\"Blues\"\n",
    "          cmap=cmap_coef\n",
    "      )\n",
    "      # 3-color custom em coef\n",
    "      .background_gradient(\n",
    "          subset=[\"coef\"],\n",
    "          cmap=cmap_coef\n",
    "      )\n",
    "      # fonte vermelha em p-values abaixo de 0.05\n",
    "      .applymap(\n",
    "          highlight_pval,\n",
    "          subset=[\"pval_ADR\", \"pval_Coint\", \"pval\"]\n",
    "      )\n",
    "      #.set_caption(\"Regression\")\n",
    ")"
   ]
  },
  {
   "cell_type": "markdown",
   "id": "d909874a",
   "metadata": {},
   "source": [
    "### QUAIS VARIAVEIS EXPLICAM BEM O COMPORTAMENTO DO CDX_US_HX_SPREAD AO LONGO DO TEMPO ?"
   ]
  },
  {
   "cell_type": "code",
   "execution_count": 8,
   "id": "db17c31c",
   "metadata": {},
   "outputs": [],
   "source": [
    "#regression_styled"
   ]
  },
  {
   "cell_type": "markdown",
   "id": "286a3d53",
   "metadata": {},
   "source": [
    "### Quanto da variação de Y é explicada pelas variáveis X do meu modelo?"
   ]
  },
  {
   "cell_type": "code",
   "execution_count": 9,
   "id": "1abbdd90",
   "metadata": {},
   "outputs": [
    {
     "data": {
      "application/vnd.plotly.v1+json": {
       "config": {
        "plotlyServerURL": "https://plot.ly"
       },
       "data": [
        {
         "hovertemplate": "<b>%{hovertext}</b><br><br>R2=%{marker.color}<br>Label=%{y}<extra></extra>",
         "hovertext": [
          "CDX HY BBG",
          "JPM FX Vol",
          "VIX SPX",
          "ISM Service (ZS)",
          "CDX IG BBG",
          "",
          "VIX Eurostoxx",
          "",
          "Global PMI Manufacturing (ZS)",
          "Eurozone Manufacturing PMI SA (ZS)",
          "Ted Spread Europe (%)",
          "MOVE",
          "",
          "ISM Manufacturing (ZS)",
          "10y Real Note Germany (%)",
          "Global PMI Composite (ZS)",
          "US Retail Sales SA (6m %ave chg)",
          "",
          "Eurozone Composite PMI SA (ZS)",
          "Global PMI Service (ZS)"
         ],
         "legendgroup": "",
         "marker": {
          "color": {
           "bdata": "Iv32deCc6z9v8IXJVMHmPwisHFpkO+M/8kHPZtXn4j+MSuoENBHiP73jFB3J5eE/EhQ/xty14D/OiNLe4AvfP8iYu5aQD94/0ETY8PRK3T/1udqK/WXbP99PjZduEts/lWWIY13c2j8hH/RsVn3aP4EmwoanV9o/XdxGA3gL2D9PQBNhw9PXP0vIBz2bVdc/+Q/pt68D1z9uNIC3QILWPw==",
           "dtype": "f8"
          },
          "coloraxis": "coloraxis",
          "pattern": {
           "shape": ""
          }
         },
         "name": "",
         "orientation": "h",
         "showlegend": false,
         "text": {
          "bdata": "Iv32deCc6z9v8IXJVMHmPwisHFpkO+M/8kHPZtXn4j+MSuoENBHiP73jFB3J5eE/EhQ/xty14D/OiNLe4AvfP8iYu5aQD94/0ETY8PRK3T/1udqK/WXbP99PjZduEts/lWWIY13c2j8hH/RsVn3aP4EmwoanV9o/XdxGA3gL2D9PQBNhw9PXP0vIBz2bVdc/+Q/pt68D1z9uNIC3QILWPw==",
          "dtype": "f8"
         },
         "textposition": "outside",
         "texttemplate": "%{text:.2f}",
         "type": "bar",
         "x": {
          "bdata": "Iv32deCc6z9v8IXJVMHmPwisHFpkO+M/8kHPZtXn4j+MSuoENBHiP73jFB3J5eE/EhQ/xty14D/OiNLe4AvfP8iYu5aQD94/0ETY8PRK3T/1udqK/WXbP99PjZduEts/lWWIY13c2j8hH/RsVn3aP4EmwoanV9o/XdxGA3gL2D9PQBNhw9PXP0vIBz2bVdc/+Q/pt68D1z9uNIC3QILWPw==",
          "dtype": "f8"
         },
         "xaxis": "x",
         "y": [
          "CDX HY",
          "JPM FX Vol",
          "VIX SPX",
          "ISM Srv",
          "CDX IG",
          null,
          "VIX Eurostoxx",
          null,
          "Gbl Mfg",
          "EZ Mfg",
          "TED Spread",
          "MOVE",
          null,
          "ISM Mfg",
          "10y Germany",
          "Gbl Comp",
          "US Retail 6m Avg %",
          null,
          "EZ Comp",
          "Gbl Srv"
         ],
         "yaxis": "y"
        }
       ],
       "layout": {
        "barmode": "relative",
        "coloraxis": {
         "colorbar": {
          "title": {
           "text": "R2"
          }
         },
         "colorscale": [
          [
           0,
           "#84c4e9"
          ],
          [
           1,
           "#104eab"
          ]
         ],
         "showscale": false
        },
        "legend": {
         "tracegroupgap": 0
        },
        "margin": {
         "b": 40,
         "l": 180,
         "r": 20,
         "t": 60
        },
        "template": {
         "data": {
          "bar": [
           {
            "error_x": {
             "color": "#2a3f5f"
            },
            "error_y": {
             "color": "#2a3f5f"
            },
            "marker": {
             "line": {
              "color": "white",
              "width": 0.5
             },
             "pattern": {
              "fillmode": "overlay",
              "size": 10,
              "solidity": 0.2
             }
            },
            "type": "bar"
           }
          ],
          "barpolar": [
           {
            "marker": {
             "line": {
              "color": "white",
              "width": 0.5
             },
             "pattern": {
              "fillmode": "overlay",
              "size": 10,
              "solidity": 0.2
             }
            },
            "type": "barpolar"
           }
          ],
          "carpet": [
           {
            "aaxis": {
             "endlinecolor": "#2a3f5f",
             "gridcolor": "#C8D4E3",
             "linecolor": "#C8D4E3",
             "minorgridcolor": "#C8D4E3",
             "startlinecolor": "#2a3f5f"
            },
            "baxis": {
             "endlinecolor": "#2a3f5f",
             "gridcolor": "#C8D4E3",
             "linecolor": "#C8D4E3",
             "minorgridcolor": "#C8D4E3",
             "startlinecolor": "#2a3f5f"
            },
            "type": "carpet"
           }
          ],
          "choropleth": [
           {
            "colorbar": {
             "outlinewidth": 0,
             "ticks": ""
            },
            "type": "choropleth"
           }
          ],
          "contour": [
           {
            "colorbar": {
             "outlinewidth": 0,
             "ticks": ""
            },
            "colorscale": [
             [
              0,
              "#0d0887"
             ],
             [
              0.1111111111111111,
              "#46039f"
             ],
             [
              0.2222222222222222,
              "#7201a8"
             ],
             [
              0.3333333333333333,
              "#9c179e"
             ],
             [
              0.4444444444444444,
              "#bd3786"
             ],
             [
              0.5555555555555556,
              "#d8576b"
             ],
             [
              0.6666666666666666,
              "#ed7953"
             ],
             [
              0.7777777777777778,
              "#fb9f3a"
             ],
             [
              0.8888888888888888,
              "#fdca26"
             ],
             [
              1,
              "#f0f921"
             ]
            ],
            "type": "contour"
           }
          ],
          "contourcarpet": [
           {
            "colorbar": {
             "outlinewidth": 0,
             "ticks": ""
            },
            "type": "contourcarpet"
           }
          ],
          "heatmap": [
           {
            "colorbar": {
             "outlinewidth": 0,
             "ticks": ""
            },
            "colorscale": [
             [
              0,
              "#0d0887"
             ],
             [
              0.1111111111111111,
              "#46039f"
             ],
             [
              0.2222222222222222,
              "#7201a8"
             ],
             [
              0.3333333333333333,
              "#9c179e"
             ],
             [
              0.4444444444444444,
              "#bd3786"
             ],
             [
              0.5555555555555556,
              "#d8576b"
             ],
             [
              0.6666666666666666,
              "#ed7953"
             ],
             [
              0.7777777777777778,
              "#fb9f3a"
             ],
             [
              0.8888888888888888,
              "#fdca26"
             ],
             [
              1,
              "#f0f921"
             ]
            ],
            "type": "heatmap"
           }
          ],
          "histogram": [
           {
            "marker": {
             "pattern": {
              "fillmode": "overlay",
              "size": 10,
              "solidity": 0.2
             }
            },
            "type": "histogram"
           }
          ],
          "histogram2d": [
           {
            "colorbar": {
             "outlinewidth": 0,
             "ticks": ""
            },
            "colorscale": [
             [
              0,
              "#0d0887"
             ],
             [
              0.1111111111111111,
              "#46039f"
             ],
             [
              0.2222222222222222,
              "#7201a8"
             ],
             [
              0.3333333333333333,
              "#9c179e"
             ],
             [
              0.4444444444444444,
              "#bd3786"
             ],
             [
              0.5555555555555556,
              "#d8576b"
             ],
             [
              0.6666666666666666,
              "#ed7953"
             ],
             [
              0.7777777777777778,
              "#fb9f3a"
             ],
             [
              0.8888888888888888,
              "#fdca26"
             ],
             [
              1,
              "#f0f921"
             ]
            ],
            "type": "histogram2d"
           }
          ],
          "histogram2dcontour": [
           {
            "colorbar": {
             "outlinewidth": 0,
             "ticks": ""
            },
            "colorscale": [
             [
              0,
              "#0d0887"
             ],
             [
              0.1111111111111111,
              "#46039f"
             ],
             [
              0.2222222222222222,
              "#7201a8"
             ],
             [
              0.3333333333333333,
              "#9c179e"
             ],
             [
              0.4444444444444444,
              "#bd3786"
             ],
             [
              0.5555555555555556,
              "#d8576b"
             ],
             [
              0.6666666666666666,
              "#ed7953"
             ],
             [
              0.7777777777777778,
              "#fb9f3a"
             ],
             [
              0.8888888888888888,
              "#fdca26"
             ],
             [
              1,
              "#f0f921"
             ]
            ],
            "type": "histogram2dcontour"
           }
          ],
          "mesh3d": [
           {
            "colorbar": {
             "outlinewidth": 0,
             "ticks": ""
            },
            "type": "mesh3d"
           }
          ],
          "parcoords": [
           {
            "line": {
             "colorbar": {
              "outlinewidth": 0,
              "ticks": ""
             }
            },
            "type": "parcoords"
           }
          ],
          "pie": [
           {
            "automargin": true,
            "type": "pie"
           }
          ],
          "scatter": [
           {
            "fillpattern": {
             "fillmode": "overlay",
             "size": 10,
             "solidity": 0.2
            },
            "type": "scatter"
           }
          ],
          "scatter3d": [
           {
            "line": {
             "colorbar": {
              "outlinewidth": 0,
              "ticks": ""
             }
            },
            "marker": {
             "colorbar": {
              "outlinewidth": 0,
              "ticks": ""
             }
            },
            "type": "scatter3d"
           }
          ],
          "scattercarpet": [
           {
            "marker": {
             "colorbar": {
              "outlinewidth": 0,
              "ticks": ""
             }
            },
            "type": "scattercarpet"
           }
          ],
          "scattergeo": [
           {
            "marker": {
             "colorbar": {
              "outlinewidth": 0,
              "ticks": ""
             }
            },
            "type": "scattergeo"
           }
          ],
          "scattergl": [
           {
            "marker": {
             "colorbar": {
              "outlinewidth": 0,
              "ticks": ""
             }
            },
            "type": "scattergl"
           }
          ],
          "scattermap": [
           {
            "marker": {
             "colorbar": {
              "outlinewidth": 0,
              "ticks": ""
             }
            },
            "type": "scattermap"
           }
          ],
          "scattermapbox": [
           {
            "marker": {
             "colorbar": {
              "outlinewidth": 0,
              "ticks": ""
             }
            },
            "type": "scattermapbox"
           }
          ],
          "scatterpolar": [
           {
            "marker": {
             "colorbar": {
              "outlinewidth": 0,
              "ticks": ""
             }
            },
            "type": "scatterpolar"
           }
          ],
          "scatterpolargl": [
           {
            "marker": {
             "colorbar": {
              "outlinewidth": 0,
              "ticks": ""
             }
            },
            "type": "scatterpolargl"
           }
          ],
          "scatterternary": [
           {
            "marker": {
             "colorbar": {
              "outlinewidth": 0,
              "ticks": ""
             }
            },
            "type": "scatterternary"
           }
          ],
          "surface": [
           {
            "colorbar": {
             "outlinewidth": 0,
             "ticks": ""
            },
            "colorscale": [
             [
              0,
              "#0d0887"
             ],
             [
              0.1111111111111111,
              "#46039f"
             ],
             [
              0.2222222222222222,
              "#7201a8"
             ],
             [
              0.3333333333333333,
              "#9c179e"
             ],
             [
              0.4444444444444444,
              "#bd3786"
             ],
             [
              0.5555555555555556,
              "#d8576b"
             ],
             [
              0.6666666666666666,
              "#ed7953"
             ],
             [
              0.7777777777777778,
              "#fb9f3a"
             ],
             [
              0.8888888888888888,
              "#fdca26"
             ],
             [
              1,
              "#f0f921"
             ]
            ],
            "type": "surface"
           }
          ],
          "table": [
           {
            "cells": {
             "fill": {
              "color": "#EBF0F8"
             },
             "line": {
              "color": "white"
             }
            },
            "header": {
             "fill": {
              "color": "#C8D4E3"
             },
             "line": {
              "color": "white"
             }
            },
            "type": "table"
           }
          ]
         },
         "layout": {
          "annotationdefaults": {
           "arrowcolor": "#2a3f5f",
           "arrowhead": 0,
           "arrowwidth": 1
          },
          "autotypenumbers": "strict",
          "coloraxis": {
           "colorbar": {
            "outlinewidth": 0,
            "ticks": ""
           }
          },
          "colorscale": {
           "diverging": [
            [
             0,
             "#8e0152"
            ],
            [
             0.1,
             "#c51b7d"
            ],
            [
             0.2,
             "#de77ae"
            ],
            [
             0.3,
             "#f1b6da"
            ],
            [
             0.4,
             "#fde0ef"
            ],
            [
             0.5,
             "#f7f7f7"
            ],
            [
             0.6,
             "#e6f5d0"
            ],
            [
             0.7,
             "#b8e186"
            ],
            [
             0.8,
             "#7fbc41"
            ],
            [
             0.9,
             "#4d9221"
            ],
            [
             1,
             "#276419"
            ]
           ],
           "sequential": [
            [
             0,
             "#0d0887"
            ],
            [
             0.1111111111111111,
             "#46039f"
            ],
            [
             0.2222222222222222,
             "#7201a8"
            ],
            [
             0.3333333333333333,
             "#9c179e"
            ],
            [
             0.4444444444444444,
             "#bd3786"
            ],
            [
             0.5555555555555556,
             "#d8576b"
            ],
            [
             0.6666666666666666,
             "#ed7953"
            ],
            [
             0.7777777777777778,
             "#fb9f3a"
            ],
            [
             0.8888888888888888,
             "#fdca26"
            ],
            [
             1,
             "#f0f921"
            ]
           ],
           "sequentialminus": [
            [
             0,
             "#0d0887"
            ],
            [
             0.1111111111111111,
             "#46039f"
            ],
            [
             0.2222222222222222,
             "#7201a8"
            ],
            [
             0.3333333333333333,
             "#9c179e"
            ],
            [
             0.4444444444444444,
             "#bd3786"
            ],
            [
             0.5555555555555556,
             "#d8576b"
            ],
            [
             0.6666666666666666,
             "#ed7953"
            ],
            [
             0.7777777777777778,
             "#fb9f3a"
            ],
            [
             0.8888888888888888,
             "#fdca26"
            ],
            [
             1,
             "#f0f921"
            ]
           ]
          },
          "colorway": [
           "#636efa",
           "#EF553B",
           "#00cc96",
           "#ab63fa",
           "#FFA15A",
           "#19d3f3",
           "#FF6692",
           "#B6E880",
           "#FF97FF",
           "#FECB52"
          ],
          "font": {
           "color": "#2a3f5f"
          },
          "geo": {
           "bgcolor": "white",
           "lakecolor": "white",
           "landcolor": "white",
           "showlakes": true,
           "showland": true,
           "subunitcolor": "#C8D4E3"
          },
          "hoverlabel": {
           "align": "left"
          },
          "hovermode": "closest",
          "mapbox": {
           "style": "light"
          },
          "paper_bgcolor": "white",
          "plot_bgcolor": "white",
          "polar": {
           "angularaxis": {
            "gridcolor": "#EBF0F8",
            "linecolor": "#EBF0F8",
            "ticks": ""
           },
           "bgcolor": "white",
           "radialaxis": {
            "gridcolor": "#EBF0F8",
            "linecolor": "#EBF0F8",
            "ticks": ""
           }
          },
          "scene": {
           "xaxis": {
            "backgroundcolor": "white",
            "gridcolor": "#DFE8F3",
            "gridwidth": 2,
            "linecolor": "#EBF0F8",
            "showbackground": true,
            "ticks": "",
            "zerolinecolor": "#EBF0F8"
           },
           "yaxis": {
            "backgroundcolor": "white",
            "gridcolor": "#DFE8F3",
            "gridwidth": 2,
            "linecolor": "#EBF0F8",
            "showbackground": true,
            "ticks": "",
            "zerolinecolor": "#EBF0F8"
           },
           "zaxis": {
            "backgroundcolor": "white",
            "gridcolor": "#DFE8F3",
            "gridwidth": 2,
            "linecolor": "#EBF0F8",
            "showbackground": true,
            "ticks": "",
            "zerolinecolor": "#EBF0F8"
           }
          },
          "shapedefaults": {
           "line": {
            "color": "#2a3f5f"
           }
          },
          "ternary": {
           "aaxis": {
            "gridcolor": "#DFE8F3",
            "linecolor": "#A2B1C6",
            "ticks": ""
           },
           "baxis": {
            "gridcolor": "#DFE8F3",
            "linecolor": "#A2B1C6",
            "ticks": ""
           },
           "bgcolor": "white",
           "caxis": {
            "gridcolor": "#DFE8F3",
            "linecolor": "#A2B1C6",
            "ticks": ""
           }
          },
          "title": {
           "x": 0.05
          },
          "xaxis": {
           "automargin": true,
           "gridcolor": "#EBF0F8",
           "linecolor": "#EBF0F8",
           "ticks": "",
           "title": {
            "standoff": 15
           },
           "zerolinecolor": "#EBF0F8",
           "zerolinewidth": 2
          },
          "yaxis": {
           "automargin": true,
           "gridcolor": "#EBF0F8",
           "linecolor": "#EBF0F8",
           "ticks": "",
           "title": {
            "standoff": 15
           },
           "zerolinecolor": "#EBF0F8",
           "zerolinewidth": 2
          }
         }
        },
        "title": {
         "text": "Top 20 séries por R² (com destaque de cor)"
        },
        "xaxis": {
         "anchor": "y",
         "domain": [
          0,
          1
         ],
         "range": [
          0,
          1
         ],
         "title": {
          "text": "R2"
         }
        },
        "yaxis": {
         "anchor": "x",
         "autorange": "reversed",
         "domain": [
          0,
          1
         ],
         "title": {
          "text": "Label"
         }
        }
       }
      }
     },
     "metadata": {},
     "output_type": "display_data"
    }
   ],
   "source": [
    "# Filtrar Top 20 e remover valores inválidos\n",
    "top_n = 20\n",
    "df_top_20_regression = regression.sort_values(by='R2', ascending=False).dropna(subset=['Names']).head(top_n)\n",
    "\n",
    "label_map = {\n",
    "    \"CDX HY BBG\": \"CDX HY\",\n",
    "    \"JPM FX Vol\": \"JPM FX Vol\",\n",
    "    \"VIX SPX\": \"VIX SPX\",\n",
    "    \"ISM Service (ZS)\": \"ISM Srv\",\n",
    "    \"CDX IG BBG\": \"CDX IG\",\n",
    "    \"VIX Eurostoxx\": \"VIX Eurostoxx\",\n",
    "    \"Global PMI Manufacturing (ZS)\": \"Gbl Mfg\",\n",
    "    \"Eurozone Manufacturing PMI SA (ZS)\": \"EZ Mfg\",\n",
    "    \"Ted Spread Europe (%)\": \"TED Spread\",\n",
    "    \"MOVE\": \"MOVE\",\n",
    "    \"ISM Manufacturing (ZS)\": \"ISM Mfg\",\n",
    "    \"10y Real Note Germany (%)\": \"10y Germany\",\n",
    "    \"Global PMI Composite (ZS)\": \"Gbl Comp\",\n",
    "    \"US Retail Sales SA (6m %ave chg)\": \"US Retail 6m Avg %\",\n",
    "    \"Eurozone Composite PMI SA (ZS)\": \"EZ Comp\",\n",
    "    \"Global PMI Service (ZS)\": \"Gbl Srv\",\n",
    "    \"US Industrial Production SA (6m %ave chg)\": \"US Ind Prod 6m Avg %\",\n",
    "    \"GDP US Chained 2012 Dollars YoY SA (%)\": \"GDP US YoY\",\n",
    "    \"Fed SPF Residential Investment 1y (Dispersion P75 - P25) (%)\": \"SPF Invest Dispersion\",\n",
    "    \"Eurostat Industrial Production Eurozone SWDA (6m %ave chg)\": \"EZ Ind Prod 6m Avg %\",\n",
    "}\n",
    "\n",
    "df_top_20_regression['Label'] = df_top_20_regression['Names'].map(label_map)\n",
    "\n",
    "fig = px.bar(\n",
    "    df_top_20_regression,\n",
    "    x='R2',\n",
    "    y='Label',\n",
    "    orientation='h',\n",
    "    hover_name='Names',\n",
    "    text='R2',\n",
    "    template='plotly_white',\n",
    "    title='Top 20 séries por R² (com destaque de cor)',\n",
    "    color='R2',  # define a intensidade de cor com base no R²\n",
    "    color_continuous_scale=[(0, \"#84c4e9\"), (1, \"#104eab\")],  # você pode testar 'Viridis', 'Cividis', 'Plasma', etc.\n",
    ")\n",
    "fig.update_traces(texttemplate='%{text:.2f}', textposition='outside')\n",
    "\n",
    "# Layout refinado\n",
    "fig.update_layout(\n",
    "    yaxis=dict(autorange=\"reversed\"),\n",
    "    xaxis_range=[0, 1],\n",
    "    margin=dict(t=60, b=40, l=180, r=20),\n",
    "    coloraxis_showscale=False  # opcional: esconde a barra de escala lateral\n",
    ")"
   ]
  },
  {
   "cell_type": "code",
   "execution_count": null,
   "id": "51a08f3c",
   "metadata": {},
   "outputs": [
    {
     "name": "stderr",
     "output_type": "stream",
     "text": [
      "2025-07-30 16:59:23,831 - INFO - Lendo arquivo regs_summary: ..\\excel\\out\\US\\Credit\\HY\\t_0\\sectors_regs_summary.xlsx\n",
      "2025-07-30 16:59:23,846 - INFO - Arquivo regs_summary carregado com sucesso.\n",
      "2025-07-30 16:59:23,849 - INFO - Coluna 'Codes' renomeada e 'Names' inserida.\n",
      "2025-07-30 16:59:23,857 - INFO - Mapa de legendas criado com 255 entradas.\n",
      "2025-07-30 16:59:23,860 - INFO - 12 códigos preenchidos com nomes correspondentes.\n"
     ]
    }
   ],
   "source": [
    "#### PARTE 2 - Processamento de regs_summary - GERADO POR CDX_US_HY_spread_model.py\n",
    "\n",
    "try:\n",
    "    # Caminho para o primeiro arquivo (dados principais)\n",
    "    base_dir = os.path.join(\"..\", \"excel\", \"out\", 'US', 'Credit', 'HY', 't_0') \n",
    "    file_name = \"sectors_regs_summary.xlsx\"\n",
    "    file_path = os.path.join(base_dir, file_name)\n",
    "    logging.info(f\"Lendo arquivo regs_summary: {file_path}\")\n",
    "    summary = pd.read_excel(file_path)\n",
    "    logging.info(\"Arquivo regs_summary carregado com sucesso.\")\n",
    "\n",
    "    # Renomear e adicionar coluna\n",
    "    summary.rename(columns={\"idx\": \"Codes\"}, inplace=True)\n",
    "    summary.insert(summary.columns.get_loc(\"Codes\") + 1, \"Names\", \"\")\n",
    "    logging.info(\"Coluna 'Codes' renomeada e 'Names' inserida.\")\n",
    "    \n",
    "    # adicionar coef e pval\n",
    "    summary.insert(summary.columns.get_loc(\"Codes\") + 1, \"coef\", summary['Codes'].str.endswith('(coef)'))\n",
    "    summary.insert(summary.columns.get_loc(\"Codes\") + 2, \"pval\", summary['Codes'].str.endswith('(pval)'))\n",
    "    \n",
    "    # Preenche coef e pval com True/False\n",
    "    for idx, i in summary['coef'].items():\n",
    "        if i == True:\n",
    "            summary.at[idx, 'Codes'] = summary.at[idx, 'Codes'].replace(\" (coef)\", \"\")\n",
    "            \n",
    "\n",
    "    for idx, i in summary['pval'].items():\n",
    "        if i == True:\n",
    "            summary.at[idx, 'Codes'] = summary.at[idx - 1, 'Codes']\n",
    "    \n",
    "    # Criar mapeamento e exibir\n",
    "    mapping = dict(zip(leg[\"Codes\"], leg[\"Names\"]))\n",
    "    logging.info(f\"Mapa de legendas criado com {len(mapping)} entradas.\")\n",
    "    logging.debug(f\"Mapping: {mapping}\") \n",
    "\n",
    "    # Preencher nomes com base nos códigos\n",
    "    preenchidos = 0\n",
    "    for idx, code in summary[\"Codes\"].items():\n",
    "        if code in mapping:\n",
    "            summary.at[idx, \"Names\"] = mapping[code]\n",
    "            preenchidos += 1\n",
    "\n",
    "    logging.info(f\"{preenchidos} códigos preenchidos com nomes correspondentes.\")\n",
    "\n",
    "except FileNotFoundError as e:\n",
    "    logging.error(f\"Arquivo não encontrado: {e}\")\n",
    "    raise\n",
    "except Exception as e:\n",
    "    logging.error(f\"Erro durante o processamento: {e}\")\n",
    "    raise\n"
   ]
  },
  {
   "cell_type": "code",
   "execution_count": 11,
   "id": "7f76e49e",
   "metadata": {},
   "outputs": [],
   "source": [
    "df_coef = summary[\n",
    "    (summary['coef'] == True) |\n",
    "    ((summary['pval'] == False) & (summary['coef'] == False))\n",
    "]\n",
    "\n",
    "df_pval = summary[\n",
    "    (summary['pval'] == True) |\n",
    "    ((summary['pval'] == False) & (summary['coef'] == False))\n",
    "]"
   ]
  },
  {
   "cell_type": "code",
   "execution_count": 12,
   "id": "26224385",
   "metadata": {},
   "outputs": [],
   "source": [
    "last_7_codes = df_coef['Codes'].iloc[-7:]\n",
    "df_coef.loc[df_coef.index[-7:], 'Names'] = last_7_codes.values\n",
    "df_pval.loc[df_pval.index[-7:], 'Names'] = last_7_codes.values"
   ]
  },
  {
   "cell_type": "code",
   "execution_count": 13,
   "id": "67d660c7",
   "metadata": {},
   "outputs": [],
   "source": [
    "coef = df_coef.copy()\n",
    "pval = df_pval.copy()\n",
    "coef.drop(columns=['Unnamed: 0','Codes', 'coef', 'pval'], inplace=True)\n",
    "pval.drop(columns=['Unnamed: 0','Codes', 'coef', 'pval'], inplace=True)"
   ]
  },
  {
   "cell_type": "code",
   "execution_count": 14,
   "id": "57f1b004",
   "metadata": {},
   "outputs": [
    {
     "data": {
      "text/html": [
       "<div>\n",
       "<style scoped>\n",
       "    .dataframe tbody tr th:only-of-type {\n",
       "        vertical-align: middle;\n",
       "    }\n",
       "\n",
       "    .dataframe tbody tr th {\n",
       "        vertical-align: top;\n",
       "    }\n",
       "\n",
       "    .dataframe thead th {\n",
       "        text-align: right;\n",
       "    }\n",
       "</style>\n",
       "<table border=\"1\" class=\"dataframe\">\n",
       "  <thead>\n",
       "    <tr style=\"text-align: right;\">\n",
       "      <th></th>\n",
       "      <th>Names</th>\n",
       "      <th>CDX_US_HY_spread</th>\n",
       "      <th>CDX_US_HY_spread1</th>\n",
       "      <th>CDX_US_HY_spread2</th>\n",
       "      <th>CDX_US_HY_spread3</th>\n",
       "      <th>CDX_US_HY_spread4</th>\n",
       "      <th>CDX_US_HY_spread5</th>\n",
       "      <th>CDX_US_HY_spread6</th>\n",
       "      <th>CDX_US_HY_spread7</th>\n",
       "      <th>CDX_US_HY_spread8</th>\n",
       "      <th>CDX_US_HY_spread9</th>\n",
       "      <th>CDX_US_HY_spread10</th>\n",
       "      <th>CDX_US_HY_spread11</th>\n",
       "      <th>CDX_US_HY_spread12</th>\n",
       "      <th>CDX_US_HY_spread13</th>\n",
       "      <th>CDX_US_HY_spread14</th>\n",
       "      <th>CDX_US_HY_spread15</th>\n",
       "    </tr>\n",
       "  </thead>\n",
       "  <tbody>\n",
       "    <tr>\n",
       "      <th>0</th>\n",
       "      <td>Fed Sloos Tight Std for C&amp;I Loans (Small Firms...</td>\n",
       "      <td></td>\n",
       "      <td>0.718</td>\n",
       "      <td>0.44</td>\n",
       "      <td></td>\n",
       "      <td></td>\n",
       "      <td></td>\n",
       "      <td></td>\n",
       "      <td></td>\n",
       "      <td></td>\n",
       "      <td></td>\n",
       "      <td></td>\n",
       "      <td></td>\n",
       "      <td></td>\n",
       "      <td></td>\n",
       "      <td></td>\n",
       "      <td></td>\n",
       "    </tr>\n",
       "    <tr>\n",
       "      <th>2</th>\n",
       "      <td>Global PMI Composite (ZS)</td>\n",
       "      <td>-0.825</td>\n",
       "      <td></td>\n",
       "      <td>-0.605</td>\n",
       "      <td></td>\n",
       "      <td></td>\n",
       "      <td></td>\n",
       "      <td>-0.384</td>\n",
       "      <td>-0.502</td>\n",
       "      <td>-0.517</td>\n",
       "      <td>-0.374</td>\n",
       "      <td>-0.342</td>\n",
       "      <td>-0.384</td>\n",
       "      <td>-0.384</td>\n",
       "      <td>-0.384</td>\n",
       "      <td>-0.384</td>\n",
       "      <td>-0.384</td>\n",
       "    </tr>\n",
       "    <tr>\n",
       "      <th>4</th>\n",
       "      <td>JPM FX Vol</td>\n",
       "      <td></td>\n",
       "      <td></td>\n",
       "      <td></td>\n",
       "      <td>5.885</td>\n",
       "      <td>4.331</td>\n",
       "      <td>4.465</td>\n",
       "      <td>4.189</td>\n",
       "      <td>4.598</td>\n",
       "      <td>4.648</td>\n",
       "      <td>4.158</td>\n",
       "      <td>4.452</td>\n",
       "      <td>4.189</td>\n",
       "      <td>4.189</td>\n",
       "      <td>4.189</td>\n",
       "      <td>4.189</td>\n",
       "      <td>4.189</td>\n",
       "    </tr>\n",
       "    <tr>\n",
       "      <th>6</th>\n",
       "      <td>MOVE</td>\n",
       "      <td></td>\n",
       "      <td></td>\n",
       "      <td></td>\n",
       "      <td></td>\n",
       "      <td></td>\n",
       "      <td></td>\n",
       "      <td>0.011</td>\n",
       "      <td>0.016</td>\n",
       "      <td>0.017</td>\n",
       "      <td>0.01</td>\n",
       "      <td></td>\n",
       "      <td>0.011</td>\n",
       "      <td>0.011</td>\n",
       "      <td>0.011</td>\n",
       "      <td>0.011</td>\n",
       "      <td>0.011</td>\n",
       "    </tr>\n",
       "    <tr>\n",
       "      <th>8</th>\n",
       "      <td>Ted Spread US (%)</td>\n",
       "      <td>1.579</td>\n",
       "      <td>1.602</td>\n",
       "      <td>1.228</td>\n",
       "      <td>0.695</td>\n",
       "      <td>0.339</td>\n",
       "      <td></td>\n",
       "      <td></td>\n",
       "      <td>0.168</td>\n",
       "      <td></td>\n",
       "      <td>0.123</td>\n",
       "      <td>0.187</td>\n",
       "      <td></td>\n",
       "      <td></td>\n",
       "      <td></td>\n",
       "      <td></td>\n",
       "      <td></td>\n",
       "    </tr>\n",
       "    <tr>\n",
       "      <th>10</th>\n",
       "      <td>VIX SPX</td>\n",
       "      <td></td>\n",
       "      <td></td>\n",
       "      <td></td>\n",
       "      <td></td>\n",
       "      <td>0.787</td>\n",
       "      <td>0.837</td>\n",
       "      <td>0.424</td>\n",
       "      <td></td>\n",
       "      <td></td>\n",
       "      <td>0.418</td>\n",
       "      <td>0.492</td>\n",
       "      <td>0.424</td>\n",
       "      <td>0.424</td>\n",
       "      <td>0.424</td>\n",
       "      <td>0.424</td>\n",
       "      <td>0.424</td>\n",
       "    </tr>\n",
       "  </tbody>\n",
       "</table>\n",
       "</div>"
      ],
      "text/plain": [
       "                                                Names CDX_US_HY_spread  \\\n",
       "0   Fed Sloos Tight Std for C&I Loans (Small Firms...                    \n",
       "2                           Global PMI Composite (ZS)           -0.825   \n",
       "4                                          JPM FX Vol                    \n",
       "6                                                MOVE                    \n",
       "8                                   Ted Spread US (%)            1.579   \n",
       "10                                            VIX SPX                    \n",
       "\n",
       "   CDX_US_HY_spread1 CDX_US_HY_spread2 CDX_US_HY_spread3 CDX_US_HY_spread4  \\\n",
       "0              0.718              0.44                                       \n",
       "2                               -0.605                                       \n",
       "4                                                  5.885             4.331   \n",
       "6                                                                            \n",
       "8              1.602             1.228             0.695             0.339   \n",
       "10                                                                   0.787   \n",
       "\n",
       "   CDX_US_HY_spread5 CDX_US_HY_spread6 CDX_US_HY_spread7 CDX_US_HY_spread8  \\\n",
       "0                                                                            \n",
       "2                               -0.384            -0.502            -0.517   \n",
       "4              4.465             4.189             4.598             4.648   \n",
       "6                                0.011             0.016             0.017   \n",
       "8                                                  0.168                     \n",
       "10             0.837             0.424                                       \n",
       "\n",
       "   CDX_US_HY_spread9 CDX_US_HY_spread10 CDX_US_HY_spread11 CDX_US_HY_spread12  \\\n",
       "0                                                                               \n",
       "2             -0.374             -0.342             -0.384             -0.384   \n",
       "4              4.158              4.452              4.189              4.189   \n",
       "6               0.01                                 0.011              0.011   \n",
       "8              0.123              0.187                                         \n",
       "10             0.418              0.492              0.424              0.424   \n",
       "\n",
       "   CDX_US_HY_spread13 CDX_US_HY_spread14 CDX_US_HY_spread15  \n",
       "0                                                            \n",
       "2              -0.384             -0.384             -0.384  \n",
       "4               4.189              4.189              4.189  \n",
       "6               0.011              0.011              0.011  \n",
       "8                                                            \n",
       "10              0.424              0.424              0.424  "
      ]
     },
     "metadata": {},
     "output_type": "display_data"
    },
    {
     "data": {
      "text/html": [
       "<div>\n",
       "<style scoped>\n",
       "    .dataframe tbody tr th:only-of-type {\n",
       "        vertical-align: middle;\n",
       "    }\n",
       "\n",
       "    .dataframe tbody tr th {\n",
       "        vertical-align: top;\n",
       "    }\n",
       "\n",
       "    .dataframe thead th {\n",
       "        text-align: right;\n",
       "    }\n",
       "</style>\n",
       "<table border=\"1\" class=\"dataframe\">\n",
       "  <thead>\n",
       "    <tr style=\"text-align: right;\">\n",
       "      <th></th>\n",
       "      <th>Names</th>\n",
       "      <th>CDX_US_HY_spread</th>\n",
       "      <th>CDX_US_HY_spread1</th>\n",
       "      <th>CDX_US_HY_spread2</th>\n",
       "      <th>CDX_US_HY_spread3</th>\n",
       "      <th>CDX_US_HY_spread4</th>\n",
       "      <th>CDX_US_HY_spread5</th>\n",
       "      <th>CDX_US_HY_spread6</th>\n",
       "      <th>CDX_US_HY_spread7</th>\n",
       "      <th>CDX_US_HY_spread8</th>\n",
       "      <th>CDX_US_HY_spread9</th>\n",
       "      <th>CDX_US_HY_spread10</th>\n",
       "      <th>CDX_US_HY_spread11</th>\n",
       "      <th>CDX_US_HY_spread12</th>\n",
       "      <th>CDX_US_HY_spread13</th>\n",
       "      <th>CDX_US_HY_spread14</th>\n",
       "      <th>CDX_US_HY_spread15</th>\n",
       "      <th>best</th>\n",
       "    </tr>\n",
       "  </thead>\n",
       "  <tbody>\n",
       "    <tr>\n",
       "      <th>12</th>\n",
       "      <td>intercept</td>\n",
       "      <td>0.037</td>\n",
       "      <td>0.038</td>\n",
       "      <td>0.039</td>\n",
       "      <td>-0.014</td>\n",
       "      <td>-0.014</td>\n",
       "      <td>-0.014</td>\n",
       "      <td>-0.011</td>\n",
       "      <td>-0.011</td>\n",
       "      <td>-0.011</td>\n",
       "      <td>-0.011</td>\n",
       "      <td>-0.009</td>\n",
       "      <td>-0.011</td>\n",
       "      <td>-0.011</td>\n",
       "      <td>-0.011</td>\n",
       "      <td>-0.011</td>\n",
       "      <td>-0.011</td>\n",
       "      <td>0.039</td>\n",
       "    </tr>\n",
       "    <tr>\n",
       "      <th>14</th>\n",
       "      <td>AIC</td>\n",
       "      <td>-1499.660</td>\n",
       "      <td>-1484.170</td>\n",
       "      <td>-1519.980</td>\n",
       "      <td>-1678.920</td>\n",
       "      <td>-1732.180</td>\n",
       "      <td>-1730.540</td>\n",
       "      <td>-1761.070</td>\n",
       "      <td>-1748.690</td>\n",
       "      <td>-1749.770</td>\n",
       "      <td>-1759.580</td>\n",
       "      <td>-1757.240</td>\n",
       "      <td>-1761.070</td>\n",
       "      <td>-1761.070</td>\n",
       "      <td>-1761.070</td>\n",
       "      <td>-1761.070</td>\n",
       "      <td>-1761.070</td>\n",
       "      <td>-1484.170</td>\n",
       "    </tr>\n",
       "    <tr>\n",
       "      <th>15</th>\n",
       "      <td>BIC</td>\n",
       "      <td>-1488.940</td>\n",
       "      <td>-1473.450</td>\n",
       "      <td>-1505.670</td>\n",
       "      <td>-1668.190</td>\n",
       "      <td>-1717.880</td>\n",
       "      <td>-1719.810</td>\n",
       "      <td>-1743.190</td>\n",
       "      <td>-1730.810</td>\n",
       "      <td>-1735.470</td>\n",
       "      <td>-1738.130</td>\n",
       "      <td>-1739.360</td>\n",
       "      <td>-1743.190</td>\n",
       "      <td>-1743.190</td>\n",
       "      <td>-1743.190</td>\n",
       "      <td>-1743.190</td>\n",
       "      <td>-1743.190</td>\n",
       "      <td>-1473.450</td>\n",
       "    </tr>\n",
       "    <tr>\n",
       "      <th>16</th>\n",
       "      <td>DW</td>\n",
       "      <td>0.200</td>\n",
       "      <td>0.190</td>\n",
       "      <td>0.200</td>\n",
       "      <td>0.370</td>\n",
       "      <td>0.460</td>\n",
       "      <td>0.440</td>\n",
       "      <td>0.430</td>\n",
       "      <td>0.420</td>\n",
       "      <td>0.410</td>\n",
       "      <td>0.430</td>\n",
       "      <td>0.440</td>\n",
       "      <td>0.430</td>\n",
       "      <td>0.430</td>\n",
       "      <td>0.430</td>\n",
       "      <td>0.430</td>\n",
       "      <td>0.430</td>\n",
       "      <td>0.460</td>\n",
       "    </tr>\n",
       "    <tr>\n",
       "      <th>17</th>\n",
       "      <td>LMpv</td>\n",
       "      <td>0.000</td>\n",
       "      <td>0.000</td>\n",
       "      <td>0.000</td>\n",
       "      <td>0.000</td>\n",
       "      <td>0.000</td>\n",
       "      <td>0.000</td>\n",
       "      <td>0.000</td>\n",
       "      <td>0.000</td>\n",
       "      <td>0.000</td>\n",
       "      <td>0.000</td>\n",
       "      <td>0.000</td>\n",
       "      <td>0.000</td>\n",
       "      <td>0.000</td>\n",
       "      <td>0.000</td>\n",
       "      <td>0.000</td>\n",
       "      <td>0.000</td>\n",
       "      <td>0.000</td>\n",
       "    </tr>\n",
       "    <tr>\n",
       "      <th>18</th>\n",
       "      <td>MSE</td>\n",
       "      <td>0.000</td>\n",
       "      <td>0.000</td>\n",
       "      <td>0.000</td>\n",
       "      <td>0.000</td>\n",
       "      <td>0.000</td>\n",
       "      <td>0.000</td>\n",
       "      <td>0.000</td>\n",
       "      <td>0.000</td>\n",
       "      <td>0.000</td>\n",
       "      <td>0.000</td>\n",
       "      <td>0.000</td>\n",
       "      <td>0.000</td>\n",
       "      <td>0.000</td>\n",
       "      <td>0.000</td>\n",
       "      <td>0.000</td>\n",
       "      <td>0.000</td>\n",
       "      <td>0.000</td>\n",
       "    </tr>\n",
       "    <tr>\n",
       "      <th>19</th>\n",
       "      <td>R2</td>\n",
       "      <td>0.450</td>\n",
       "      <td>0.420</td>\n",
       "      <td>0.500</td>\n",
       "      <td>0.720</td>\n",
       "      <td>0.770</td>\n",
       "      <td>0.770</td>\n",
       "      <td>0.800</td>\n",
       "      <td>0.790</td>\n",
       "      <td>0.790</td>\n",
       "      <td>0.800</td>\n",
       "      <td>0.800</td>\n",
       "      <td>0.800</td>\n",
       "      <td>0.800</td>\n",
       "      <td>0.800</td>\n",
       "      <td>0.800</td>\n",
       "      <td>0.800</td>\n",
       "      <td>0.800</td>\n",
       "    </tr>\n",
       "  </tbody>\n",
       "</table>\n",
       "</div>"
      ],
      "text/plain": [
       "        Names  CDX_US_HY_spread  CDX_US_HY_spread1  CDX_US_HY_spread2  \\\n",
       "12  intercept             0.037              0.038              0.039   \n",
       "14        AIC         -1499.660          -1484.170          -1519.980   \n",
       "15        BIC         -1488.940          -1473.450          -1505.670   \n",
       "16         DW             0.200              0.190              0.200   \n",
       "17       LMpv             0.000              0.000              0.000   \n",
       "18        MSE             0.000              0.000              0.000   \n",
       "19         R2             0.450              0.420              0.500   \n",
       "\n",
       "    CDX_US_HY_spread3  CDX_US_HY_spread4  CDX_US_HY_spread5  \\\n",
       "12             -0.014             -0.014             -0.014   \n",
       "14          -1678.920          -1732.180          -1730.540   \n",
       "15          -1668.190          -1717.880          -1719.810   \n",
       "16              0.370              0.460              0.440   \n",
       "17              0.000              0.000              0.000   \n",
       "18              0.000              0.000              0.000   \n",
       "19              0.720              0.770              0.770   \n",
       "\n",
       "    CDX_US_HY_spread6  CDX_US_HY_spread7  CDX_US_HY_spread8  \\\n",
       "12             -0.011             -0.011             -0.011   \n",
       "14          -1761.070          -1748.690          -1749.770   \n",
       "15          -1743.190          -1730.810          -1735.470   \n",
       "16              0.430              0.420              0.410   \n",
       "17              0.000              0.000              0.000   \n",
       "18              0.000              0.000              0.000   \n",
       "19              0.800              0.790              0.790   \n",
       "\n",
       "    CDX_US_HY_spread9  CDX_US_HY_spread10  CDX_US_HY_spread11  \\\n",
       "12             -0.011              -0.009              -0.011   \n",
       "14          -1759.580           -1757.240           -1761.070   \n",
       "15          -1738.130           -1739.360           -1743.190   \n",
       "16              0.430               0.440               0.430   \n",
       "17              0.000               0.000               0.000   \n",
       "18              0.000               0.000               0.000   \n",
       "19              0.800               0.800               0.800   \n",
       "\n",
       "    CDX_US_HY_spread12  CDX_US_HY_spread13  CDX_US_HY_spread14  \\\n",
       "12              -0.011              -0.011              -0.011   \n",
       "14           -1761.070           -1761.070           -1761.070   \n",
       "15           -1743.190           -1743.190           -1743.190   \n",
       "16               0.430               0.430               0.430   \n",
       "17               0.000               0.000               0.000   \n",
       "18               0.000               0.000               0.000   \n",
       "19               0.800               0.800               0.800   \n",
       "\n",
       "    CDX_US_HY_spread15      best  \n",
       "12              -0.011     0.039  \n",
       "14           -1761.070 -1484.170  \n",
       "15           -1743.190 -1473.450  \n",
       "16               0.430     0.460  \n",
       "17               0.000     0.000  \n",
       "18               0.000     0.000  \n",
       "19               0.800     0.800  "
      ]
     },
     "metadata": {},
     "output_type": "display_data"
    }
   ],
   "source": [
    "# Criar dois DataFrames a partir do df_coef\n",
    "df_main = coef.iloc[:-7].copy()  # Todos menos as 7 últimas linhas\n",
    "df_statistics = coef.iloc[-7:].copy()  # As 7 últimas linhas (dados da regressão como AIC, BIC, DW, R²)\n",
    "df_statistics = df_statistics.drop(columns=[\"Signal\"], errors=\"ignore\")\n",
    "\n",
    "cols_to_convert_main = df_main.columns.difference(['Signal', 'Names'])\n",
    "df_main[cols_to_convert_main] = df_main[cols_to_convert_main].apply(pd.to_numeric, errors='coerce').round(3)\n",
    "\n",
    "cols_to_convert_stats = df_statistics.columns.difference(['Names'])\n",
    "df_statistics[cols_to_convert_stats] = df_statistics[cols_to_convert_stats].apply(pd.to_numeric, errors='coerce').round(3)\n",
    "\n",
    "\n",
    "df_statistics['best'] = df_statistics.iloc[:, 1:].max(axis=1)\n",
    "df_main = df_main.fillna('')\n",
    "df_statistics = df_statistics.fillna('')\n",
    "\n",
    "display(df_main)\n",
    "display(df_statistics)\n"
   ]
  },
  {
   "cell_type": "code",
   "execution_count": 15,
   "id": "4a801851",
   "metadata": {},
   "outputs": [],
   "source": [
    "def style_df_main(df):\n",
    "    def color_gradient(val):\n",
    "        try:\n",
    "            if pd.isna(val):\n",
    "                return ''\n",
    "            elif val > 0:\n",
    "                return f'background-color: rgba(0, 128, 0, {min(val / 5, 1)})'\n",
    "            else:\n",
    "                return f'background-color: rgba(255, 0, 0, {min(abs(val) / 5, 1)})'\n",
    "        except:\n",
    "            return ''\n",
    "\n",
    "    styled = df.style\n",
    "    styled = styled.applymap(color_gradient, subset=df.columns.difference(['Signal', 'Names']))\n",
    "    return styled"
   ]
  },
  {
   "cell_type": "code",
   "execution_count": 16,
   "id": "fa57ba68",
   "metadata": {},
   "outputs": [],
   "source": [
    "def style_df_stats(df):\n",
    "    def style_row(row):\n",
    "        name = df.loc[row.name, 'Names'] \n",
    "        styled = [''] * len(row)\n",
    "        if name == 'R2':\n",
    "            styled = [''] + ['background-color: #d0f0c0' if v >= 0.75 else 'background-color: #fdd' for v in row[1:]]\n",
    "        elif name == 'DW':\n",
    "            styled = [''] + ['background-color: #fdd' if (v < 1.5 or v > 2.5) else '' for v in row[1:]]\n",
    "        elif name == 'LMpv':\n",
    "            styled = [''] + ['background-color: #fdd' if v < 0.05 else '' for v in row[1:]]\n",
    "        elif name in ['AIC', 'BIC']:\n",
    "            min_val = row[1:].min()\n",
    "            styled = [''] + ['background-color: #cce5ff' if v == min_val else '' for v in row[1:]]\n",
    "        \n",
    "        return styled\n",
    "\n",
    "    return df.style.apply(style_row, axis=1)\n"
   ]
  },
  {
   "cell_type": "markdown",
   "id": "3a74dfd5",
   "metadata": {},
   "source": [
    "O beta das regressões refere-se aos coeficientes de regressão (`coef`) que representam o impacto de cada variável independente na variável dependente. Esses valores estão presentes na coluna `coef` do DataFrame `regression` ou `df_top_20_regression`, dependendo do contexto.\n",
    "\n",
    "Por exemplo, no DataFrame `df_top_20_regression`, os valores de beta (coeficientes) para as variáveis estão na coluna `coef`. Esses coeficientes indicam a magnitude e a direção do impacto de cada variável explicativa no comportamento do CDX_US_HY_spread."
   ]
  },
  {
   "cell_type": "code",
   "execution_count": 17,
   "id": "df350516",
   "metadata": {},
   "outputs": [
    {
     "data": {
      "text/html": [
       "<style type=\"text/css\">\n",
       "#T_efb10_row0_col2 {\n",
       "  background-color: rgba(0, 128, 0, 0.1436);\n",
       "}\n",
       "#T_efb10_row0_col3 {\n",
       "  background-color: rgba(0, 128, 0, 0.088);\n",
       "}\n",
       "#T_efb10_row1_col1 {\n",
       "  background-color: rgba(255, 0, 0, 0.16499999999999998);\n",
       "}\n",
       "#T_efb10_row1_col3 {\n",
       "  background-color: rgba(255, 0, 0, 0.121);\n",
       "}\n",
       "#T_efb10_row1_col7, #T_efb10_row1_col12, #T_efb10_row1_col13, #T_efb10_row1_col14, #T_efb10_row1_col15, #T_efb10_row1_col16 {\n",
       "  background-color: rgba(255, 0, 0, 0.07680000000000001);\n",
       "}\n",
       "#T_efb10_row1_col8 {\n",
       "  background-color: rgba(255, 0, 0, 0.1004);\n",
       "}\n",
       "#T_efb10_row1_col9 {\n",
       "  background-color: rgba(255, 0, 0, 0.1034);\n",
       "}\n",
       "#T_efb10_row1_col10 {\n",
       "  background-color: rgba(255, 0, 0, 0.0748);\n",
       "}\n",
       "#T_efb10_row1_col11 {\n",
       "  background-color: rgba(255, 0, 0, 0.0684);\n",
       "}\n",
       "#T_efb10_row2_col4 {\n",
       "  background-color: rgba(0, 128, 0, 1);\n",
       "}\n",
       "#T_efb10_row2_col5 {\n",
       "  background-color: rgba(0, 128, 0, 0.8662000000000001);\n",
       "}\n",
       "#T_efb10_row2_col6 {\n",
       "  background-color: rgba(0, 128, 0, 0.893);\n",
       "}\n",
       "#T_efb10_row2_col7, #T_efb10_row2_col12, #T_efb10_row2_col13, #T_efb10_row2_col14, #T_efb10_row2_col15, #T_efb10_row2_col16 {\n",
       "  background-color: rgba(0, 128, 0, 0.8378);\n",
       "}\n",
       "#T_efb10_row2_col8 {\n",
       "  background-color: rgba(0, 128, 0, 0.9196);\n",
       "}\n",
       "#T_efb10_row2_col9 {\n",
       "  background-color: rgba(0, 128, 0, 0.9296);\n",
       "}\n",
       "#T_efb10_row2_col10 {\n",
       "  background-color: rgba(0, 128, 0, 0.8316000000000001);\n",
       "}\n",
       "#T_efb10_row2_col11 {\n",
       "  background-color: rgba(0, 128, 0, 0.8904);\n",
       "}\n",
       "#T_efb10_row3_col7, #T_efb10_row3_col12, #T_efb10_row3_col13, #T_efb10_row3_col14, #T_efb10_row3_col15, #T_efb10_row3_col16 {\n",
       "  background-color: rgba(0, 128, 0, 0.0021999999999999997);\n",
       "}\n",
       "#T_efb10_row3_col8 {\n",
       "  background-color: rgba(0, 128, 0, 0.0032);\n",
       "}\n",
       "#T_efb10_row3_col9 {\n",
       "  background-color: rgba(0, 128, 0, 0.0034000000000000002);\n",
       "}\n",
       "#T_efb10_row3_col10 {\n",
       "  background-color: rgba(0, 128, 0, 0.002);\n",
       "}\n",
       "#T_efb10_row4_col1 {\n",
       "  background-color: rgba(0, 128, 0, 0.31579999999999997);\n",
       "}\n",
       "#T_efb10_row4_col2 {\n",
       "  background-color: rgba(0, 128, 0, 0.3204);\n",
       "}\n",
       "#T_efb10_row4_col3 {\n",
       "  background-color: rgba(0, 128, 0, 0.24559999999999998);\n",
       "}\n",
       "#T_efb10_row4_col4 {\n",
       "  background-color: rgba(0, 128, 0, 0.13899999999999998);\n",
       "}\n",
       "#T_efb10_row4_col5 {\n",
       "  background-color: rgba(0, 128, 0, 0.0678);\n",
       "}\n",
       "#T_efb10_row4_col8 {\n",
       "  background-color: rgba(0, 128, 0, 0.033600000000000005);\n",
       "}\n",
       "#T_efb10_row4_col10 {\n",
       "  background-color: rgba(0, 128, 0, 0.0246);\n",
       "}\n",
       "#T_efb10_row4_col11 {\n",
       "  background-color: rgba(0, 128, 0, 0.0374);\n",
       "}\n",
       "#T_efb10_row5_col5 {\n",
       "  background-color: rgba(0, 128, 0, 0.1574);\n",
       "}\n",
       "#T_efb10_row5_col6 {\n",
       "  background-color: rgba(0, 128, 0, 0.1674);\n",
       "}\n",
       "#T_efb10_row5_col7, #T_efb10_row5_col12, #T_efb10_row5_col13, #T_efb10_row5_col14, #T_efb10_row5_col15, #T_efb10_row5_col16 {\n",
       "  background-color: rgba(0, 128, 0, 0.0848);\n",
       "}\n",
       "#T_efb10_row5_col10 {\n",
       "  background-color: rgba(0, 128, 0, 0.0836);\n",
       "}\n",
       "#T_efb10_row5_col11 {\n",
       "  background-color: rgba(0, 128, 0, 0.0984);\n",
       "}\n",
       "</style>\n",
       "<table id=\"T_efb10\">\n",
       "  <thead>\n",
       "    <tr>\n",
       "      <th class=\"blank level0\" >&nbsp;</th>\n",
       "      <th id=\"T_efb10_level0_col0\" class=\"col_heading level0 col0\" >Names</th>\n",
       "      <th id=\"T_efb10_level0_col1\" class=\"col_heading level0 col1\" >CDX_US_HY_spread</th>\n",
       "      <th id=\"T_efb10_level0_col2\" class=\"col_heading level0 col2\" >CDX_US_HY_spread1</th>\n",
       "      <th id=\"T_efb10_level0_col3\" class=\"col_heading level0 col3\" >CDX_US_HY_spread2</th>\n",
       "      <th id=\"T_efb10_level0_col4\" class=\"col_heading level0 col4\" >CDX_US_HY_spread3</th>\n",
       "      <th id=\"T_efb10_level0_col5\" class=\"col_heading level0 col5\" >CDX_US_HY_spread4</th>\n",
       "      <th id=\"T_efb10_level0_col6\" class=\"col_heading level0 col6\" >CDX_US_HY_spread5</th>\n",
       "      <th id=\"T_efb10_level0_col7\" class=\"col_heading level0 col7\" >CDX_US_HY_spread6</th>\n",
       "      <th id=\"T_efb10_level0_col8\" class=\"col_heading level0 col8\" >CDX_US_HY_spread7</th>\n",
       "      <th id=\"T_efb10_level0_col9\" class=\"col_heading level0 col9\" >CDX_US_HY_spread8</th>\n",
       "      <th id=\"T_efb10_level0_col10\" class=\"col_heading level0 col10\" >CDX_US_HY_spread9</th>\n",
       "      <th id=\"T_efb10_level0_col11\" class=\"col_heading level0 col11\" >CDX_US_HY_spread10</th>\n",
       "      <th id=\"T_efb10_level0_col12\" class=\"col_heading level0 col12\" >CDX_US_HY_spread11</th>\n",
       "      <th id=\"T_efb10_level0_col13\" class=\"col_heading level0 col13\" >CDX_US_HY_spread12</th>\n",
       "      <th id=\"T_efb10_level0_col14\" class=\"col_heading level0 col14\" >CDX_US_HY_spread13</th>\n",
       "      <th id=\"T_efb10_level0_col15\" class=\"col_heading level0 col15\" >CDX_US_HY_spread14</th>\n",
       "      <th id=\"T_efb10_level0_col16\" class=\"col_heading level0 col16\" >CDX_US_HY_spread15</th>\n",
       "    </tr>\n",
       "  </thead>\n",
       "  <tbody>\n",
       "    <tr>\n",
       "      <th id=\"T_efb10_level0_row0\" class=\"row_heading level0 row0\" >0</th>\n",
       "      <td id=\"T_efb10_row0_col0\" class=\"data row0 col0\" >Fed Sloos Tight Std for C&I Loans (Small Firms) (ZS) (Smoothed)</td>\n",
       "      <td id=\"T_efb10_row0_col1\" class=\"data row0 col1\" ></td>\n",
       "      <td id=\"T_efb10_row0_col2\" class=\"data row0 col2\" >0.718000</td>\n",
       "      <td id=\"T_efb10_row0_col3\" class=\"data row0 col3\" >0.440000</td>\n",
       "      <td id=\"T_efb10_row0_col4\" class=\"data row0 col4\" ></td>\n",
       "      <td id=\"T_efb10_row0_col5\" class=\"data row0 col5\" ></td>\n",
       "      <td id=\"T_efb10_row0_col6\" class=\"data row0 col6\" ></td>\n",
       "      <td id=\"T_efb10_row0_col7\" class=\"data row0 col7\" ></td>\n",
       "      <td id=\"T_efb10_row0_col8\" class=\"data row0 col8\" ></td>\n",
       "      <td id=\"T_efb10_row0_col9\" class=\"data row0 col9\" ></td>\n",
       "      <td id=\"T_efb10_row0_col10\" class=\"data row0 col10\" ></td>\n",
       "      <td id=\"T_efb10_row0_col11\" class=\"data row0 col11\" ></td>\n",
       "      <td id=\"T_efb10_row0_col12\" class=\"data row0 col12\" ></td>\n",
       "      <td id=\"T_efb10_row0_col13\" class=\"data row0 col13\" ></td>\n",
       "      <td id=\"T_efb10_row0_col14\" class=\"data row0 col14\" ></td>\n",
       "      <td id=\"T_efb10_row0_col15\" class=\"data row0 col15\" ></td>\n",
       "      <td id=\"T_efb10_row0_col16\" class=\"data row0 col16\" ></td>\n",
       "    </tr>\n",
       "    <tr>\n",
       "      <th id=\"T_efb10_level0_row1\" class=\"row_heading level0 row1\" >2</th>\n",
       "      <td id=\"T_efb10_row1_col0\" class=\"data row1 col0\" >Global PMI Composite (ZS)</td>\n",
       "      <td id=\"T_efb10_row1_col1\" class=\"data row1 col1\" >-0.825000</td>\n",
       "      <td id=\"T_efb10_row1_col2\" class=\"data row1 col2\" ></td>\n",
       "      <td id=\"T_efb10_row1_col3\" class=\"data row1 col3\" >-0.605000</td>\n",
       "      <td id=\"T_efb10_row1_col4\" class=\"data row1 col4\" ></td>\n",
       "      <td id=\"T_efb10_row1_col5\" class=\"data row1 col5\" ></td>\n",
       "      <td id=\"T_efb10_row1_col6\" class=\"data row1 col6\" ></td>\n",
       "      <td id=\"T_efb10_row1_col7\" class=\"data row1 col7\" >-0.384000</td>\n",
       "      <td id=\"T_efb10_row1_col8\" class=\"data row1 col8\" >-0.502000</td>\n",
       "      <td id=\"T_efb10_row1_col9\" class=\"data row1 col9\" >-0.517000</td>\n",
       "      <td id=\"T_efb10_row1_col10\" class=\"data row1 col10\" >-0.374000</td>\n",
       "      <td id=\"T_efb10_row1_col11\" class=\"data row1 col11\" >-0.342000</td>\n",
       "      <td id=\"T_efb10_row1_col12\" class=\"data row1 col12\" >-0.384000</td>\n",
       "      <td id=\"T_efb10_row1_col13\" class=\"data row1 col13\" >-0.384000</td>\n",
       "      <td id=\"T_efb10_row1_col14\" class=\"data row1 col14\" >-0.384000</td>\n",
       "      <td id=\"T_efb10_row1_col15\" class=\"data row1 col15\" >-0.384000</td>\n",
       "      <td id=\"T_efb10_row1_col16\" class=\"data row1 col16\" >-0.384000</td>\n",
       "    </tr>\n",
       "    <tr>\n",
       "      <th id=\"T_efb10_level0_row2\" class=\"row_heading level0 row2\" >4</th>\n",
       "      <td id=\"T_efb10_row2_col0\" class=\"data row2 col0\" >JPM FX Vol</td>\n",
       "      <td id=\"T_efb10_row2_col1\" class=\"data row2 col1\" ></td>\n",
       "      <td id=\"T_efb10_row2_col2\" class=\"data row2 col2\" ></td>\n",
       "      <td id=\"T_efb10_row2_col3\" class=\"data row2 col3\" ></td>\n",
       "      <td id=\"T_efb10_row2_col4\" class=\"data row2 col4\" >5.885000</td>\n",
       "      <td id=\"T_efb10_row2_col5\" class=\"data row2 col5\" >4.331000</td>\n",
       "      <td id=\"T_efb10_row2_col6\" class=\"data row2 col6\" >4.465000</td>\n",
       "      <td id=\"T_efb10_row2_col7\" class=\"data row2 col7\" >4.189000</td>\n",
       "      <td id=\"T_efb10_row2_col8\" class=\"data row2 col8\" >4.598000</td>\n",
       "      <td id=\"T_efb10_row2_col9\" class=\"data row2 col9\" >4.648000</td>\n",
       "      <td id=\"T_efb10_row2_col10\" class=\"data row2 col10\" >4.158000</td>\n",
       "      <td id=\"T_efb10_row2_col11\" class=\"data row2 col11\" >4.452000</td>\n",
       "      <td id=\"T_efb10_row2_col12\" class=\"data row2 col12\" >4.189000</td>\n",
       "      <td id=\"T_efb10_row2_col13\" class=\"data row2 col13\" >4.189000</td>\n",
       "      <td id=\"T_efb10_row2_col14\" class=\"data row2 col14\" >4.189000</td>\n",
       "      <td id=\"T_efb10_row2_col15\" class=\"data row2 col15\" >4.189000</td>\n",
       "      <td id=\"T_efb10_row2_col16\" class=\"data row2 col16\" >4.189000</td>\n",
       "    </tr>\n",
       "    <tr>\n",
       "      <th id=\"T_efb10_level0_row3\" class=\"row_heading level0 row3\" >6</th>\n",
       "      <td id=\"T_efb10_row3_col0\" class=\"data row3 col0\" >MOVE</td>\n",
       "      <td id=\"T_efb10_row3_col1\" class=\"data row3 col1\" ></td>\n",
       "      <td id=\"T_efb10_row3_col2\" class=\"data row3 col2\" ></td>\n",
       "      <td id=\"T_efb10_row3_col3\" class=\"data row3 col3\" ></td>\n",
       "      <td id=\"T_efb10_row3_col4\" class=\"data row3 col4\" ></td>\n",
       "      <td id=\"T_efb10_row3_col5\" class=\"data row3 col5\" ></td>\n",
       "      <td id=\"T_efb10_row3_col6\" class=\"data row3 col6\" ></td>\n",
       "      <td id=\"T_efb10_row3_col7\" class=\"data row3 col7\" >0.011000</td>\n",
       "      <td id=\"T_efb10_row3_col8\" class=\"data row3 col8\" >0.016000</td>\n",
       "      <td id=\"T_efb10_row3_col9\" class=\"data row3 col9\" >0.017000</td>\n",
       "      <td id=\"T_efb10_row3_col10\" class=\"data row3 col10\" >0.010000</td>\n",
       "      <td id=\"T_efb10_row3_col11\" class=\"data row3 col11\" ></td>\n",
       "      <td id=\"T_efb10_row3_col12\" class=\"data row3 col12\" >0.011000</td>\n",
       "      <td id=\"T_efb10_row3_col13\" class=\"data row3 col13\" >0.011000</td>\n",
       "      <td id=\"T_efb10_row3_col14\" class=\"data row3 col14\" >0.011000</td>\n",
       "      <td id=\"T_efb10_row3_col15\" class=\"data row3 col15\" >0.011000</td>\n",
       "      <td id=\"T_efb10_row3_col16\" class=\"data row3 col16\" >0.011000</td>\n",
       "    </tr>\n",
       "    <tr>\n",
       "      <th id=\"T_efb10_level0_row4\" class=\"row_heading level0 row4\" >8</th>\n",
       "      <td id=\"T_efb10_row4_col0\" class=\"data row4 col0\" >Ted Spread US (%)</td>\n",
       "      <td id=\"T_efb10_row4_col1\" class=\"data row4 col1\" >1.579000</td>\n",
       "      <td id=\"T_efb10_row4_col2\" class=\"data row4 col2\" >1.602000</td>\n",
       "      <td id=\"T_efb10_row4_col3\" class=\"data row4 col3\" >1.228000</td>\n",
       "      <td id=\"T_efb10_row4_col4\" class=\"data row4 col4\" >0.695000</td>\n",
       "      <td id=\"T_efb10_row4_col5\" class=\"data row4 col5\" >0.339000</td>\n",
       "      <td id=\"T_efb10_row4_col6\" class=\"data row4 col6\" ></td>\n",
       "      <td id=\"T_efb10_row4_col7\" class=\"data row4 col7\" ></td>\n",
       "      <td id=\"T_efb10_row4_col8\" class=\"data row4 col8\" >0.168000</td>\n",
       "      <td id=\"T_efb10_row4_col9\" class=\"data row4 col9\" ></td>\n",
       "      <td id=\"T_efb10_row4_col10\" class=\"data row4 col10\" >0.123000</td>\n",
       "      <td id=\"T_efb10_row4_col11\" class=\"data row4 col11\" >0.187000</td>\n",
       "      <td id=\"T_efb10_row4_col12\" class=\"data row4 col12\" ></td>\n",
       "      <td id=\"T_efb10_row4_col13\" class=\"data row4 col13\" ></td>\n",
       "      <td id=\"T_efb10_row4_col14\" class=\"data row4 col14\" ></td>\n",
       "      <td id=\"T_efb10_row4_col15\" class=\"data row4 col15\" ></td>\n",
       "      <td id=\"T_efb10_row4_col16\" class=\"data row4 col16\" ></td>\n",
       "    </tr>\n",
       "    <tr>\n",
       "      <th id=\"T_efb10_level0_row5\" class=\"row_heading level0 row5\" >10</th>\n",
       "      <td id=\"T_efb10_row5_col0\" class=\"data row5 col0\" >VIX SPX</td>\n",
       "      <td id=\"T_efb10_row5_col1\" class=\"data row5 col1\" ></td>\n",
       "      <td id=\"T_efb10_row5_col2\" class=\"data row5 col2\" ></td>\n",
       "      <td id=\"T_efb10_row5_col3\" class=\"data row5 col3\" ></td>\n",
       "      <td id=\"T_efb10_row5_col4\" class=\"data row5 col4\" ></td>\n",
       "      <td id=\"T_efb10_row5_col5\" class=\"data row5 col5\" >0.787000</td>\n",
       "      <td id=\"T_efb10_row5_col6\" class=\"data row5 col6\" >0.837000</td>\n",
       "      <td id=\"T_efb10_row5_col7\" class=\"data row5 col7\" >0.424000</td>\n",
       "      <td id=\"T_efb10_row5_col8\" class=\"data row5 col8\" ></td>\n",
       "      <td id=\"T_efb10_row5_col9\" class=\"data row5 col9\" ></td>\n",
       "      <td id=\"T_efb10_row5_col10\" class=\"data row5 col10\" >0.418000</td>\n",
       "      <td id=\"T_efb10_row5_col11\" class=\"data row5 col11\" >0.492000</td>\n",
       "      <td id=\"T_efb10_row5_col12\" class=\"data row5 col12\" >0.424000</td>\n",
       "      <td id=\"T_efb10_row5_col13\" class=\"data row5 col13\" >0.424000</td>\n",
       "      <td id=\"T_efb10_row5_col14\" class=\"data row5 col14\" >0.424000</td>\n",
       "      <td id=\"T_efb10_row5_col15\" class=\"data row5 col15\" >0.424000</td>\n",
       "      <td id=\"T_efb10_row5_col16\" class=\"data row5 col16\" >0.424000</td>\n",
       "    </tr>\n",
       "  </tbody>\n",
       "</table>\n"
      ],
      "text/plain": [
       "<pandas.io.formats.style.Styler at 0x24f09964a50>"
      ]
     },
     "metadata": {},
     "output_type": "display_data"
    }
   ],
   "source": [
    "# Exibir os DataFrames com formatação\n",
    "display(style_df_main(df_main))"
   ]
  },
  {
   "cell_type": "markdown",
   "id": "f5e97845",
   "metadata": {},
   "source": [
    "Dados Estatisticos:"
   ]
  },
  {
   "cell_type": "code",
   "execution_count": 19,
   "id": "739c0bdd",
   "metadata": {},
   "outputs": [
    {
     "data": {
      "text/html": [
       "<style type=\"text/css\">\n",
       "#T_8f264_row1_col7, #T_8f264_row1_col12, #T_8f264_row1_col13, #T_8f264_row1_col14, #T_8f264_row1_col15, #T_8f264_row1_col16, #T_8f264_row2_col7, #T_8f264_row2_col12, #T_8f264_row2_col13, #T_8f264_row2_col14, #T_8f264_row2_col15, #T_8f264_row2_col16 {\n",
       "  background-color: #cce5ff;\n",
       "}\n",
       "#T_8f264_row3_col1, #T_8f264_row3_col2, #T_8f264_row3_col3, #T_8f264_row3_col4, #T_8f264_row3_col5, #T_8f264_row3_col6, #T_8f264_row3_col7, #T_8f264_row3_col8, #T_8f264_row3_col9, #T_8f264_row3_col10, #T_8f264_row3_col11, #T_8f264_row3_col12, #T_8f264_row3_col13, #T_8f264_row3_col14, #T_8f264_row3_col15, #T_8f264_row3_col16, #T_8f264_row3_col17, #T_8f264_row4_col1, #T_8f264_row4_col2, #T_8f264_row4_col3, #T_8f264_row4_col4, #T_8f264_row4_col5, #T_8f264_row4_col6, #T_8f264_row4_col7, #T_8f264_row4_col8, #T_8f264_row4_col9, #T_8f264_row4_col10, #T_8f264_row4_col11, #T_8f264_row4_col12, #T_8f264_row4_col13, #T_8f264_row4_col14, #T_8f264_row4_col15, #T_8f264_row4_col16, #T_8f264_row4_col17, #T_8f264_row6_col1, #T_8f264_row6_col2, #T_8f264_row6_col3, #T_8f264_row6_col4 {\n",
       "  background-color: #fdd;\n",
       "}\n",
       "#T_8f264_row6_col5, #T_8f264_row6_col6, #T_8f264_row6_col7, #T_8f264_row6_col8, #T_8f264_row6_col9, #T_8f264_row6_col10, #T_8f264_row6_col11, #T_8f264_row6_col12, #T_8f264_row6_col13, #T_8f264_row6_col14, #T_8f264_row6_col15, #T_8f264_row6_col16, #T_8f264_row6_col17 {\n",
       "  background-color: #d0f0c0;\n",
       "}\n",
       "</style>\n",
       "<table id=\"T_8f264\">\n",
       "  <thead>\n",
       "    <tr>\n",
       "      <th class=\"blank level0\" >&nbsp;</th>\n",
       "      <th id=\"T_8f264_level0_col0\" class=\"col_heading level0 col0\" >Names</th>\n",
       "      <th id=\"T_8f264_level0_col1\" class=\"col_heading level0 col1\" >CDX_US_HY_spread</th>\n",
       "      <th id=\"T_8f264_level0_col2\" class=\"col_heading level0 col2\" >CDX_US_HY_spread1</th>\n",
       "      <th id=\"T_8f264_level0_col3\" class=\"col_heading level0 col3\" >CDX_US_HY_spread2</th>\n",
       "      <th id=\"T_8f264_level0_col4\" class=\"col_heading level0 col4\" >CDX_US_HY_spread3</th>\n",
       "      <th id=\"T_8f264_level0_col5\" class=\"col_heading level0 col5\" >CDX_US_HY_spread4</th>\n",
       "      <th id=\"T_8f264_level0_col6\" class=\"col_heading level0 col6\" >CDX_US_HY_spread5</th>\n",
       "      <th id=\"T_8f264_level0_col7\" class=\"col_heading level0 col7\" >CDX_US_HY_spread6</th>\n",
       "      <th id=\"T_8f264_level0_col8\" class=\"col_heading level0 col8\" >CDX_US_HY_spread7</th>\n",
       "      <th id=\"T_8f264_level0_col9\" class=\"col_heading level0 col9\" >CDX_US_HY_spread8</th>\n",
       "      <th id=\"T_8f264_level0_col10\" class=\"col_heading level0 col10\" >CDX_US_HY_spread9</th>\n",
       "      <th id=\"T_8f264_level0_col11\" class=\"col_heading level0 col11\" >CDX_US_HY_spread10</th>\n",
       "      <th id=\"T_8f264_level0_col12\" class=\"col_heading level0 col12\" >CDX_US_HY_spread11</th>\n",
       "      <th id=\"T_8f264_level0_col13\" class=\"col_heading level0 col13\" >CDX_US_HY_spread12</th>\n",
       "      <th id=\"T_8f264_level0_col14\" class=\"col_heading level0 col14\" >CDX_US_HY_spread13</th>\n",
       "      <th id=\"T_8f264_level0_col15\" class=\"col_heading level0 col15\" >CDX_US_HY_spread14</th>\n",
       "      <th id=\"T_8f264_level0_col16\" class=\"col_heading level0 col16\" >CDX_US_HY_spread15</th>\n",
       "      <th id=\"T_8f264_level0_col17\" class=\"col_heading level0 col17\" >best</th>\n",
       "    </tr>\n",
       "  </thead>\n",
       "  <tbody>\n",
       "    <tr>\n",
       "      <th id=\"T_8f264_level0_row0\" class=\"row_heading level0 row0\" >12</th>\n",
       "      <td id=\"T_8f264_row0_col0\" class=\"data row0 col0\" >intercept</td>\n",
       "      <td id=\"T_8f264_row0_col1\" class=\"data row0 col1\" >0.037000</td>\n",
       "      <td id=\"T_8f264_row0_col2\" class=\"data row0 col2\" >0.038000</td>\n",
       "      <td id=\"T_8f264_row0_col3\" class=\"data row0 col3\" >0.039000</td>\n",
       "      <td id=\"T_8f264_row0_col4\" class=\"data row0 col4\" >-0.014000</td>\n",
       "      <td id=\"T_8f264_row0_col5\" class=\"data row0 col5\" >-0.014000</td>\n",
       "      <td id=\"T_8f264_row0_col6\" class=\"data row0 col6\" >-0.014000</td>\n",
       "      <td id=\"T_8f264_row0_col7\" class=\"data row0 col7\" >-0.011000</td>\n",
       "      <td id=\"T_8f264_row0_col8\" class=\"data row0 col8\" >-0.011000</td>\n",
       "      <td id=\"T_8f264_row0_col9\" class=\"data row0 col9\" >-0.011000</td>\n",
       "      <td id=\"T_8f264_row0_col10\" class=\"data row0 col10\" >-0.011000</td>\n",
       "      <td id=\"T_8f264_row0_col11\" class=\"data row0 col11\" >-0.009000</td>\n",
       "      <td id=\"T_8f264_row0_col12\" class=\"data row0 col12\" >-0.011000</td>\n",
       "      <td id=\"T_8f264_row0_col13\" class=\"data row0 col13\" >-0.011000</td>\n",
       "      <td id=\"T_8f264_row0_col14\" class=\"data row0 col14\" >-0.011000</td>\n",
       "      <td id=\"T_8f264_row0_col15\" class=\"data row0 col15\" >-0.011000</td>\n",
       "      <td id=\"T_8f264_row0_col16\" class=\"data row0 col16\" >-0.011000</td>\n",
       "      <td id=\"T_8f264_row0_col17\" class=\"data row0 col17\" >0.039000</td>\n",
       "    </tr>\n",
       "    <tr>\n",
       "      <th id=\"T_8f264_level0_row1\" class=\"row_heading level0 row1\" >14</th>\n",
       "      <td id=\"T_8f264_row1_col0\" class=\"data row1 col0\" >AIC</td>\n",
       "      <td id=\"T_8f264_row1_col1\" class=\"data row1 col1\" >-1499.660000</td>\n",
       "      <td id=\"T_8f264_row1_col2\" class=\"data row1 col2\" >-1484.170000</td>\n",
       "      <td id=\"T_8f264_row1_col3\" class=\"data row1 col3\" >-1519.980000</td>\n",
       "      <td id=\"T_8f264_row1_col4\" class=\"data row1 col4\" >-1678.920000</td>\n",
       "      <td id=\"T_8f264_row1_col5\" class=\"data row1 col5\" >-1732.180000</td>\n",
       "      <td id=\"T_8f264_row1_col6\" class=\"data row1 col6\" >-1730.540000</td>\n",
       "      <td id=\"T_8f264_row1_col7\" class=\"data row1 col7\" >-1761.070000</td>\n",
       "      <td id=\"T_8f264_row1_col8\" class=\"data row1 col8\" >-1748.690000</td>\n",
       "      <td id=\"T_8f264_row1_col9\" class=\"data row1 col9\" >-1749.770000</td>\n",
       "      <td id=\"T_8f264_row1_col10\" class=\"data row1 col10\" >-1759.580000</td>\n",
       "      <td id=\"T_8f264_row1_col11\" class=\"data row1 col11\" >-1757.240000</td>\n",
       "      <td id=\"T_8f264_row1_col12\" class=\"data row1 col12\" >-1761.070000</td>\n",
       "      <td id=\"T_8f264_row1_col13\" class=\"data row1 col13\" >-1761.070000</td>\n",
       "      <td id=\"T_8f264_row1_col14\" class=\"data row1 col14\" >-1761.070000</td>\n",
       "      <td id=\"T_8f264_row1_col15\" class=\"data row1 col15\" >-1761.070000</td>\n",
       "      <td id=\"T_8f264_row1_col16\" class=\"data row1 col16\" >-1761.070000</td>\n",
       "      <td id=\"T_8f264_row1_col17\" class=\"data row1 col17\" >-1484.170000</td>\n",
       "    </tr>\n",
       "    <tr>\n",
       "      <th id=\"T_8f264_level0_row2\" class=\"row_heading level0 row2\" >15</th>\n",
       "      <td id=\"T_8f264_row2_col0\" class=\"data row2 col0\" >BIC</td>\n",
       "      <td id=\"T_8f264_row2_col1\" class=\"data row2 col1\" >-1488.940000</td>\n",
       "      <td id=\"T_8f264_row2_col2\" class=\"data row2 col2\" >-1473.450000</td>\n",
       "      <td id=\"T_8f264_row2_col3\" class=\"data row2 col3\" >-1505.670000</td>\n",
       "      <td id=\"T_8f264_row2_col4\" class=\"data row2 col4\" >-1668.190000</td>\n",
       "      <td id=\"T_8f264_row2_col5\" class=\"data row2 col5\" >-1717.880000</td>\n",
       "      <td id=\"T_8f264_row2_col6\" class=\"data row2 col6\" >-1719.810000</td>\n",
       "      <td id=\"T_8f264_row2_col7\" class=\"data row2 col7\" >-1743.190000</td>\n",
       "      <td id=\"T_8f264_row2_col8\" class=\"data row2 col8\" >-1730.810000</td>\n",
       "      <td id=\"T_8f264_row2_col9\" class=\"data row2 col9\" >-1735.470000</td>\n",
       "      <td id=\"T_8f264_row2_col10\" class=\"data row2 col10\" >-1738.130000</td>\n",
       "      <td id=\"T_8f264_row2_col11\" class=\"data row2 col11\" >-1739.360000</td>\n",
       "      <td id=\"T_8f264_row2_col12\" class=\"data row2 col12\" >-1743.190000</td>\n",
       "      <td id=\"T_8f264_row2_col13\" class=\"data row2 col13\" >-1743.190000</td>\n",
       "      <td id=\"T_8f264_row2_col14\" class=\"data row2 col14\" >-1743.190000</td>\n",
       "      <td id=\"T_8f264_row2_col15\" class=\"data row2 col15\" >-1743.190000</td>\n",
       "      <td id=\"T_8f264_row2_col16\" class=\"data row2 col16\" >-1743.190000</td>\n",
       "      <td id=\"T_8f264_row2_col17\" class=\"data row2 col17\" >-1473.450000</td>\n",
       "    </tr>\n",
       "    <tr>\n",
       "      <th id=\"T_8f264_level0_row3\" class=\"row_heading level0 row3\" >16</th>\n",
       "      <td id=\"T_8f264_row3_col0\" class=\"data row3 col0\" >DW</td>\n",
       "      <td id=\"T_8f264_row3_col1\" class=\"data row3 col1\" >0.200000</td>\n",
       "      <td id=\"T_8f264_row3_col2\" class=\"data row3 col2\" >0.190000</td>\n",
       "      <td id=\"T_8f264_row3_col3\" class=\"data row3 col3\" >0.200000</td>\n",
       "      <td id=\"T_8f264_row3_col4\" class=\"data row3 col4\" >0.370000</td>\n",
       "      <td id=\"T_8f264_row3_col5\" class=\"data row3 col5\" >0.460000</td>\n",
       "      <td id=\"T_8f264_row3_col6\" class=\"data row3 col6\" >0.440000</td>\n",
       "      <td id=\"T_8f264_row3_col7\" class=\"data row3 col7\" >0.430000</td>\n",
       "      <td id=\"T_8f264_row3_col8\" class=\"data row3 col8\" >0.420000</td>\n",
       "      <td id=\"T_8f264_row3_col9\" class=\"data row3 col9\" >0.410000</td>\n",
       "      <td id=\"T_8f264_row3_col10\" class=\"data row3 col10\" >0.430000</td>\n",
       "      <td id=\"T_8f264_row3_col11\" class=\"data row3 col11\" >0.440000</td>\n",
       "      <td id=\"T_8f264_row3_col12\" class=\"data row3 col12\" >0.430000</td>\n",
       "      <td id=\"T_8f264_row3_col13\" class=\"data row3 col13\" >0.430000</td>\n",
       "      <td id=\"T_8f264_row3_col14\" class=\"data row3 col14\" >0.430000</td>\n",
       "      <td id=\"T_8f264_row3_col15\" class=\"data row3 col15\" >0.430000</td>\n",
       "      <td id=\"T_8f264_row3_col16\" class=\"data row3 col16\" >0.430000</td>\n",
       "      <td id=\"T_8f264_row3_col17\" class=\"data row3 col17\" >0.460000</td>\n",
       "    </tr>\n",
       "    <tr>\n",
       "      <th id=\"T_8f264_level0_row4\" class=\"row_heading level0 row4\" >17</th>\n",
       "      <td id=\"T_8f264_row4_col0\" class=\"data row4 col0\" >LMpv</td>\n",
       "      <td id=\"T_8f264_row4_col1\" class=\"data row4 col1\" >0.000000</td>\n",
       "      <td id=\"T_8f264_row4_col2\" class=\"data row4 col2\" >0.000000</td>\n",
       "      <td id=\"T_8f264_row4_col3\" class=\"data row4 col3\" >0.000000</td>\n",
       "      <td id=\"T_8f264_row4_col4\" class=\"data row4 col4\" >0.000000</td>\n",
       "      <td id=\"T_8f264_row4_col5\" class=\"data row4 col5\" >0.000000</td>\n",
       "      <td id=\"T_8f264_row4_col6\" class=\"data row4 col6\" >0.000000</td>\n",
       "      <td id=\"T_8f264_row4_col7\" class=\"data row4 col7\" >0.000000</td>\n",
       "      <td id=\"T_8f264_row4_col8\" class=\"data row4 col8\" >0.000000</td>\n",
       "      <td id=\"T_8f264_row4_col9\" class=\"data row4 col9\" >0.000000</td>\n",
       "      <td id=\"T_8f264_row4_col10\" class=\"data row4 col10\" >0.000000</td>\n",
       "      <td id=\"T_8f264_row4_col11\" class=\"data row4 col11\" >0.000000</td>\n",
       "      <td id=\"T_8f264_row4_col12\" class=\"data row4 col12\" >0.000000</td>\n",
       "      <td id=\"T_8f264_row4_col13\" class=\"data row4 col13\" >0.000000</td>\n",
       "      <td id=\"T_8f264_row4_col14\" class=\"data row4 col14\" >0.000000</td>\n",
       "      <td id=\"T_8f264_row4_col15\" class=\"data row4 col15\" >0.000000</td>\n",
       "      <td id=\"T_8f264_row4_col16\" class=\"data row4 col16\" >0.000000</td>\n",
       "      <td id=\"T_8f264_row4_col17\" class=\"data row4 col17\" >0.000000</td>\n",
       "    </tr>\n",
       "    <tr>\n",
       "      <th id=\"T_8f264_level0_row5\" class=\"row_heading level0 row5\" >18</th>\n",
       "      <td id=\"T_8f264_row5_col0\" class=\"data row5 col0\" >MSE</td>\n",
       "      <td id=\"T_8f264_row5_col1\" class=\"data row5 col1\" >0.000000</td>\n",
       "      <td id=\"T_8f264_row5_col2\" class=\"data row5 col2\" >0.000000</td>\n",
       "      <td id=\"T_8f264_row5_col3\" class=\"data row5 col3\" >0.000000</td>\n",
       "      <td id=\"T_8f264_row5_col4\" class=\"data row5 col4\" >0.000000</td>\n",
       "      <td id=\"T_8f264_row5_col5\" class=\"data row5 col5\" >0.000000</td>\n",
       "      <td id=\"T_8f264_row5_col6\" class=\"data row5 col6\" >0.000000</td>\n",
       "      <td id=\"T_8f264_row5_col7\" class=\"data row5 col7\" >0.000000</td>\n",
       "      <td id=\"T_8f264_row5_col8\" class=\"data row5 col8\" >0.000000</td>\n",
       "      <td id=\"T_8f264_row5_col9\" class=\"data row5 col9\" >0.000000</td>\n",
       "      <td id=\"T_8f264_row5_col10\" class=\"data row5 col10\" >0.000000</td>\n",
       "      <td id=\"T_8f264_row5_col11\" class=\"data row5 col11\" >0.000000</td>\n",
       "      <td id=\"T_8f264_row5_col12\" class=\"data row5 col12\" >0.000000</td>\n",
       "      <td id=\"T_8f264_row5_col13\" class=\"data row5 col13\" >0.000000</td>\n",
       "      <td id=\"T_8f264_row5_col14\" class=\"data row5 col14\" >0.000000</td>\n",
       "      <td id=\"T_8f264_row5_col15\" class=\"data row5 col15\" >0.000000</td>\n",
       "      <td id=\"T_8f264_row5_col16\" class=\"data row5 col16\" >0.000000</td>\n",
       "      <td id=\"T_8f264_row5_col17\" class=\"data row5 col17\" >0.000000</td>\n",
       "    </tr>\n",
       "    <tr>\n",
       "      <th id=\"T_8f264_level0_row6\" class=\"row_heading level0 row6\" >19</th>\n",
       "      <td id=\"T_8f264_row6_col0\" class=\"data row6 col0\" >R2</td>\n",
       "      <td id=\"T_8f264_row6_col1\" class=\"data row6 col1\" >0.450000</td>\n",
       "      <td id=\"T_8f264_row6_col2\" class=\"data row6 col2\" >0.420000</td>\n",
       "      <td id=\"T_8f264_row6_col3\" class=\"data row6 col3\" >0.500000</td>\n",
       "      <td id=\"T_8f264_row6_col4\" class=\"data row6 col4\" >0.720000</td>\n",
       "      <td id=\"T_8f264_row6_col5\" class=\"data row6 col5\" >0.770000</td>\n",
       "      <td id=\"T_8f264_row6_col6\" class=\"data row6 col6\" >0.770000</td>\n",
       "      <td id=\"T_8f264_row6_col7\" class=\"data row6 col7\" >0.800000</td>\n",
       "      <td id=\"T_8f264_row6_col8\" class=\"data row6 col8\" >0.790000</td>\n",
       "      <td id=\"T_8f264_row6_col9\" class=\"data row6 col9\" >0.790000</td>\n",
       "      <td id=\"T_8f264_row6_col10\" class=\"data row6 col10\" >0.800000</td>\n",
       "      <td id=\"T_8f264_row6_col11\" class=\"data row6 col11\" >0.800000</td>\n",
       "      <td id=\"T_8f264_row6_col12\" class=\"data row6 col12\" >0.800000</td>\n",
       "      <td id=\"T_8f264_row6_col13\" class=\"data row6 col13\" >0.800000</td>\n",
       "      <td id=\"T_8f264_row6_col14\" class=\"data row6 col14\" >0.800000</td>\n",
       "      <td id=\"T_8f264_row6_col15\" class=\"data row6 col15\" >0.800000</td>\n",
       "      <td id=\"T_8f264_row6_col16\" class=\"data row6 col16\" >0.800000</td>\n",
       "      <td id=\"T_8f264_row6_col17\" class=\"data row6 col17\" >0.800000</td>\n",
       "    </tr>\n",
       "  </tbody>\n",
       "</table>\n"
      ],
      "text/plain": [
       "<pandas.io.formats.style.Styler at 0x24f09a27a80>"
      ]
     },
     "metadata": {},
     "output_type": "display_data"
    }
   ],
   "source": [
    "display(style_df_stats(df_statistics))"
   ]
  },
  {
   "cell_type": "markdown",
   "id": "745a2a1f",
   "metadata": {},
   "source": [
    "# TERCEIRA TABELA\n"
   ]
  },
  {
   "cell_type": "code",
   "execution_count": null,
   "id": "8fdb0237",
   "metadata": {},
   "outputs": [],
   "source": [
    "import pandas as pd\n",
    "\n",
    "# Read the Excel file\n",
    "file_path = '../excel/out/US/Credit/HY/t_0/reccursive/sectors_regs_summary.xlsx'\n",
    "data = pd.read_excel(file_path)\n",
    "\n",
    "leg = pd.read_excel(\"../excel/in/legendas.xlsx\")\n",
    "# Display the first few rows of the dataframe\n",
    "# display(data.head())"
   ]
  },
  {
   "cell_type": "code",
   "execution_count": null,
   "id": "24c561e2",
   "metadata": {},
   "outputs": [],
   "source": [
    "data.rename(columns={\"idx\": \"Codes\"}, inplace=True)\n",
    "data.insert(data.columns.get_loc(\"Codes\") + 1, \"Names\", \"\")\n",
    "# display(data)"
   ]
  },
  {
   "cell_type": "code",
   "execution_count": null,
   "id": "325c944b",
   "metadata": {},
   "outputs": [],
   "source": [
    "data.insert(data.columns.get_loc(\"Codes\") + 1, \"coef\", data['Codes'].str.endswith('(coef)'))\n",
    "data.insert(data.columns.get_loc(\"Codes\") + 2, \"pval\", data['Codes'].str.endswith('(pval)'))"
   ]
  },
  {
   "cell_type": "code",
   "execution_count": null,
   "id": "d8186e4e",
   "metadata": {},
   "outputs": [],
   "source": [
    "for idx, i in data['coef'].items():\n",
    "    if i == True:\n",
    "        data.at[idx, 'Codes'] = data.at[idx, 'Codes'].replace(\" (coef)\", \"\")\n",
    "        \n",
    "\n",
    "for idx, i in data['pval'].items():\n",
    "    if i == True:\n",
    "        data.at[idx, 'Codes'] = data.at[idx - 1, 'Codes']"
   ]
  },
  {
   "cell_type": "code",
   "execution_count": null,
   "id": "81dd8cba",
   "metadata": {},
   "outputs": [],
   "source": [
    "mapping = dict(zip(leg[\"Codes\"], leg[\"Names\"]))\n",
    "# print(mapping)\n",
    "\n",
    "for idx, code in data[\"Codes\"].items():\n",
    "    if code in mapping:\n",
    "        data.at[idx, \"Names\"] = mapping[code]"
   ]
  },
  {
   "cell_type": "code",
   "execution_count": null,
   "id": "9f0477e2",
   "metadata": {},
   "outputs": [],
   "source": [
    "df_completo = data"
   ]
  },
  {
   "cell_type": "code",
   "execution_count": null,
   "id": "91c1ff50",
   "metadata": {},
   "outputs": [],
   "source": [
    "df_coef = data[\n",
    "    (data['coef'] == True) |\n",
    "    ((data['pval'] == False) & (data['coef'] == False))\n",
    "]\n",
    "\n",
    "df_pval = data[\n",
    "    (data['pval'] == True) |\n",
    "    ((data['pval'] == False) & (data['coef'] == False))\n",
    "]\n",
    "\n",
    "# display(df_coef)\n",
    "# display(df_pval)"
   ]
  },
  {
   "cell_type": "code",
   "execution_count": null,
   "id": "294771fe",
   "metadata": {},
   "outputs": [],
   "source": [
    "# Seleciona as últimas 7 linhas de 'Codes' e atribui o mesmo valor a 'Names'\n",
    "last_7_codes = df_coef['Codes'].iloc[-7:]\n",
    "df_coef.loc[df_coef.index[-7:], 'Names'] = last_7_codes.values\n",
    "df_pval.loc[df_pval.index[-7:], 'Names'] = last_7_codes.values\n"
   ]
  },
  {
   "cell_type": "code",
   "execution_count": null,
   "id": "9a5e23fd",
   "metadata": {},
   "outputs": [],
   "source": [
    "# display(df_coef)\n",
    "# display(df_pval)"
   ]
  },
  {
   "cell_type": "code",
   "execution_count": null,
   "id": "adc386db",
   "metadata": {},
   "outputs": [
    {
     "name": "stderr",
     "output_type": "stream",
     "text": [
      "C:\\Users\\gabriel\\AppData\\Local\\Temp\\ipykernel_13764\\1705058012.py:3: SettingWithCopyWarning:\n",
      "\n",
      "\n",
      "A value is trying to be set on a copy of a slice from a DataFrame\n",
      "\n",
      "See the caveats in the documentation: https://pandas.pydata.org/pandas-docs/stable/user_guide/indexing.html#returning-a-view-versus-a-copy\n",
      "\n",
      "C:\\Users\\gabriel\\AppData\\Local\\Temp\\ipykernel_13764\\1705058012.py:4: SettingWithCopyWarning:\n",
      "\n",
      "\n",
      "A value is trying to be set on a copy of a slice from a DataFrame\n",
      "\n",
      "See the caveats in the documentation: https://pandas.pydata.org/pandas-docs/stable/user_guide/indexing.html#returning-a-view-versus-a-copy\n",
      "\n"
     ]
    }
   ],
   "source": [
    "df_coef.copy()\n",
    "df_pval.copy()\n",
    "df_coef.drop(columns=['Unnamed: 0','Codes', 'coef', 'pval'], inplace=True)\n",
    "df_pval.drop(columns=['Unnamed: 0','Codes', 'coef', 'pval'], inplace=True)"
   ]
  },
  {
   "cell_type": "code",
   "execution_count": null,
   "id": "f1dfbc85",
   "metadata": {},
   "outputs": [],
   "source": [
    "# display(df_coef)\n",
    "# display(df_pval)"
   ]
  },
  {
   "cell_type": "code",
   "execution_count": null,
   "id": "81cf8fa9",
   "metadata": {},
   "outputs": [],
   "source": [
    "df_coef.insert(df_coef.columns.get_loc(\"Names\"), \"Signal\", \"\")\n",
    "# df_coef"
   ]
  },
  {
   "cell_type": "code",
   "execution_count": null,
   "id": "68fec5fa",
   "metadata": {},
   "outputs": [],
   "source": [
    "# df_coef.columns "
   ]
  },
  {
   "cell_type": "code",
   "execution_count": null,
   "id": "0fbeb406",
   "metadata": {},
   "outputs": [],
   "source": [
    "# Renomear as colunas, mantendo \"Signal\" e \"Names\" intactas\n",
    "new_columns = []\n",
    "\n",
    "for col in df_coef.columns:\n",
    "    if col.startswith(\"CDX_US_HY_spread\"):\n",
    "        # Extraia o número do final (ou 0 se não houver sufixo)\n",
    "        suffix = col.replace(\"CDX_US_HY_spread\", \"\")\n",
    "        number = int(suffix) + 1 if suffix.isdigit() else 1\n",
    "        new_columns.append(str(number))\n",
    "    else:\n",
    "        new_columns.append(col)\n",
    "\n",
    "# Atribuir os novos nomes ao DataFrame\n",
    "df_coef.columns = new_columns\n"
   ]
  },
  {
   "cell_type": "code",
   "execution_count": null,
   "id": "e7393758",
   "metadata": {},
   "outputs": [],
   "source": [
    "new_columns = []\n",
    "\n",
    "for col in df_pval.columns:\n",
    "    if col.startswith(\"CDX_US_HY_spread\"):\n",
    "        # Extraia o número do final (ou 0 se não houver sufixo)\n",
    "        suffix = col.replace(\"CDX_US_HY_spread\", \"\")\n",
    "        number = int(suffix) + 1 if suffix.isdigit() else 1\n",
    "        new_columns.append(str(number))\n",
    "    else:\n",
    "        new_columns.append(col)\n",
    "\n",
    "# Atribuir os novos nomes ao DataFrame\n",
    "df_pval.columns = new_columns\n"
   ]
  },
  {
   "cell_type": "code",
   "execution_count": null,
   "id": "4272408c",
   "metadata": {},
   "outputs": [],
   "source": [
    "output_path = '../excel/out/df_coef_exported.xlsx'\n",
    "df_coef.to_excel(output_path, index=False)\n",
    "\n",
    "output_path2 = '../excel/out/df_pval_exported.xlsx'\n",
    "df_pval.to_excel(output_path2, index=False)"
   ]
  },
  {
   "cell_type": "code",
   "execution_count": null,
   "id": "5ff333d1",
   "metadata": {},
   "outputs": [],
   "source": [
    "df_completo = df_completo[df_completo['coef'] == True]\n",
    "# df_completo"
   ]
  },
  {
   "cell_type": "code",
   "execution_count": null,
   "id": "faf27f00",
   "metadata": {},
   "outputs": [],
   "source": [
    "# Configura o logger\n",
    "logging.basicConfig(\n",
    "    level=logging.INFO,\n",
    "    format='%(asctime)s — %(levelname)s — %(message)s',\n",
    "    handlers=[logging.StreamHandler()]\n",
    ")\n",
    "logger = logging.getLogger(__name__)"
   ]
  },
  {
   "cell_type": "code",
   "execution_count": null,
   "id": "764e4a55",
   "metadata": {},
   "outputs": [
    {
     "name": "stderr",
     "output_type": "stream",
     "text": [
      "2025-07-30 16:45:01,205 - INFO - Arquivo lido com sucesso: d:\\assistente_pesquisa\\pietcon.github.io\\regressoes\\cdx_us_hy\\excel\\in\\out_DB_D.xlsx\n"
     ]
    }
   ],
   "source": [
    "notebook_dir = os.getcwd()\n",
    "file_path = os.path.abspath(\n",
    "    os.path.join(notebook_dir, '..', 'excel', 'in', 'out_DB_D.xlsx')\n",
    ")\n",
    "try:\n",
    "    df = pd.read_excel(file_path)\n",
    "    logger.info(f\"Arquivo lido com sucesso: {file_path}\")\n",
    "except Exception as e:\n",
    "    logger.error(f\"Falha ao ler o arquivo {file_path}: {e}\")\n",
    "    raise"
   ]
  },
  {
   "cell_type": "code",
   "execution_count": null,
   "id": "90238db0",
   "metadata": {},
   "outputs": [],
   "source": [
    "# df.head()"
   ]
  },
  {
   "cell_type": "code",
   "execution_count": null,
   "id": "e492d1bd",
   "metadata": {},
   "outputs": [],
   "source": [
    "#Pegar as colunas\n",
    "cols = df.columns.tolist()\n",
    "# cols"
   ]
  },
  {
   "cell_type": "code",
   "execution_count": null,
   "id": "0a4ec1c9",
   "metadata": {},
   "outputs": [],
   "source": [
    "comuns = list(set(df_completo['Codes'].tolist()) & set(cols))\n",
    "comuns.insert(0, \"date\")\n",
    "# print(comuns)"
   ]
  },
  {
   "cell_type": "code",
   "execution_count": null,
   "id": "9f808a20",
   "metadata": {},
   "outputs": [],
   "source": [
    "df_filtered_serie = df.loc[df.index[-30:], comuns]\n",
    "pd.set_option('display.max_rows', None)  # Mostra todas as linhas\n",
    "pd.set_option('display.max_columns', None)  # Mostra todas as colunas\n",
    "# Conta o número de linhas e colunas no dataframe\n",
    "num_linhas, num_colunas = df_filtered_serie.shape\n",
    "\n",
    "# display(df_filtered_serie)\n",
    "\n",
    "# print(f\"Número de linhas: {num_linhas}\")\n",
    "# print(f\"Número de colunas: {num_colunas}\")"
   ]
  },
  {
   "cell_type": "code",
   "execution_count": null,
   "id": "0ad7223e",
   "metadata": {},
   "outputs": [],
   "source": [
    "delta_x = df_filtered_serie.iloc[-1] - df_filtered_serie.iloc[0]\n",
    "# print(delta_x)"
   ]
  },
  {
   "cell_type": "code",
   "execution_count": null,
   "id": "dac96e0a",
   "metadata": {},
   "outputs": [],
   "source": [
    "filtered_codes = df_completo[df_completo['Codes'].isin(comuns)]\n",
    "filtered_codes = filtered_codes[['Codes', 'Names']]\n",
    "# display(filtered_codes)\n"
   ]
  },
  {
   "cell_type": "code",
   "execution_count": null,
   "id": "8a0463ed",
   "metadata": {},
   "outputs": [],
   "source": [
    "# Cria dicionários para início, fim e delta\n",
    "inicios_dict = {}\n",
    "fins_dict = {}\n",
    "deltas_dict = {}\n",
    "\n",
    "# Itera sobre as variáveis filtradas dinamicamente\n",
    "for code in filtered_codes['Codes']:\n",
    "    if code in df_filtered_serie.columns:\n",
    "        inicio = df_filtered_serie.iloc[0][code]\n",
    "        fim = df_filtered_serie.iloc[-1][code]\n",
    "        delta = fim - inicio\n",
    "    else:\n",
    "        inicio = fim = delta = None  # Caso a variável não esteja no df_filtered_serie\n",
    "    \n",
    "    inicios_dict[code] = inicio\n",
    "    fins_dict[code] = fim\n",
    "    deltas_dict[code] = delta\n"
   ]
  },
  {
   "cell_type": "code",
   "execution_count": null,
   "id": "dc23bd41",
   "metadata": {},
   "outputs": [],
   "source": [
    "# inicios_dict"
   ]
  },
  {
   "cell_type": "code",
   "execution_count": null,
   "id": "056a7daf",
   "metadata": {},
   "outputs": [],
   "source": [
    "# Adiciona colunas ao DataFrame com base nos dicionáriosA\n",
    "filtered_codes['inicio'] = filtered_codes['Codes'].map(inicios_dict)\n",
    "filtered_codes['fim'] = filtered_codes['Codes'].map(fins_dict)\n",
    "filtered_codes['delta'] = filtered_codes['Codes'].map(deltas_dict)"
   ]
  },
  {
   "cell_type": "code",
   "execution_count": null,
   "id": "e67421b9",
   "metadata": {},
   "outputs": [],
   "source": [
    "# display(filtered_codes)"
   ]
  },
  {
   "cell_type": "code",
   "execution_count": null,
   "id": "5aaa4ac9",
   "metadata": {},
   "outputs": [],
   "source": [
    "# display(df_completo)"
   ]
  },
  {
   "cell_type": "code",
   "execution_count": null,
   "id": "e8d8d10d",
   "metadata": {},
   "outputs": [],
   "source": [
    "# Identifica colunas que começam com 'CDX_US_HY_spread'\n",
    "coef_cols = [col for col in df_completo.columns if col.startswith('CDX_US_HY_spread')]\n",
    "\n",
    "# Seleciona a linha do intercept\n",
    "intercept_row = df_completo[df_completo['Codes'] == 'intercept']\n",
    "\n",
    "# Cria o dicionário com chaves numéricas e valores do intercept\n",
    "if not intercept_row.empty:\n",
    "    intercept = {idx + 1: intercept_row.iloc[0][col] for idx, col in enumerate(coef_cols)}\n",
    "else:\n",
    "    intercept = {}\n",
    "\n",
    "# print(intercept)\n"
   ]
  },
  {
   "cell_type": "code",
   "execution_count": null,
   "id": "d88203ba",
   "metadata": {},
   "outputs": [],
   "source": [
    "coef_cols = [col for col in df_completo.columns if col.startswith('CDX_US_HY_spread')]\n",
    "# print(\"Colunas que começam com 'CDX_US_HY_spread':\", coef_cols)\n",
    "\n",
    "for i in range(len(filtered_codes)):\n",
    "    code = filtered_codes.iloc[i]['Codes']\n",
    "    delta = deltas_dict.get(code, None)\n",
    "\n",
    "    if delta is not None:\n",
    "\n",
    "        linha_completa = df_completo[df_completo['Codes'] == code]\n",
    "\n",
    "        if not linha_completa.empty:\n",
    "            for idx, col in enumerate(coef_cols, start=1): \n",
    "                coef_value = linha_completa.iloc[0][col]\n",
    "                if pd.notna(coef_value):\n",
    "                    filtered_codes.loc[filtered_codes.index[i], f'{idx}'] = coef_value * delta\n"
   ]
  },
  {
   "cell_type": "code",
   "execution_count": null,
   "id": "85f025dc",
   "metadata": {},
   "outputs": [],
   "source": [
    "# filtered_codes"
   ]
  },
  {
   "cell_type": "code",
   "execution_count": null,
   "id": "286c42c9",
   "metadata": {},
   "outputs": [
    {
     "data": {
      "text/html": [
       "<div>\n",
       "<style scoped>\n",
       "    .dataframe tbody tr th:only-of-type {\n",
       "        vertical-align: middle;\n",
       "    }\n",
       "\n",
       "    .dataframe tbody tr th {\n",
       "        vertical-align: top;\n",
       "    }\n",
       "\n",
       "    .dataframe thead th {\n",
       "        text-align: right;\n",
       "    }\n",
       "</style>\n",
       "<table border=\"1\" class=\"dataframe\">\n",
       "  <thead>\n",
       "    <tr style=\"text-align: right;\">\n",
       "      <th></th>\n",
       "      <th>Codes</th>\n",
       "      <th>Names</th>\n",
       "      <th>inicio</th>\n",
       "      <th>fim</th>\n",
       "      <th>delta</th>\n",
       "      <th>1</th>\n",
       "      <th>2</th>\n",
       "      <th>3</th>\n",
       "      <th>4</th>\n",
       "      <th>5</th>\n",
       "      <th>6</th>\n",
       "      <th>7</th>\n",
       "      <th>8</th>\n",
       "      <th>9</th>\n",
       "      <th>10</th>\n",
       "      <th>11</th>\n",
       "      <th>12</th>\n",
       "      <th>13</th>\n",
       "      <th>14</th>\n",
       "      <th>15</th>\n",
       "      <th>16</th>\n",
       "    </tr>\n",
       "  </thead>\n",
       "  <tbody>\n",
       "    <tr>\n",
       "      <th>4</th>\n",
       "      <td>jpm_vol</td>\n",
       "      <td>JPM FX Vol</td>\n",
       "      <td>0.007482</td>\n",
       "      <td>0.006648</td>\n",
       "      <td>-0.000834</td>\n",
       "      <td>NaN</td>\n",
       "      <td>NaN</td>\n",
       "      <td>NaN</td>\n",
       "      <td>-0.004908</td>\n",
       "      <td>-0.003613</td>\n",
       "      <td>-0.003724</td>\n",
       "      <td>-0.003494</td>\n",
       "      <td>-0.003835</td>\n",
       "      <td>-0.003877</td>\n",
       "      <td>-0.003468</td>\n",
       "      <td>-0.003713</td>\n",
       "      <td>-0.003494</td>\n",
       "      <td>-0.003494</td>\n",
       "      <td>-0.003494</td>\n",
       "      <td>-0.003494</td>\n",
       "      <td>-0.003494</td>\n",
       "    </tr>\n",
       "    <tr>\n",
       "      <th>6</th>\n",
       "      <td>move</td>\n",
       "      <td>MOVE</td>\n",
       "      <td>0.722172</td>\n",
       "      <td>0.768208</td>\n",
       "      <td>0.046036</td>\n",
       "      <td>NaN</td>\n",
       "      <td>NaN</td>\n",
       "      <td>NaN</td>\n",
       "      <td>NaN</td>\n",
       "      <td>NaN</td>\n",
       "      <td>NaN</td>\n",
       "      <td>0.000497</td>\n",
       "      <td>0.000718</td>\n",
       "      <td>0.000764</td>\n",
       "      <td>0.000470</td>\n",
       "      <td>NaN</td>\n",
       "      <td>0.000497</td>\n",
       "      <td>0.000497</td>\n",
       "      <td>0.000497</td>\n",
       "      <td>0.000497</td>\n",
       "      <td>0.000497</td>\n",
       "    </tr>\n",
       "    <tr>\n",
       "      <th>8</th>\n",
       "      <td>ted_spread_us</td>\n",
       "      <td>Ted Spread US (%)</td>\n",
       "      <td>0.002230</td>\n",
       "      <td>0.001814</td>\n",
       "      <td>-0.000416</td>\n",
       "      <td>-0.000656</td>\n",
       "      <td>-0.000666</td>\n",
       "      <td>-0.00051</td>\n",
       "      <td>-0.000289</td>\n",
       "      <td>-0.000141</td>\n",
       "      <td>NaN</td>\n",
       "      <td>NaN</td>\n",
       "      <td>-0.000070</td>\n",
       "      <td>NaN</td>\n",
       "      <td>-0.000051</td>\n",
       "      <td>-0.000078</td>\n",
       "      <td>NaN</td>\n",
       "      <td>NaN</td>\n",
       "      <td>NaN</td>\n",
       "      <td>NaN</td>\n",
       "      <td>NaN</td>\n",
       "    </tr>\n",
       "    <tr>\n",
       "      <th>10</th>\n",
       "      <td>vix</td>\n",
       "      <td>VIX SPX</td>\n",
       "      <td>0.013360</td>\n",
       "      <td>0.013893</td>\n",
       "      <td>0.000533</td>\n",
       "      <td>NaN</td>\n",
       "      <td>NaN</td>\n",
       "      <td>NaN</td>\n",
       "      <td>NaN</td>\n",
       "      <td>0.000419</td>\n",
       "      <td>0.000446</td>\n",
       "      <td>0.000226</td>\n",
       "      <td>NaN</td>\n",
       "      <td>NaN</td>\n",
       "      <td>0.000223</td>\n",
       "      <td>0.000262</td>\n",
       "      <td>0.000226</td>\n",
       "      <td>0.000226</td>\n",
       "      <td>0.000226</td>\n",
       "      <td>0.000226</td>\n",
       "      <td>0.000226</td>\n",
       "    </tr>\n",
       "  </tbody>\n",
       "</table>\n",
       "</div>"
      ],
      "text/plain": [
       "            Codes              Names    inicio       fim     delta         1  \\\n",
       "4         jpm_vol         JPM FX Vol  0.007482  0.006648 -0.000834       NaN   \n",
       "6            move               MOVE  0.722172  0.768208  0.046036       NaN   \n",
       "8   ted_spread_us  Ted Spread US (%)  0.002230  0.001814 -0.000416 -0.000656   \n",
       "10            vix            VIX SPX  0.013360  0.013893  0.000533       NaN   \n",
       "\n",
       "           2        3         4         5         6         7         8  \\\n",
       "4        NaN      NaN -0.004908 -0.003613 -0.003724 -0.003494 -0.003835   \n",
       "6        NaN      NaN       NaN       NaN       NaN  0.000497  0.000718   \n",
       "8  -0.000666 -0.00051 -0.000289 -0.000141       NaN       NaN -0.000070   \n",
       "10       NaN      NaN       NaN  0.000419  0.000446  0.000226       NaN   \n",
       "\n",
       "           9        10        11        12        13        14        15  \\\n",
       "4  -0.003877 -0.003468 -0.003713 -0.003494 -0.003494 -0.003494 -0.003494   \n",
       "6   0.000764  0.000470       NaN  0.000497  0.000497  0.000497  0.000497   \n",
       "8        NaN -0.000051 -0.000078       NaN       NaN       NaN       NaN   \n",
       "10       NaN  0.000223  0.000262  0.000226  0.000226  0.000226  0.000226   \n",
       "\n",
       "          16  \n",
       "4  -0.003494  \n",
       "6   0.000497  \n",
       "8        NaN  \n",
       "10  0.000226  "
      ]
     },
     "execution_count": 98,
     "metadata": {},
     "output_type": "execute_result"
    }
   ],
   "source": [
    "# Reorganiza o DataFrame\n",
    "colunas_numericas = sorted([col for col in filtered_codes.columns if col.isdigit()], key=int)\n",
    "colunas_fixas = [col for col in filtered_codes.columns if not col.isdigit()]\n",
    "nova_ordem = colunas_fixas + colunas_numericas\n",
    "filtered_codes = filtered_codes[nova_ordem]\n",
    "filtered_codes"
   ]
  },
  {
   "cell_type": "code",
   "execution_count": null,
   "id": "7bfaffd3",
   "metadata": {},
   "outputs": [
    {
     "data": {
      "text/html": [
       "<div>\n",
       "<style scoped>\n",
       "    .dataframe tbody tr th:only-of-type {\n",
       "        vertical-align: middle;\n",
       "    }\n",
       "\n",
       "    .dataframe tbody tr th {\n",
       "        vertical-align: top;\n",
       "    }\n",
       "\n",
       "    .dataframe thead th {\n",
       "        text-align: right;\n",
       "    }\n",
       "</style>\n",
       "<table border=\"1\" class=\"dataframe\">\n",
       "  <thead>\n",
       "    <tr style=\"text-align: right;\">\n",
       "      <th></th>\n",
       "      <th>date</th>\n",
       "      <th>ted_spread_us</th>\n",
       "      <th>jpm_vol</th>\n",
       "      <th>vix</th>\n",
       "      <th>move</th>\n",
       "    </tr>\n",
       "  </thead>\n",
       "  <tbody>\n",
       "    <tr>\n",
       "      <th>16095</th>\n",
       "      <td>2024-01-25</td>\n",
       "      <td>0.002230</td>\n",
       "      <td>0.007482</td>\n",
       "      <td>0.013360</td>\n",
       "      <td>0.722172</td>\n",
       "    </tr>\n",
       "    <tr>\n",
       "      <th>16096</th>\n",
       "      <td>2024-01-26</td>\n",
       "      <td>0.002198</td>\n",
       "      <td>0.007432</td>\n",
       "      <td>0.013173</td>\n",
       "      <td>0.694297</td>\n",
       "    </tr>\n",
       "    <tr>\n",
       "      <th>16097</th>\n",
       "      <td>2024-01-27</td>\n",
       "      <td>0.002198</td>\n",
       "      <td>0.007432</td>\n",
       "      <td>0.013173</td>\n",
       "      <td>0.694297</td>\n",
       "    </tr>\n",
       "    <tr>\n",
       "      <th>16098</th>\n",
       "      <td>2024-01-28</td>\n",
       "      <td>0.002198</td>\n",
       "      <td>0.007432</td>\n",
       "      <td>0.013173</td>\n",
       "      <td>0.694297</td>\n",
       "    </tr>\n",
       "    <tr>\n",
       "      <th>16099</th>\n",
       "      <td>2024-01-29</td>\n",
       "      <td>0.002130</td>\n",
       "      <td>0.007532</td>\n",
       "      <td>0.013508</td>\n",
       "      <td>0.724355</td>\n",
       "    </tr>\n",
       "    <tr>\n",
       "      <th>16100</th>\n",
       "      <td>2024-01-30</td>\n",
       "      <td>0.002078</td>\n",
       "      <td>0.007532</td>\n",
       "      <td>0.013222</td>\n",
       "      <td>0.714224</td>\n",
       "    </tr>\n",
       "    <tr>\n",
       "      <th>16101</th>\n",
       "      <td>2024-01-31</td>\n",
       "      <td>0.002087</td>\n",
       "      <td>0.007631</td>\n",
       "      <td>0.014248</td>\n",
       "      <td>0.728900</td>\n",
       "    </tr>\n",
       "    <tr>\n",
       "      <th>16102</th>\n",
       "      <td>2024-02-01</td>\n",
       "      <td>0.001671</td>\n",
       "      <td>0.007581</td>\n",
       "      <td>0.013785</td>\n",
       "      <td>0.760432</td>\n",
       "    </tr>\n",
       "    <tr>\n",
       "      <th>16103</th>\n",
       "      <td>2024-02-02</td>\n",
       "      <td>0.001799</td>\n",
       "      <td>0.007611</td>\n",
       "      <td>0.013755</td>\n",
       "      <td>0.726195</td>\n",
       "    </tr>\n",
       "    <tr>\n",
       "      <th>16104</th>\n",
       "      <td>2024-02-03</td>\n",
       "      <td>0.001799</td>\n",
       "      <td>0.007611</td>\n",
       "      <td>0.013755</td>\n",
       "      <td>0.726195</td>\n",
       "    </tr>\n",
       "    <tr>\n",
       "      <th>16105</th>\n",
       "      <td>2024-02-04</td>\n",
       "      <td>0.001799</td>\n",
       "      <td>0.007611</td>\n",
       "      <td>0.013755</td>\n",
       "      <td>0.726195</td>\n",
       "    </tr>\n",
       "    <tr>\n",
       "      <th>16106</th>\n",
       "      <td>2024-02-05</td>\n",
       "      <td>0.002035</td>\n",
       "      <td>0.007720</td>\n",
       "      <td>0.013577</td>\n",
       "      <td>0.735632</td>\n",
       "    </tr>\n",
       "    <tr>\n",
       "      <th>16107</th>\n",
       "      <td>2024-02-06</td>\n",
       "      <td>0.002080</td>\n",
       "      <td>0.007621</td>\n",
       "      <td>0.012975</td>\n",
       "      <td>0.744790</td>\n",
       "    </tr>\n",
       "    <tr>\n",
       "      <th>16108</th>\n",
       "      <td>2024-02-07</td>\n",
       "      <td>0.001937</td>\n",
       "      <td>0.007541</td>\n",
       "      <td>0.012748</td>\n",
       "      <td>0.731695</td>\n",
       "    </tr>\n",
       "    <tr>\n",
       "      <th>16109</th>\n",
       "      <td>2024-02-08</td>\n",
       "      <td>0.001768</td>\n",
       "      <td>0.007442</td>\n",
       "      <td>0.012709</td>\n",
       "      <td>0.735248</td>\n",
       "    </tr>\n",
       "    <tr>\n",
       "      <th>16110</th>\n",
       "      <td>2024-02-09</td>\n",
       "      <td>0.001875</td>\n",
       "      <td>0.007283</td>\n",
       "      <td>0.012847</td>\n",
       "      <td>0.723725</td>\n",
       "    </tr>\n",
       "    <tr>\n",
       "      <th>16111</th>\n",
       "      <td>2024-02-10</td>\n",
       "      <td>0.001875</td>\n",
       "      <td>0.007283</td>\n",
       "      <td>0.012847</td>\n",
       "      <td>0.723725</td>\n",
       "    </tr>\n",
       "    <tr>\n",
       "      <th>16112</th>\n",
       "      <td>2024-02-11</td>\n",
       "      <td>0.001875</td>\n",
       "      <td>0.007283</td>\n",
       "      <td>0.012847</td>\n",
       "      <td>0.723725</td>\n",
       "    </tr>\n",
       "    <tr>\n",
       "      <th>16113</th>\n",
       "      <td>2024-02-12</td>\n",
       "      <td>0.001760</td>\n",
       "      <td>0.007134</td>\n",
       "      <td>0.013834</td>\n",
       "      <td>0.740889</td>\n",
       "    </tr>\n",
       "    <tr>\n",
       "      <th>16114</th>\n",
       "      <td>2024-02-13</td>\n",
       "      <td>0.001754</td>\n",
       "      <td>0.007214</td>\n",
       "      <td>0.015726</td>\n",
       "      <td>0.757154</td>\n",
       "    </tr>\n",
       "    <tr>\n",
       "      <th>16115</th>\n",
       "      <td>2024-02-14</td>\n",
       "      <td>0.001951</td>\n",
       "      <td>0.007214</td>\n",
       "      <td>0.014278</td>\n",
       "      <td>0.751275</td>\n",
       "    </tr>\n",
       "    <tr>\n",
       "      <th>16116</th>\n",
       "      <td>2024-02-15</td>\n",
       "      <td>0.002005</td>\n",
       "      <td>0.007075</td>\n",
       "      <td>0.013913</td>\n",
       "      <td>0.751841</td>\n",
       "    </tr>\n",
       "    <tr>\n",
       "      <th>16117</th>\n",
       "      <td>2024-02-16</td>\n",
       "      <td>0.001964</td>\n",
       "      <td>0.006946</td>\n",
       "      <td>0.014140</td>\n",
       "      <td>0.738121</td>\n",
       "    </tr>\n",
       "    <tr>\n",
       "      <th>16118</th>\n",
       "      <td>2024-02-17</td>\n",
       "      <td>0.001964</td>\n",
       "      <td>0.006946</td>\n",
       "      <td>0.014140</td>\n",
       "      <td>0.738121</td>\n",
       "    </tr>\n",
       "    <tr>\n",
       "      <th>16119</th>\n",
       "      <td>2024-02-18</td>\n",
       "      <td>0.001964</td>\n",
       "      <td>0.006946</td>\n",
       "      <td>0.014140</td>\n",
       "      <td>0.738121</td>\n",
       "    </tr>\n",
       "    <tr>\n",
       "      <th>16120</th>\n",
       "      <td>2024-02-19</td>\n",
       "      <td>0.001964</td>\n",
       "      <td>0.006876</td>\n",
       "      <td>0.014603</td>\n",
       "      <td>0.738121</td>\n",
       "    </tr>\n",
       "    <tr>\n",
       "      <th>16121</th>\n",
       "      <td>2024-02-20</td>\n",
       "      <td>0.002161</td>\n",
       "      <td>0.006767</td>\n",
       "      <td>0.015302</td>\n",
       "      <td>0.746783</td>\n",
       "    </tr>\n",
       "    <tr>\n",
       "      <th>16122</th>\n",
       "      <td>2024-02-21</td>\n",
       "      <td>0.001854</td>\n",
       "      <td>0.006717</td>\n",
       "      <td>0.015224</td>\n",
       "      <td>0.762067</td>\n",
       "    </tr>\n",
       "    <tr>\n",
       "      <th>16123</th>\n",
       "      <td>2024-02-22</td>\n",
       "      <td>0.001784</td>\n",
       "      <td>0.006648</td>\n",
       "      <td>0.014435</td>\n",
       "      <td>0.768208</td>\n",
       "    </tr>\n",
       "    <tr>\n",
       "      <th>16124</th>\n",
       "      <td>2024-02-23</td>\n",
       "      <td>0.001814</td>\n",
       "      <td>0.006648</td>\n",
       "      <td>0.013893</td>\n",
       "      <td>0.768208</td>\n",
       "    </tr>\n",
       "  </tbody>\n",
       "</table>\n",
       "</div>"
      ],
      "text/plain": [
       "            date  ted_spread_us   jpm_vol       vix      move\n",
       "16095 2024-01-25       0.002230  0.007482  0.013360  0.722172\n",
       "16096 2024-01-26       0.002198  0.007432  0.013173  0.694297\n",
       "16097 2024-01-27       0.002198  0.007432  0.013173  0.694297\n",
       "16098 2024-01-28       0.002198  0.007432  0.013173  0.694297\n",
       "16099 2024-01-29       0.002130  0.007532  0.013508  0.724355\n",
       "16100 2024-01-30       0.002078  0.007532  0.013222  0.714224\n",
       "16101 2024-01-31       0.002087  0.007631  0.014248  0.728900\n",
       "16102 2024-02-01       0.001671  0.007581  0.013785  0.760432\n",
       "16103 2024-02-02       0.001799  0.007611  0.013755  0.726195\n",
       "16104 2024-02-03       0.001799  0.007611  0.013755  0.726195\n",
       "16105 2024-02-04       0.001799  0.007611  0.013755  0.726195\n",
       "16106 2024-02-05       0.002035  0.007720  0.013577  0.735632\n",
       "16107 2024-02-06       0.002080  0.007621  0.012975  0.744790\n",
       "16108 2024-02-07       0.001937  0.007541  0.012748  0.731695\n",
       "16109 2024-02-08       0.001768  0.007442  0.012709  0.735248\n",
       "16110 2024-02-09       0.001875  0.007283  0.012847  0.723725\n",
       "16111 2024-02-10       0.001875  0.007283  0.012847  0.723725\n",
       "16112 2024-02-11       0.001875  0.007283  0.012847  0.723725\n",
       "16113 2024-02-12       0.001760  0.007134  0.013834  0.740889\n",
       "16114 2024-02-13       0.001754  0.007214  0.015726  0.757154\n",
       "16115 2024-02-14       0.001951  0.007214  0.014278  0.751275\n",
       "16116 2024-02-15       0.002005  0.007075  0.013913  0.751841\n",
       "16117 2024-02-16       0.001964  0.006946  0.014140  0.738121\n",
       "16118 2024-02-17       0.001964  0.006946  0.014140  0.738121\n",
       "16119 2024-02-18       0.001964  0.006946  0.014140  0.738121\n",
       "16120 2024-02-19       0.001964  0.006876  0.014603  0.738121\n",
       "16121 2024-02-20       0.002161  0.006767  0.015302  0.746783\n",
       "16122 2024-02-21       0.001854  0.006717  0.015224  0.762067\n",
       "16123 2024-02-22       0.001784  0.006648  0.014435  0.768208\n",
       "16124 2024-02-23       0.001814  0.006648  0.013893  0.768208"
      ]
     },
     "execution_count": 99,
     "metadata": {},
     "output_type": "execute_result"
    }
   ],
   "source": [
    "df_filtered_serie"
   ]
  },
  {
   "cell_type": "code",
   "execution_count": null,
   "id": "da0ef7e5",
   "metadata": {},
   "outputs": [
    {
     "name": "stdout",
     "output_type": "stream",
     "text": [
      "Inícios: {'jpm_vol': np.float64(0.007481940347755529), 'move': np.float64(0.7221718596005616), 'ted_spread_us': np.float64(0.002229512788283484), 'vix': np.float64(0.01336035170183639)}\n",
      "Fins: {'jpm_vol': np.float64(0.006647853971464475), 'move': np.float64(0.7682082697818243), 'ted_spread_us': np.float64(0.001813754153032583), 'vix': np.float64(0.01389304318742333)}\n",
      "Deltas: {'jpm_vol': np.float64(-0.0008340863762910534), 'move': np.float64(0.0460364101812627), 'ted_spread_us': np.float64(-0.00041575863525090094), 'vix': np.float64(0.0005326914855869388)}\n",
      "Intercept {1: 0.0374, 2: 0.0381, 3: 0.0387, 4: -0.0145, 5: -0.0136, 6: -0.0145, 7: -0.0112, 8: -0.0107, 9: -0.0111, 10: -0.0108, 11: -0.009, 12: -0.0112, 13: -0.0112, 14: -0.0112, 15: -0.0112, 16: -0.0112}\n"
     ]
    }
   ],
   "source": [
    "print(\"Inícios:\", inicios_dict)\n",
    "print(\"Fins:\", fins_dict)\n",
    "print(\"Deltas:\", deltas_dict)\n",
    "print(\"Intercept\", intercept)"
   ]
  },
  {
   "cell_type": "code",
   "execution_count": null,
   "id": "f356bb0c",
   "metadata": {},
   "outputs": [
    {
     "data": {
      "text/plain": [
       "['CDX_US_HY_spread',\n",
       " 'CDX_US_HY_spread1',\n",
       " 'CDX_US_HY_spread2',\n",
       " 'CDX_US_HY_spread3',\n",
       " 'CDX_US_HY_spread4',\n",
       " 'CDX_US_HY_spread5',\n",
       " 'CDX_US_HY_spread6',\n",
       " 'CDX_US_HY_spread7',\n",
       " 'CDX_US_HY_spread8',\n",
       " 'CDX_US_HY_spread9',\n",
       " 'CDX_US_HY_spread10',\n",
       " 'CDX_US_HY_spread11',\n",
       " 'CDX_US_HY_spread12',\n",
       " 'CDX_US_HY_spread13',\n",
       " 'CDX_US_HY_spread14',\n",
       " 'CDX_US_HY_spread15']"
      ]
     },
     "execution_count": 101,
     "metadata": {},
     "output_type": "execute_result"
    }
   ],
   "source": [
    "coef_cols"
   ]
  },
  {
   "cell_type": "code",
   "execution_count": null,
   "id": "5fed9054",
   "metadata": {},
   "outputs": [
    {
     "name": "stdout",
     "output_type": "stream",
     "text": [
      "Initial Predictions: {'jpm_vol': np.float64(0.28006629139226163), 'move': np.float64(-0.02238317665081979), 'ted_spread_us': np.float64(0.06880205997582063), 'vix': np.float64(-0.04724544577671334)}\n"
     ]
    }
   ],
   "source": [
    "# Mapeia os coef_cols para índices 1, 2, 3, ... para bater com o dicionário de intercept\n",
    "coef_col_index_map = {col: idx+1 for idx, col in enumerate(coef_cols)}\n",
    "\n",
    "# Inicializa dicionário de previsões\n",
    "initial_preds = {}\n",
    "\n",
    "# Loop por cada série (code)\n",
    "for code in inicios_dict:\n",
    "    inicio_val = inicios_dict[code]\n",
    "    row = df_completo[df_completo['Codes'] == code]\n",
    "\n",
    "    if row.empty:\n",
    "        continue\n",
    "\n",
    "    pred = 0.0\n",
    "    for col in coef_cols:\n",
    "        beta = row.iloc[0][col]\n",
    "        if pd.notna(beta):\n",
    "            pred += beta * inicio_val\n",
    "\n",
    "            # Adiciona intercepto correspondente ao índice\n",
    "            intercept_idx = coef_col_index_map[col]\n",
    "            pred += intercept.get(intercept_idx, 0)\n",
    "\n",
    "    initial_preds[code] = pred\n",
    "\n",
    "print(\"Initial Predictions:\", initial_preds)\n"
   ]
  },
  {
   "cell_type": "code",
   "execution_count": null,
   "id": "2fdcb897",
   "metadata": {},
   "outputs": [],
   "source": []
  },
  {
   "cell_type": "markdown",
   "id": "192d37f5",
   "metadata": {},
   "source": [
    "### Initial Prediction \n",
    "$$\n",
    "\\text{Initial Pred}_t = \\sum_i \\beta_{i,t} \\cdot x_i(\\text{inicio}) + \\text{intercept}_t\n",
    "$$\n",
    "\n",
    "### Final Prediction\n",
    "$$\n",
    "\\text{Final Pred}_t = \\sum_i \\beta_{i,t} \\cdot x_i(\\text{fim}) + \\text{intercept}_t\n",
    "$$\n",
    "\n",
    "Aqui, você usa os `fins_dict` (valores finais) diretamente.\n",
    "\n",
    "### Period Variation\n",
    "$$\n",
    "\\text{Period Variation}_t = (\\text{Final Pred}_t - \\text{Initial Pred}_t) \\times 100\n",
    "$$"
   ]
  },
  {
   "cell_type": "code",
   "execution_count": null,
   "id": "ecab831e",
   "metadata": {},
   "outputs": [
    {
     "name": "stdout",
     "output_type": "stream",
     "text": [
      "Final Predictions (full): {'jpm_vol': np.float64(0.23196644847022196), 'move': np.float64(-0.017448073479388433), 'ted_spread_us': np.float64(0.06634014521718244), 'vix': np.float64(-0.04454001225971439)}\n"
     ]
    }
   ],
   "source": [
    "# Inicializa dicionário das previsões finais recalculadas\n",
    "final_preds = {}\n",
    "\n",
    "# Loop por cada série (code)\n",
    "for code in fins_dict:\n",
    "    fim_val = fins_dict[code]\n",
    "    row = df_completo[df_completo['Codes'] == code]\n",
    "\n",
    "    if row.empty:\n",
    "        continue\n",
    "\n",
    "    pred = 0.0\n",
    "    for col in coef_cols:\n",
    "        beta = row.iloc[0][col]\n",
    "        if pd.notna(beta):\n",
    "            pred += beta * fim_val\n",
    "\n",
    "            # Adiciona intercepto da regressão correspondente\n",
    "            intercept_idx = coef_col_index_map[col]\n",
    "            pred += intercept.get(intercept_idx, 0)\n",
    "\n",
    "    final_preds[code] = pred\n",
    "\n",
    "print(\"Final Predictions (full):\", final_preds)\n"
   ]
  },
  {
   "cell_type": "code",
   "execution_count": null,
   "id": "7e4bcebc",
   "metadata": {},
   "outputs": [
    {
     "name": "stdout",
     "output_type": "stream",
     "text": [
      "Period Variation (bps): {'jpm_vol': np.float64(-4.809984292203967), 'move': np.float64(0.49351031714313587), 'ted_spread_us': np.float64(-0.24619147586381895), 'vix': np.float64(0.2705433516998951)}\n"
     ]
    }
   ],
   "source": [
    "# Inicializa dicionário de variação\n",
    "period_variation = {}\n",
    "\n",
    "for code in initial_preds:\n",
    "    final_val = final_preds.get(code)\n",
    "    initial_val = initial_preds[code]\n",
    "\n",
    "    if final_val is not None:\n",
    "        variation = (final_val - initial_val) * 100  # em pontos-base\n",
    "        period_variation[code] = variation\n",
    "\n",
    "print(\"Period Variation (bps):\", period_variation)"
   ]
  },
  {
   "cell_type": "code",
   "execution_count": null,
   "id": "379167e3",
   "metadata": {},
   "outputs": [],
   "source": [
    "df_result = pd.DataFrame([initial_preds, final_preds, period_variation],\n",
    "                         index=['Initial Pred', 'FinalA Pred', 'Period Variation (bps)'])"
   ]
  },
  {
   "cell_type": "markdown",
   "id": "7fd22e45",
   "metadata": {},
   "source": [
    "### EXPOR DADOS"
   ]
  },
  {
   "cell_type": "code",
   "execution_count": null,
   "id": "e251a443",
   "metadata": {},
   "outputs": [],
   "source": [
    "filtered_codes_expor = filtered_codes.copy()\n"
   ]
  },
  {
   "cell_type": "code",
   "execution_count": null,
   "id": "4fc022a6",
   "metadata": {},
   "outputs": [],
   "source": [
    "import pandas as pd\n",
    "\n",
    "# Suponha que df_result e filtered_codes_expor já estejam definidos\n",
    "\n",
    "# Cria o dicionário de mapeamento a partir do filtered_codes_expor\n",
    "code_name_map = dict(zip(filtered_codes_expor['Codes'], filtered_codes_expor['Names']))\n",
    "\n",
    "# Renomeia as colunas do df_result com base no dicionário\n",
    "df_result_renamed = df_result.rename(columns=code_name_map)"
   ]
  },
  {
   "cell_type": "code",
   "execution_count": null,
   "id": "4810ba51",
   "metadata": {},
   "outputs": [],
   "source": [
    "filtered_codes_expor = filtered_codes_expor.fillna('')\n",
    "filtered_codes_expor.drop(columns=['Codes'], inplace=True)"
   ]
  },
  {
   "cell_type": "code",
   "execution_count": null,
   "id": "3ffebabb",
   "metadata": {},
   "outputs": [],
   "source": [
    "# display(filtered_codes_expor)\n",
    "# display(df_result_renamed)"
   ]
  },
  {
   "cell_type": "code",
   "execution_count": null,
   "id": "55bf346b",
   "metadata": {},
   "outputs": [
    {
     "data": {
      "text/html": [
       "<style type=\"text/css\">\n",
       "#T_c4b27_row0_col3, #T_c4b27_row2_col3 {\n",
       "  background-color: lightcoral;\n",
       "}\n",
       "#T_c4b27_row1_col3, #T_c4b27_row3_col3 {\n",
       "  background-color: lightgreen;\n",
       "}\n",
       "</style>\n",
       "<table id=\"T_c4b27\">\n",
       "  <thead>\n",
       "    <tr>\n",
       "      <th class=\"blank level0\" >&nbsp;</th>\n",
       "      <th id=\"T_c4b27_level0_col0\" class=\"col_heading level0 col0\" >Names</th>\n",
       "      <th id=\"T_c4b27_level0_col1\" class=\"col_heading level0 col1\" >inicio</th>\n",
       "      <th id=\"T_c4b27_level0_col2\" class=\"col_heading level0 col2\" >fim</th>\n",
       "      <th id=\"T_c4b27_level0_col3\" class=\"col_heading level0 col3\" >delta</th>\n",
       "      <th id=\"T_c4b27_level0_col4\" class=\"col_heading level0 col4\" >1</th>\n",
       "      <th id=\"T_c4b27_level0_col5\" class=\"col_heading level0 col5\" >2</th>\n",
       "      <th id=\"T_c4b27_level0_col6\" class=\"col_heading level0 col6\" >3</th>\n",
       "      <th id=\"T_c4b27_level0_col7\" class=\"col_heading level0 col7\" >4</th>\n",
       "      <th id=\"T_c4b27_level0_col8\" class=\"col_heading level0 col8\" >5</th>\n",
       "      <th id=\"T_c4b27_level0_col9\" class=\"col_heading level0 col9\" >6</th>\n",
       "      <th id=\"T_c4b27_level0_col10\" class=\"col_heading level0 col10\" >7</th>\n",
       "      <th id=\"T_c4b27_level0_col11\" class=\"col_heading level0 col11\" >8</th>\n",
       "      <th id=\"T_c4b27_level0_col12\" class=\"col_heading level0 col12\" >9</th>\n",
       "      <th id=\"T_c4b27_level0_col13\" class=\"col_heading level0 col13\" >10</th>\n",
       "      <th id=\"T_c4b27_level0_col14\" class=\"col_heading level0 col14\" >11</th>\n",
       "      <th id=\"T_c4b27_level0_col15\" class=\"col_heading level0 col15\" >12</th>\n",
       "      <th id=\"T_c4b27_level0_col16\" class=\"col_heading level0 col16\" >13</th>\n",
       "      <th id=\"T_c4b27_level0_col17\" class=\"col_heading level0 col17\" >14</th>\n",
       "      <th id=\"T_c4b27_level0_col18\" class=\"col_heading level0 col18\" >15</th>\n",
       "      <th id=\"T_c4b27_level0_col19\" class=\"col_heading level0 col19\" >16</th>\n",
       "    </tr>\n",
       "  </thead>\n",
       "  <tbody>\n",
       "    <tr>\n",
       "      <th id=\"T_c4b27_level0_row0\" class=\"row_heading level0 row0\" >4</th>\n",
       "      <td id=\"T_c4b27_row0_col0\" class=\"data row0 col0\" >JPM FX Vol</td>\n",
       "      <td id=\"T_c4b27_row0_col1\" class=\"data row0 col1\" >0.007482</td>\n",
       "      <td id=\"T_c4b27_row0_col2\" class=\"data row0 col2\" >0.006648</td>\n",
       "      <td id=\"T_c4b27_row0_col3\" class=\"data row0 col3\" >-0.000834</td>\n",
       "      <td id=\"T_c4b27_row0_col4\" class=\"data row0 col4\" ></td>\n",
       "      <td id=\"T_c4b27_row0_col5\" class=\"data row0 col5\" ></td>\n",
       "      <td id=\"T_c4b27_row0_col6\" class=\"data row0 col6\" ></td>\n",
       "      <td id=\"T_c4b27_row0_col7\" class=\"data row0 col7\" >-0.004908</td>\n",
       "      <td id=\"T_c4b27_row0_col8\" class=\"data row0 col8\" >-0.003613</td>\n",
       "      <td id=\"T_c4b27_row0_col9\" class=\"data row0 col9\" >-0.003724</td>\n",
       "      <td id=\"T_c4b27_row0_col10\" class=\"data row0 col10\" >-0.003494</td>\n",
       "      <td id=\"T_c4b27_row0_col11\" class=\"data row0 col11\" >-0.003835</td>\n",
       "      <td id=\"T_c4b27_row0_col12\" class=\"data row0 col12\" >-0.003877</td>\n",
       "      <td id=\"T_c4b27_row0_col13\" class=\"data row0 col13\" >-0.003468</td>\n",
       "      <td id=\"T_c4b27_row0_col14\" class=\"data row0 col14\" >-0.003713</td>\n",
       "      <td id=\"T_c4b27_row0_col15\" class=\"data row0 col15\" >-0.003494</td>\n",
       "      <td id=\"T_c4b27_row0_col16\" class=\"data row0 col16\" >-0.003494</td>\n",
       "      <td id=\"T_c4b27_row0_col17\" class=\"data row0 col17\" >-0.003494</td>\n",
       "      <td id=\"T_c4b27_row0_col18\" class=\"data row0 col18\" >-0.003494</td>\n",
       "      <td id=\"T_c4b27_row0_col19\" class=\"data row0 col19\" >-0.003494</td>\n",
       "    </tr>\n",
       "    <tr>\n",
       "      <th id=\"T_c4b27_level0_row1\" class=\"row_heading level0 row1\" >6</th>\n",
       "      <td id=\"T_c4b27_row1_col0\" class=\"data row1 col0\" >MOVE</td>\n",
       "      <td id=\"T_c4b27_row1_col1\" class=\"data row1 col1\" >0.722172</td>\n",
       "      <td id=\"T_c4b27_row1_col2\" class=\"data row1 col2\" >0.768208</td>\n",
       "      <td id=\"T_c4b27_row1_col3\" class=\"data row1 col3\" >0.046036</td>\n",
       "      <td id=\"T_c4b27_row1_col4\" class=\"data row1 col4\" ></td>\n",
       "      <td id=\"T_c4b27_row1_col5\" class=\"data row1 col5\" ></td>\n",
       "      <td id=\"T_c4b27_row1_col6\" class=\"data row1 col6\" ></td>\n",
       "      <td id=\"T_c4b27_row1_col7\" class=\"data row1 col7\" ></td>\n",
       "      <td id=\"T_c4b27_row1_col8\" class=\"data row1 col8\" ></td>\n",
       "      <td id=\"T_c4b27_row1_col9\" class=\"data row1 col9\" ></td>\n",
       "      <td id=\"T_c4b27_row1_col10\" class=\"data row1 col10\" >0.000497</td>\n",
       "      <td id=\"T_c4b27_row1_col11\" class=\"data row1 col11\" >0.000718</td>\n",
       "      <td id=\"T_c4b27_row1_col12\" class=\"data row1 col12\" >0.000764</td>\n",
       "      <td id=\"T_c4b27_row1_col13\" class=\"data row1 col13\" >0.000470</td>\n",
       "      <td id=\"T_c4b27_row1_col14\" class=\"data row1 col14\" ></td>\n",
       "      <td id=\"T_c4b27_row1_col15\" class=\"data row1 col15\" >0.000497</td>\n",
       "      <td id=\"T_c4b27_row1_col16\" class=\"data row1 col16\" >0.000497</td>\n",
       "      <td id=\"T_c4b27_row1_col17\" class=\"data row1 col17\" >0.000497</td>\n",
       "      <td id=\"T_c4b27_row1_col18\" class=\"data row1 col18\" >0.000497</td>\n",
       "      <td id=\"T_c4b27_row1_col19\" class=\"data row1 col19\" >0.000497</td>\n",
       "    </tr>\n",
       "    <tr>\n",
       "      <th id=\"T_c4b27_level0_row2\" class=\"row_heading level0 row2\" >8</th>\n",
       "      <td id=\"T_c4b27_row2_col0\" class=\"data row2 col0\" >Ted Spread US (%)</td>\n",
       "      <td id=\"T_c4b27_row2_col1\" class=\"data row2 col1\" >0.002230</td>\n",
       "      <td id=\"T_c4b27_row2_col2\" class=\"data row2 col2\" >0.001814</td>\n",
       "      <td id=\"T_c4b27_row2_col3\" class=\"data row2 col3\" >-0.000416</td>\n",
       "      <td id=\"T_c4b27_row2_col4\" class=\"data row2 col4\" >-0.000656</td>\n",
       "      <td id=\"T_c4b27_row2_col5\" class=\"data row2 col5\" >-0.000666</td>\n",
       "      <td id=\"T_c4b27_row2_col6\" class=\"data row2 col6\" >-0.000510</td>\n",
       "      <td id=\"T_c4b27_row2_col7\" class=\"data row2 col7\" >-0.000289</td>\n",
       "      <td id=\"T_c4b27_row2_col8\" class=\"data row2 col8\" >-0.000141</td>\n",
       "      <td id=\"T_c4b27_row2_col9\" class=\"data row2 col9\" ></td>\n",
       "      <td id=\"T_c4b27_row2_col10\" class=\"data row2 col10\" ></td>\n",
       "      <td id=\"T_c4b27_row2_col11\" class=\"data row2 col11\" >-0.000070</td>\n",
       "      <td id=\"T_c4b27_row2_col12\" class=\"data row2 col12\" ></td>\n",
       "      <td id=\"T_c4b27_row2_col13\" class=\"data row2 col13\" >-0.000051</td>\n",
       "      <td id=\"T_c4b27_row2_col14\" class=\"data row2 col14\" >-0.000078</td>\n",
       "      <td id=\"T_c4b27_row2_col15\" class=\"data row2 col15\" ></td>\n",
       "      <td id=\"T_c4b27_row2_col16\" class=\"data row2 col16\" ></td>\n",
       "      <td id=\"T_c4b27_row2_col17\" class=\"data row2 col17\" ></td>\n",
       "      <td id=\"T_c4b27_row2_col18\" class=\"data row2 col18\" ></td>\n",
       "      <td id=\"T_c4b27_row2_col19\" class=\"data row2 col19\" ></td>\n",
       "    </tr>\n",
       "    <tr>\n",
       "      <th id=\"T_c4b27_level0_row3\" class=\"row_heading level0 row3\" >10</th>\n",
       "      <td id=\"T_c4b27_row3_col0\" class=\"data row3 col0\" >VIX SPX</td>\n",
       "      <td id=\"T_c4b27_row3_col1\" class=\"data row3 col1\" >0.013360</td>\n",
       "      <td id=\"T_c4b27_row3_col2\" class=\"data row3 col2\" >0.013893</td>\n",
       "      <td id=\"T_c4b27_row3_col3\" class=\"data row3 col3\" >0.000533</td>\n",
       "      <td id=\"T_c4b27_row3_col4\" class=\"data row3 col4\" ></td>\n",
       "      <td id=\"T_c4b27_row3_col5\" class=\"data row3 col5\" ></td>\n",
       "      <td id=\"T_c4b27_row3_col6\" class=\"data row3 col6\" ></td>\n",
       "      <td id=\"T_c4b27_row3_col7\" class=\"data row3 col7\" ></td>\n",
       "      <td id=\"T_c4b27_row3_col8\" class=\"data row3 col8\" >0.000419</td>\n",
       "      <td id=\"T_c4b27_row3_col9\" class=\"data row3 col9\" >0.000446</td>\n",
       "      <td id=\"T_c4b27_row3_col10\" class=\"data row3 col10\" >0.000226</td>\n",
       "      <td id=\"T_c4b27_row3_col11\" class=\"data row3 col11\" ></td>\n",
       "      <td id=\"T_c4b27_row3_col12\" class=\"data row3 col12\" ></td>\n",
       "      <td id=\"T_c4b27_row3_col13\" class=\"data row3 col13\" >0.000223</td>\n",
       "      <td id=\"T_c4b27_row3_col14\" class=\"data row3 col14\" >0.000262</td>\n",
       "      <td id=\"T_c4b27_row3_col15\" class=\"data row3 col15\" >0.000226</td>\n",
       "      <td id=\"T_c4b27_row3_col16\" class=\"data row3 col16\" >0.000226</td>\n",
       "      <td id=\"T_c4b27_row3_col17\" class=\"data row3 col17\" >0.000226</td>\n",
       "      <td id=\"T_c4b27_row3_col18\" class=\"data row3 col18\" >0.000226</td>\n",
       "      <td id=\"T_c4b27_row3_col19\" class=\"data row3 col19\" >0.000226</td>\n",
       "    </tr>\n",
       "  </tbody>\n",
       "</table>\n"
      ],
      "text/plain": [
       "<pandas.io.formats.style.Styler at 0x2da7371b6f0>"
      ]
     },
     "execution_count": 110,
     "metadata": {},
     "output_type": "execute_result"
    }
   ],
   "source": [
    "import pandas as pd\n",
    "\n",
    "# Função para colorir o **fundo** da célula com base no valor\n",
    "def background_delta(val):\n",
    "    if pd.isna(val):\n",
    "        return ''\n",
    "    elif val > 0:\n",
    "        return 'background-color: lightgreen'\n",
    "    elif val < 0:\n",
    "        return 'background-color: lightcoral'\n",
    "    else:\n",
    "        return 'background-color: lightgray'\n",
    "\n",
    "# Aplica a formatação condicional no fundo da coluna \"delta\"\n",
    "styled_df = filtered_codes_expor.style.applymap(background_delta, subset=['delta'])\n",
    "\n",
    "# Exibe em notebook Jupyter (ou salva como HTML, se quiser)\n",
    "styled_df\n"
   ]
  },
  {
   "cell_type": "code",
   "execution_count": null,
   "id": "832c85e6",
   "metadata": {},
   "outputs": [
    {
     "data": {
      "text/html": [
       "<style type=\"text/css\">\n",
       "#T_18327_row0_col7, #T_18327_row0_col8, #T_18327_row0_col9, #T_18327_row0_col10, #T_18327_row0_col11, #T_18327_row0_col12, #T_18327_row0_col13, #T_18327_row0_col14, #T_18327_row0_col15, #T_18327_row0_col16, #T_18327_row0_col17, #T_18327_row0_col18, #T_18327_row0_col19, #T_18327_row2_col4, #T_18327_row2_col5, #T_18327_row2_col6, #T_18327_row2_col7, #T_18327_row2_col8, #T_18327_row2_col11, #T_18327_row2_col13, #T_18327_row2_col14 {\n",
       "  background-color: lightcoral;\n",
       "}\n",
       "#T_18327_row1_col10, #T_18327_row1_col11, #T_18327_row1_col12, #T_18327_row1_col13, #T_18327_row1_col15, #T_18327_row1_col16, #T_18327_row1_col17, #T_18327_row1_col18, #T_18327_row1_col19, #T_18327_row3_col8, #T_18327_row3_col9, #T_18327_row3_col10, #T_18327_row3_col13, #T_18327_row3_col14, #T_18327_row3_col15, #T_18327_row3_col16, #T_18327_row3_col17, #T_18327_row3_col18, #T_18327_row3_col19 {\n",
       "  background-color: lightgreen;\n",
       "}\n",
       "</style>\n",
       "<table id=\"T_18327\">\n",
       "  <thead>\n",
       "    <tr>\n",
       "      <th class=\"blank level0\" >&nbsp;</th>\n",
       "      <th id=\"T_18327_level0_col0\" class=\"col_heading level0 col0\" >Names</th>\n",
       "      <th id=\"T_18327_level0_col1\" class=\"col_heading level0 col1\" >inicio</th>\n",
       "      <th id=\"T_18327_level0_col2\" class=\"col_heading level0 col2\" >fim</th>\n",
       "      <th id=\"T_18327_level0_col3\" class=\"col_heading level0 col3\" >delta</th>\n",
       "      <th id=\"T_18327_level0_col4\" class=\"col_heading level0 col4\" >1</th>\n",
       "      <th id=\"T_18327_level0_col5\" class=\"col_heading level0 col5\" >2</th>\n",
       "      <th id=\"T_18327_level0_col6\" class=\"col_heading level0 col6\" >3</th>\n",
       "      <th id=\"T_18327_level0_col7\" class=\"col_heading level0 col7\" >4</th>\n",
       "      <th id=\"T_18327_level0_col8\" class=\"col_heading level0 col8\" >5</th>\n",
       "      <th id=\"T_18327_level0_col9\" class=\"col_heading level0 col9\" >6</th>\n",
       "      <th id=\"T_18327_level0_col10\" class=\"col_heading level0 col10\" >7</th>\n",
       "      <th id=\"T_18327_level0_col11\" class=\"col_heading level0 col11\" >8</th>\n",
       "      <th id=\"T_18327_level0_col12\" class=\"col_heading level0 col12\" >9</th>\n",
       "      <th id=\"T_18327_level0_col13\" class=\"col_heading level0 col13\" >10</th>\n",
       "      <th id=\"T_18327_level0_col14\" class=\"col_heading level0 col14\" >11</th>\n",
       "      <th id=\"T_18327_level0_col15\" class=\"col_heading level0 col15\" >12</th>\n",
       "      <th id=\"T_18327_level0_col16\" class=\"col_heading level0 col16\" >13</th>\n",
       "      <th id=\"T_18327_level0_col17\" class=\"col_heading level0 col17\" >14</th>\n",
       "      <th id=\"T_18327_level0_col18\" class=\"col_heading level0 col18\" >15</th>\n",
       "      <th id=\"T_18327_level0_col19\" class=\"col_heading level0 col19\" >16</th>\n",
       "    </tr>\n",
       "  </thead>\n",
       "  <tbody>\n",
       "    <tr>\n",
       "      <th id=\"T_18327_level0_row0\" class=\"row_heading level0 row0\" >4</th>\n",
       "      <td id=\"T_18327_row0_col0\" class=\"data row0 col0\" >JPM FX Vol</td>\n",
       "      <td id=\"T_18327_row0_col1\" class=\"data row0 col1\" >0.007482</td>\n",
       "      <td id=\"T_18327_row0_col2\" class=\"data row0 col2\" >0.006648</td>\n",
       "      <td id=\"T_18327_row0_col3\" class=\"data row0 col3\" >-0.000834</td>\n",
       "      <td id=\"T_18327_row0_col4\" class=\"data row0 col4\" ></td>\n",
       "      <td id=\"T_18327_row0_col5\" class=\"data row0 col5\" ></td>\n",
       "      <td id=\"T_18327_row0_col6\" class=\"data row0 col6\" ></td>\n",
       "      <td id=\"T_18327_row0_col7\" class=\"data row0 col7\" >-0.004908</td>\n",
       "      <td id=\"T_18327_row0_col8\" class=\"data row0 col8\" >-0.003613</td>\n",
       "      <td id=\"T_18327_row0_col9\" class=\"data row0 col9\" >-0.003724</td>\n",
       "      <td id=\"T_18327_row0_col10\" class=\"data row0 col10\" >-0.003494</td>\n",
       "      <td id=\"T_18327_row0_col11\" class=\"data row0 col11\" >-0.003835</td>\n",
       "      <td id=\"T_18327_row0_col12\" class=\"data row0 col12\" >-0.003877</td>\n",
       "      <td id=\"T_18327_row0_col13\" class=\"data row0 col13\" >-0.003468</td>\n",
       "      <td id=\"T_18327_row0_col14\" class=\"data row0 col14\" >-0.003713</td>\n",
       "      <td id=\"T_18327_row0_col15\" class=\"data row0 col15\" >-0.003494</td>\n",
       "      <td id=\"T_18327_row0_col16\" class=\"data row0 col16\" >-0.003494</td>\n",
       "      <td id=\"T_18327_row0_col17\" class=\"data row0 col17\" >-0.003494</td>\n",
       "      <td id=\"T_18327_row0_col18\" class=\"data row0 col18\" >-0.003494</td>\n",
       "      <td id=\"T_18327_row0_col19\" class=\"data row0 col19\" >-0.003494</td>\n",
       "    </tr>\n",
       "    <tr>\n",
       "      <th id=\"T_18327_level0_row1\" class=\"row_heading level0 row1\" >6</th>\n",
       "      <td id=\"T_18327_row1_col0\" class=\"data row1 col0\" >MOVE</td>\n",
       "      <td id=\"T_18327_row1_col1\" class=\"data row1 col1\" >0.722172</td>\n",
       "      <td id=\"T_18327_row1_col2\" class=\"data row1 col2\" >0.768208</td>\n",
       "      <td id=\"T_18327_row1_col3\" class=\"data row1 col3\" >0.046036</td>\n",
       "      <td id=\"T_18327_row1_col4\" class=\"data row1 col4\" ></td>\n",
       "      <td id=\"T_18327_row1_col5\" class=\"data row1 col5\" ></td>\n",
       "      <td id=\"T_18327_row1_col6\" class=\"data row1 col6\" ></td>\n",
       "      <td id=\"T_18327_row1_col7\" class=\"data row1 col7\" ></td>\n",
       "      <td id=\"T_18327_row1_col8\" class=\"data row1 col8\" ></td>\n",
       "      <td id=\"T_18327_row1_col9\" class=\"data row1 col9\" ></td>\n",
       "      <td id=\"T_18327_row1_col10\" class=\"data row1 col10\" >0.000497</td>\n",
       "      <td id=\"T_18327_row1_col11\" class=\"data row1 col11\" >0.000718</td>\n",
       "      <td id=\"T_18327_row1_col12\" class=\"data row1 col12\" >0.000764</td>\n",
       "      <td id=\"T_18327_row1_col13\" class=\"data row1 col13\" >0.000470</td>\n",
       "      <td id=\"T_18327_row1_col14\" class=\"data row1 col14\" ></td>\n",
       "      <td id=\"T_18327_row1_col15\" class=\"data row1 col15\" >0.000497</td>\n",
       "      <td id=\"T_18327_row1_col16\" class=\"data row1 col16\" >0.000497</td>\n",
       "      <td id=\"T_18327_row1_col17\" class=\"data row1 col17\" >0.000497</td>\n",
       "      <td id=\"T_18327_row1_col18\" class=\"data row1 col18\" >0.000497</td>\n",
       "      <td id=\"T_18327_row1_col19\" class=\"data row1 col19\" >0.000497</td>\n",
       "    </tr>\n",
       "    <tr>\n",
       "      <th id=\"T_18327_level0_row2\" class=\"row_heading level0 row2\" >8</th>\n",
       "      <td id=\"T_18327_row2_col0\" class=\"data row2 col0\" >Ted Spread US (%)</td>\n",
       "      <td id=\"T_18327_row2_col1\" class=\"data row2 col1\" >0.002230</td>\n",
       "      <td id=\"T_18327_row2_col2\" class=\"data row2 col2\" >0.001814</td>\n",
       "      <td id=\"T_18327_row2_col3\" class=\"data row2 col3\" >-0.000416</td>\n",
       "      <td id=\"T_18327_row2_col4\" class=\"data row2 col4\" >-0.000656</td>\n",
       "      <td id=\"T_18327_row2_col5\" class=\"data row2 col5\" >-0.000666</td>\n",
       "      <td id=\"T_18327_row2_col6\" class=\"data row2 col6\" >-0.000510</td>\n",
       "      <td id=\"T_18327_row2_col7\" class=\"data row2 col7\" >-0.000289</td>\n",
       "      <td id=\"T_18327_row2_col8\" class=\"data row2 col8\" >-0.000141</td>\n",
       "      <td id=\"T_18327_row2_col9\" class=\"data row2 col9\" ></td>\n",
       "      <td id=\"T_18327_row2_col10\" class=\"data row2 col10\" ></td>\n",
       "      <td id=\"T_18327_row2_col11\" class=\"data row2 col11\" >-0.000070</td>\n",
       "      <td id=\"T_18327_row2_col12\" class=\"data row2 col12\" ></td>\n",
       "      <td id=\"T_18327_row2_col13\" class=\"data row2 col13\" >-0.000051</td>\n",
       "      <td id=\"T_18327_row2_col14\" class=\"data row2 col14\" >-0.000078</td>\n",
       "      <td id=\"T_18327_row2_col15\" class=\"data row2 col15\" ></td>\n",
       "      <td id=\"T_18327_row2_col16\" class=\"data row2 col16\" ></td>\n",
       "      <td id=\"T_18327_row2_col17\" class=\"data row2 col17\" ></td>\n",
       "      <td id=\"T_18327_row2_col18\" class=\"data row2 col18\" ></td>\n",
       "      <td id=\"T_18327_row2_col19\" class=\"data row2 col19\" ></td>\n",
       "    </tr>\n",
       "    <tr>\n",
       "      <th id=\"T_18327_level0_row3\" class=\"row_heading level0 row3\" >10</th>\n",
       "      <td id=\"T_18327_row3_col0\" class=\"data row3 col0\" >VIX SPX</td>\n",
       "      <td id=\"T_18327_row3_col1\" class=\"data row3 col1\" >0.013360</td>\n",
       "      <td id=\"T_18327_row3_col2\" class=\"data row3 col2\" >0.013893</td>\n",
       "      <td id=\"T_18327_row3_col3\" class=\"data row3 col3\" >0.000533</td>\n",
       "      <td id=\"T_18327_row3_col4\" class=\"data row3 col4\" ></td>\n",
       "      <td id=\"T_18327_row3_col5\" class=\"data row3 col5\" ></td>\n",
       "      <td id=\"T_18327_row3_col6\" class=\"data row3 col6\" ></td>\n",
       "      <td id=\"T_18327_row3_col7\" class=\"data row3 col7\" ></td>\n",
       "      <td id=\"T_18327_row3_col8\" class=\"data row3 col8\" >0.000419</td>\n",
       "      <td id=\"T_18327_row3_col9\" class=\"data row3 col9\" >0.000446</td>\n",
       "      <td id=\"T_18327_row3_col10\" class=\"data row3 col10\" >0.000226</td>\n",
       "      <td id=\"T_18327_row3_col11\" class=\"data row3 col11\" ></td>\n",
       "      <td id=\"T_18327_row3_col12\" class=\"data row3 col12\" ></td>\n",
       "      <td id=\"T_18327_row3_col13\" class=\"data row3 col13\" >0.000223</td>\n",
       "      <td id=\"T_18327_row3_col14\" class=\"data row3 col14\" >0.000262</td>\n",
       "      <td id=\"T_18327_row3_col15\" class=\"data row3 col15\" >0.000226</td>\n",
       "      <td id=\"T_18327_row3_col16\" class=\"data row3 col16\" >0.000226</td>\n",
       "      <td id=\"T_18327_row3_col17\" class=\"data row3 col17\" >0.000226</td>\n",
       "      <td id=\"T_18327_row3_col18\" class=\"data row3 col18\" >0.000226</td>\n",
       "      <td id=\"T_18327_row3_col19\" class=\"data row3 col19\" >0.000226</td>\n",
       "    </tr>\n",
       "  </tbody>\n",
       "</table>\n"
      ],
      "text/plain": [
       "<pandas.io.formats.style.Styler at 0x2da7371b230>"
      ]
     },
     "execution_count": 111,
     "metadata": {},
     "output_type": "execute_result"
    }
   ],
   "source": [
    "import pandas as pd\n",
    "import numpy as np\n",
    "\n",
    "# Função de formatação horizontal com verificação de tipo numérico\n",
    "def style_row(row):\n",
    "    styles = []\n",
    "    for col in row.index:\n",
    "        val = row[col]\n",
    "        if isinstance(val, (int, float, np.number)) and not pd.isna(val):\n",
    "            if val > 0:\n",
    "                styles.append('background-color: lightgreen')\n",
    "            elif val < 0:\n",
    "                styles.append('background-color: lightcoral')\n",
    "            else:\n",
    "                styles.append('background-color: lightgray')\n",
    "        else:\n",
    "            styles.append('')  # Deixa sem estilo se não for numérico\n",
    "    return styles\n",
    "\n",
    "# Define colunas para estilizar horizontalmente (da 'inicio' até '16')\n",
    "columns_to_style = filtered_codes_expor.loc[:, '1':'16'].columns\n",
    "\n",
    "# Aplica a formatação linha a linha nas colunas desejadas\n",
    "styled_df = filtered_codes_expor.style.apply(style_row, axis=1, subset=columns_to_style)\n",
    "\n",
    "# Exibir (em Jupyter) ou salvar como HTML\n",
    "styled_df\n"
   ]
  },
  {
   "cell_type": "code",
   "execution_count": null,
   "id": "813b6423",
   "metadata": {},
   "outputs": [
    {
     "data": {
      "text/html": [
       "<div>\n",
       "<style scoped>\n",
       "    .dataframe tbody tr th:only-of-type {\n",
       "        vertical-align: middle;\n",
       "    }\n",
       "\n",
       "    .dataframe tbody tr th {\n",
       "        vertical-align: top;\n",
       "    }\n",
       "\n",
       "    .dataframe thead th {\n",
       "        text-align: right;\n",
       "    }\n",
       "</style>\n",
       "<table border=\"1\" class=\"dataframe\">\n",
       "  <thead>\n",
       "    <tr style=\"text-align: right;\">\n",
       "      <th></th>\n",
       "      <th>JPM FX Vol</th>\n",
       "      <th>MOVE</th>\n",
       "      <th>Ted Spread US (%)</th>\n",
       "      <th>VIX SPX</th>\n",
       "    </tr>\n",
       "  </thead>\n",
       "  <tbody>\n",
       "    <tr>\n",
       "      <th>Initial Pred</th>\n",
       "      <td>0.280066</td>\n",
       "      <td>-0.022383</td>\n",
       "      <td>0.068802</td>\n",
       "      <td>-0.047245</td>\n",
       "    </tr>\n",
       "    <tr>\n",
       "      <th>FinalA Pred</th>\n",
       "      <td>0.231966</td>\n",
       "      <td>-0.017448</td>\n",
       "      <td>0.066340</td>\n",
       "      <td>-0.044540</td>\n",
       "    </tr>\n",
       "    <tr>\n",
       "      <th>Period Variation (bps)</th>\n",
       "      <td>-4.809984</td>\n",
       "      <td>0.493510</td>\n",
       "      <td>-0.246191</td>\n",
       "      <td>0.270543</td>\n",
       "    </tr>\n",
       "  </tbody>\n",
       "</table>\n",
       "</div>"
      ],
      "text/plain": [
       "                        JPM FX Vol      MOVE  Ted Spread US (%)   VIX SPX\n",
       "Initial Pred              0.280066 -0.022383           0.068802 -0.047245\n",
       "FinalA Pred               0.231966 -0.017448           0.066340 -0.044540\n",
       "Period Variation (bps)   -4.809984  0.493510          -0.246191  0.270543"
      ]
     },
     "execution_count": 112,
     "metadata": {},
     "output_type": "execute_result"
    }
   ],
   "source": [
    "df_result_renamed"
   ]
  },
  {
   "cell_type": "code",
   "execution_count": null,
   "id": "67bf3809",
   "metadata": {},
   "outputs": [
    {
     "data": {
      "text/html": [
       "<style type=\"text/css\">\n",
       "#T_06ee8_row0_col0, #T_06ee8_row1_col0 {\n",
       "  font-weight: bold;\n",
       "}\n",
       "#T_06ee8_row2_col0 {\n",
       "  color: blue;\n",
       "  font-weight: bold;\n",
       "}\n",
       "#T_06ee8_row2_col1, #T_06ee8_row2_col3 {\n",
       "  color: red;\n",
       "}\n",
       "#T_06ee8_row2_col2 {\n",
       "  color: blue;\n",
       "}\n",
       "</style>\n",
       "<table id=\"T_06ee8\">\n",
       "  <caption>Tabela com Formatação Condicional</caption>\n",
       "  <thead>\n",
       "    <tr>\n",
       "      <th class=\"blank level0\" >&nbsp;</th>\n",
       "      <th id=\"T_06ee8_level0_col0\" class=\"col_heading level0 col0\" >JPM FX Vol</th>\n",
       "      <th id=\"T_06ee8_level0_col1\" class=\"col_heading level0 col1\" >MOVE</th>\n",
       "      <th id=\"T_06ee8_level0_col2\" class=\"col_heading level0 col2\" >Ted Spread US (%)</th>\n",
       "      <th id=\"T_06ee8_level0_col3\" class=\"col_heading level0 col3\" >VIX SPX</th>\n",
       "    </tr>\n",
       "  </thead>\n",
       "  <tbody>\n",
       "    <tr>\n",
       "      <th id=\"T_06ee8_level0_row0\" class=\"row_heading level0 row0\" >Initial Pred</th>\n",
       "      <td id=\"T_06ee8_row0_col0\" class=\"data row0 col0\" >0.280066</td>\n",
       "      <td id=\"T_06ee8_row0_col1\" class=\"data row0 col1\" >-0.022383</td>\n",
       "      <td id=\"T_06ee8_row0_col2\" class=\"data row0 col2\" >0.068802</td>\n",
       "      <td id=\"T_06ee8_row0_col3\" class=\"data row0 col3\" >-0.047245</td>\n",
       "    </tr>\n",
       "    <tr>\n",
       "      <th id=\"T_06ee8_level0_row1\" class=\"row_heading level0 row1\" >FinalA Pred</th>\n",
       "      <td id=\"T_06ee8_row1_col0\" class=\"data row1 col0\" >0.231966</td>\n",
       "      <td id=\"T_06ee8_row1_col1\" class=\"data row1 col1\" >-0.017448</td>\n",
       "      <td id=\"T_06ee8_row1_col2\" class=\"data row1 col2\" >0.066340</td>\n",
       "      <td id=\"T_06ee8_row1_col3\" class=\"data row1 col3\" >-0.044540</td>\n",
       "    </tr>\n",
       "    <tr>\n",
       "      <th id=\"T_06ee8_level0_row2\" class=\"row_heading level0 row2\" >Period Variation (bps)</th>\n",
       "      <td id=\"T_06ee8_row2_col0\" class=\"data row2 col0\" >-4.809984</td>\n",
       "      <td id=\"T_06ee8_row2_col1\" class=\"data row2 col1\" >0.493510</td>\n",
       "      <td id=\"T_06ee8_row2_col2\" class=\"data row2 col2\" >-0.246191</td>\n",
       "      <td id=\"T_06ee8_row2_col3\" class=\"data row2 col3\" >0.270543</td>\n",
       "    </tr>\n",
       "  </tbody>\n",
       "</table>\n"
      ],
      "text/plain": [
       "<pandas.io.formats.style.Styler at 0x2da6fba7820>"
      ]
     },
     "execution_count": 113,
     "metadata": {},
     "output_type": "execute_result"
    }
   ],
   "source": [
    "def highlight_variation(val):\n",
    "    \"\"\"Color negative in blue, positive in red.\"\"\"\n",
    "    color = ''\n",
    "    if isinstance(val, (int, float)):\n",
    "        if val > 0:\n",
    "            color = 'color: red'\n",
    "        elif val < 0:\n",
    "            color = 'color: blue'\n",
    "    return color\n",
    "\n",
    "def add_arrows(val):\n",
    "    \"\"\"Add arrow emojis for direction.\"\"\"\n",
    "    if isinstance(val, (int, float)):\n",
    "        if val > 0:\n",
    "            return f\"🔺 {val:.6f}\"\n",
    "        elif val < 0:\n",
    "            return f\"🔻 {val:.6f}\"\n",
    "    return f\"{val:.6f}\"\n",
    "\n",
    "def bold_max(s):\n",
    "    \"\"\"Bold the most extreme value in a row (by magnitude).\"\"\"\n",
    "    max_idx = np.abs(s).idxmax()\n",
    "    return ['font-weight: bold' if idx == max_idx else '' for idx in s.index]\n",
    "\n",
    "# Aplica os estilos\n",
    "styled = df_result_renamed.copy()\n",
    "\n",
    "# Aplica setas apenas na linha de variação\n",
    "styled.loc['Period Variation (bps)'] = styled.loc['Period Variation (bps)'].apply(add_arrows)\n",
    "\n",
    "# Renderizar com estilo\n",
    "styled = df_result_renamed.style\\\n",
    "    .applymap(highlight_variation, subset=pd.IndexSlice['Period Variation (bps)', :])\\\n",
    "    .apply(bold_max, axis=1)\\\n",
    "    .format(precision=6)\\\n",
    "    .set_caption(\"Tabela com Formatação Condicional\")\n",
    "\n",
    "styled"
   ]
  }
 ],
 "metadata": {
  "kernelspec": {
   "display_name": "Python 3",
   "language": "python",
   "name": "python3"
  },
  "language_info": {
   "codemirror_mode": {
    "name": "ipython",
    "version": 3
   },
   "file_extension": ".py",
   "mimetype": "text/x-python",
   "name": "python",
   "nbconvert_exporter": "python",
   "pygments_lexer": "ipython3",
   "version": "3.13.1"
  }
 },
 "nbformat": 4,
 "nbformat_minor": 5
}
